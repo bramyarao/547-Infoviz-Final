{
 "cells": [
  {
   "cell_type": "code",
   "execution_count": 15,
   "metadata": {},
   "outputs": [],
   "source": [
    "import pandas as pd\n",
    "import plotly.graph_objects as go\n",
    "import json"
   ]
  },
  {
   "cell_type": "code",
   "execution_count": 16,
   "metadata": {},
   "outputs": [
    {
     "data": {
      "text/html": [
       "<div>\n",
       "<style scoped>\n",
       "    .dataframe tbody tr th:only-of-type {\n",
       "        vertical-align: middle;\n",
       "    }\n",
       "\n",
       "    .dataframe tbody tr th {\n",
       "        vertical-align: top;\n",
       "    }\n",
       "\n",
       "    .dataframe thead th {\n",
       "        text-align: right;\n",
       "    }\n",
       "</style>\n",
       "<table border=\"1\" class=\"dataframe\">\n",
       "  <thead>\n",
       "    <tr style=\"text-align: right;\">\n",
       "      <th></th>\n",
       "      <th>States</th>\n",
       "      <th>State Abbreviation</th>\n",
       "      <th>Y2006</th>\n",
       "      <th>Y2010</th>\n",
       "      <th>Y2014</th>\n",
       "      <th>Y2018</th>\n",
       "    </tr>\n",
       "  </thead>\n",
       "  <tbody>\n",
       "    <tr>\n",
       "      <th>0</th>\n",
       "      <td>Uttarakhand</td>\n",
       "      <td>UK</td>\n",
       "      <td>178.0</td>\n",
       "      <td>227.0</td>\n",
       "      <td>340</td>\n",
       "      <td>442</td>\n",
       "    </tr>\n",
       "    <tr>\n",
       "      <th>1</th>\n",
       "      <td>Uttar Pradesh</td>\n",
       "      <td>UP</td>\n",
       "      <td>109.0</td>\n",
       "      <td>118.0</td>\n",
       "      <td>117</td>\n",
       "      <td>173</td>\n",
       "    </tr>\n",
       "    <tr>\n",
       "      <th>2</th>\n",
       "      <td>Bihar</td>\n",
       "      <td>BR</td>\n",
       "      <td>10.0</td>\n",
       "      <td>8.0</td>\n",
       "      <td>28</td>\n",
       "      <td>31</td>\n",
       "    </tr>\n",
       "    <tr>\n",
       "      <th>3</th>\n",
       "      <td>Andhra Pradesh (Including Telangana)</td>\n",
       "      <td>APTS</td>\n",
       "      <td>95.0</td>\n",
       "      <td>72.0</td>\n",
       "      <td>68</td>\n",
       "      <td>74</td>\n",
       "    </tr>\n",
       "    <tr>\n",
       "      <th>4</th>\n",
       "      <td>Chattisgarh</td>\n",
       "      <td>CG</td>\n",
       "      <td>26.0</td>\n",
       "      <td>26.0</td>\n",
       "      <td>46</td>\n",
       "      <td>19</td>\n",
       "    </tr>\n",
       "    <tr>\n",
       "      <th>5</th>\n",
       "      <td>Madhya Pradesh</td>\n",
       "      <td>MP</td>\n",
       "      <td>300.0</td>\n",
       "      <td>257.0</td>\n",
       "      <td>308</td>\n",
       "      <td>526</td>\n",
       "    </tr>\n",
       "    <tr>\n",
       "      <th>6</th>\n",
       "      <td>Maharashtra</td>\n",
       "      <td>MH</td>\n",
       "      <td>103.0</td>\n",
       "      <td>169.0</td>\n",
       "      <td>190</td>\n",
       "      <td>312</td>\n",
       "    </tr>\n",
       "    <tr>\n",
       "      <th>7</th>\n",
       "      <td>Odisha</td>\n",
       "      <td>OD</td>\n",
       "      <td>45.0</td>\n",
       "      <td>32.0</td>\n",
       "      <td>28</td>\n",
       "      <td>28</td>\n",
       "    </tr>\n",
       "    <tr>\n",
       "      <th>8</th>\n",
       "      <td>Rajasthan</td>\n",
       "      <td>RJ</td>\n",
       "      <td>32.0</td>\n",
       "      <td>36.0</td>\n",
       "      <td>45</td>\n",
       "      <td>36</td>\n",
       "    </tr>\n",
       "    <tr>\n",
       "      <th>9</th>\n",
       "      <td>Jharkhand</td>\n",
       "      <td>JH</td>\n",
       "      <td>NaN</td>\n",
       "      <td>10.0</td>\n",
       "      <td>3</td>\n",
       "      <td>5</td>\n",
       "    </tr>\n",
       "    <tr>\n",
       "      <th>10</th>\n",
       "      <td>Karnataka</td>\n",
       "      <td>KA</td>\n",
       "      <td>290.0</td>\n",
       "      <td>300.0</td>\n",
       "      <td>406</td>\n",
       "      <td>524</td>\n",
       "    </tr>\n",
       "    <tr>\n",
       "      <th>11</th>\n",
       "      <td>Kerala</td>\n",
       "      <td>KL</td>\n",
       "      <td>46.0</td>\n",
       "      <td>71.0</td>\n",
       "      <td>136</td>\n",
       "      <td>190</td>\n",
       "    </tr>\n",
       "    <tr>\n",
       "      <th>12</th>\n",
       "      <td>Tamil Nadu</td>\n",
       "      <td>TN</td>\n",
       "      <td>76.0</td>\n",
       "      <td>163.0</td>\n",
       "      <td>229</td>\n",
       "      <td>264</td>\n",
       "    </tr>\n",
       "    <tr>\n",
       "      <th>13</th>\n",
       "      <td>Goa</td>\n",
       "      <td>GA</td>\n",
       "      <td>NaN</td>\n",
       "      <td>NaN</td>\n",
       "      <td>5</td>\n",
       "      <td>3</td>\n",
       "    </tr>\n",
       "    <tr>\n",
       "      <th>14</th>\n",
       "      <td>Assam</td>\n",
       "      <td>AS</td>\n",
       "      <td>70.0</td>\n",
       "      <td>143.0</td>\n",
       "      <td>167</td>\n",
       "      <td>190</td>\n",
       "    </tr>\n",
       "    <tr>\n",
       "      <th>15</th>\n",
       "      <td>Arunachal Pradesh</td>\n",
       "      <td>AR</td>\n",
       "      <td>14.0</td>\n",
       "      <td>NaN</td>\n",
       "      <td>28</td>\n",
       "      <td>29</td>\n",
       "    </tr>\n",
       "    <tr>\n",
       "      <th>16</th>\n",
       "      <td>Mizoram</td>\n",
       "      <td>MZ</td>\n",
       "      <td>6.0</td>\n",
       "      <td>5.0</td>\n",
       "      <td>3</td>\n",
       "      <td>0</td>\n",
       "    </tr>\n",
       "    <tr>\n",
       "      <th>17</th>\n",
       "      <td>Northern West Bengal</td>\n",
       "      <td>NWB</td>\n",
       "      <td>10.0</td>\n",
       "      <td>NaN</td>\n",
       "      <td>3</td>\n",
       "      <td>0</td>\n",
       "    </tr>\n",
       "    <tr>\n",
       "      <th>18</th>\n",
       "      <td>Sunderbans</td>\n",
       "      <td>SB</td>\n",
       "      <td>NaN</td>\n",
       "      <td>70.0</td>\n",
       "      <td>76</td>\n",
       "      <td>88</td>\n",
       "    </tr>\n",
       "  </tbody>\n",
       "</table>\n",
       "</div>"
      ],
      "text/plain": [
       "                                  States State Abbreviation  Y2006  Y2010  \\\n",
       "0                            Uttarakhand                 UK  178.0  227.0   \n",
       "1                          Uttar Pradesh                 UP  109.0  118.0   \n",
       "2                                  Bihar                 BR   10.0    8.0   \n",
       "3   Andhra Pradesh (Including Telangana)               APTS   95.0   72.0   \n",
       "4                            Chattisgarh                 CG   26.0   26.0   \n",
       "5                         Madhya Pradesh                 MP  300.0  257.0   \n",
       "6                            Maharashtra                 MH  103.0  169.0   \n",
       "7                                 Odisha                 OD   45.0   32.0   \n",
       "8                              Rajasthan                 RJ   32.0   36.0   \n",
       "9                              Jharkhand                 JH    NaN   10.0   \n",
       "10                             Karnataka                 KA  290.0  300.0   \n",
       "11                                Kerala                 KL   46.0   71.0   \n",
       "12                            Tamil Nadu                 TN   76.0  163.0   \n",
       "13                                   Goa                 GA    NaN    NaN   \n",
       "14                                 Assam                 AS   70.0  143.0   \n",
       "15                     Arunachal Pradesh                 AR   14.0    NaN   \n",
       "16                               Mizoram                 MZ    6.0    5.0   \n",
       "17                  Northern West Bengal                NWB   10.0    NaN   \n",
       "18                            Sunderbans                 SB    NaN   70.0   \n",
       "\n",
       "    Y2014  Y2018  \n",
       "0     340    442  \n",
       "1     117    173  \n",
       "2      28     31  \n",
       "3      68     74  \n",
       "4      46     19  \n",
       "5     308    526  \n",
       "6     190    312  \n",
       "7      28     28  \n",
       "8      45     36  \n",
       "9       3      5  \n",
       "10    406    524  \n",
       "11    136    190  \n",
       "12    229    264  \n",
       "13      5      3  \n",
       "14    167    190  \n",
       "15     28     29  \n",
       "16      3      0  \n",
       "17      3      0  \n",
       "18     76     88  "
      ]
     },
     "execution_count": 16,
     "metadata": {},
     "output_type": "execute_result"
    }
   ],
   "source": [
    "df = pd.read_excel('..\\Data\\Extracted_data.xlsx', sheet_name ='Sheet1' )\n",
    "df"
   ]
  },
  {
   "cell_type": "code",
   "execution_count": 17,
   "metadata": {},
   "outputs": [],
   "source": [
    "xval = df[\"State Abbreviation\"]"
   ]
  },
  {
   "cell_type": "code",
   "execution_count": 18,
   "metadata": {},
   "outputs": [],
   "source": [
    "y2006 = df[\"Y2006\"]\n",
    "y2006 = y2006.fillna(0)   # Replacing NaN with 0\n",
    "y2006 = y2006.astype(int) # Converting all tiger count values to intergers\n",
    "\n",
    "y2010 = df[\"Y2010\"]\n",
    "y2010 = y2010.fillna(0)\n",
    "y2010 = y2010.astype(int)\n",
    "\n",
    "y2014 = df[\"Y2014\"]\n",
    "y2014 = y2014.fillna(0)\n",
    "y2014 = y2014.astype(int)\n",
    "\n",
    "y2018 = df[\"Y2018\"]\n",
    "y2018 = y2018.fillna(0) \n",
    "y2018 = y2018.astype(int)"
   ]
  },
  {
   "cell_type": "code",
   "execution_count": 19,
   "metadata": {},
   "outputs": [],
   "source": [
    "# Parameters for scaling the marker areas\n",
    "add_val = 30 #20\n",
    "div_val = 4\n",
    "\n",
    "def scale_and_color_vec(yInput, add_val, div_val):\n",
    "    \n",
    "    # Creating the vector that provides the area size for the marker\n",
    "    # add_val is a small value that is added so that zeros also have a small marker size\n",
    "    # div_val is used so that the magnitudes of the markers are not too big\n",
    "    \n",
    "    yInputScale = yInput.add(add_val)\n",
    "    yInputScale = yInputScale.truediv(div_val)\n",
    "    \n",
    "    # *** Creating the color vector where min and max have different colors and zeros have a different color ***\n",
    "    # Getting the max and min values (min value greater than zero, so second lowest value) of the yInput vector\n",
    "    \n",
    "    yInputMax = yInput.max()\n",
    "    yInputMin = yInput[yInput>0.1].min()\n",
    "    \n",
    "    yInputColor = []\n",
    "    \n",
    "    for i in range(len(yInput)):\n",
    "        if yInput[i] == 0:\n",
    "            yInputColor.append('Black')\n",
    "        elif yInput[i] == yInputMin:\n",
    "            yInputColor.append('#b2182b')\n",
    "        elif yInput[i] == yInputMax:\n",
    "            yInputColor.append('#2166ac') #rgb(93,62,153) \n",
    "        else:\n",
    "            yInputColor.append('Orange')\n",
    "            \n",
    "    return yInputScale, yInputColor    \n",
    "\n",
    "\n",
    "y2006scale, y2006color = scale_and_color_vec(y2006, add_val, div_val)\n",
    "y2010scale, y2010color = scale_and_color_vec(y2010, add_val, div_val)\n",
    "y2014scale, y2014color = scale_and_color_vec(y2014, add_val, div_val)\n",
    "y2018scale, y2018color = scale_and_color_vec(y2018, add_val, div_val)"
   ]
  },
  {
   "cell_type": "code",
   "execution_count": 20,
   "metadata": {},
   "outputs": [
    {
     "data": {
      "application/vnd.plotly.v1+json": {
       "config": {
        "plotlyServerURL": "https://plot.ly"
       },
       "data": [
        {
         "marker": {
          "color": [
           "Orange",
           "Orange",
           "Orange",
           "Orange",
           "Orange",
           "#2166ac",
           "Orange",
           "Orange",
           "Orange",
           "Black",
           "Orange",
           "Orange",
           "Orange",
           "Black",
           "Orange",
           "Orange",
           "#b2182b",
           "Orange",
           "Black"
          ],
          "size": [
           52,
           34.75,
           10,
           31.25,
           14,
           82.5,
           33.25,
           18.75,
           15.5,
           7.5,
           80,
           19,
           26.5,
           7.5,
           25,
           11,
           9,
           10,
           7.5
          ]
         },
         "mode": "markers",
         "name": "2006",
         "type": "scatter",
         "x": [
          "UK",
          "UP",
          "BR",
          "APTS",
          "CG",
          "MP",
          "MH",
          "OD",
          "RJ",
          "JH",
          "KA",
          "KL",
          "TN",
          "GA",
          "AS",
          "AR",
          "MZ",
          "NWB",
          "SB"
         ],
         "y": [
          178,
          109,
          10,
          95,
          26,
          300,
          103,
          45,
          32,
          0,
          290,
          46,
          76,
          0,
          70,
          14,
          6,
          10,
          0
         ]
        }
       ],
       "frames": [
        {
         "data": [
          {
           "marker": {
            "color": [
             "Orange",
             "Orange",
             "Orange",
             "Orange",
             "Orange",
             "#2166ac",
             "Orange",
             "Orange",
             "Orange",
             "Black",
             "Orange",
             "Orange",
             "Orange",
             "Black",
             "Orange",
             "Orange",
             "#b2182b",
             "Orange",
             "Black"
            ],
            "size": [
             52,
             34.75,
             10,
             31.25,
             14,
             82.5,
             33.25,
             18.75,
             15.5,
             7.5,
             80,
             19,
             26.5,
             7.5,
             25,
             11,
             9,
             10,
             7.5
            ]
           },
           "mode": "markers",
           "name": "2006",
           "type": "scatter",
           "x": [
            "UK",
            "UP",
            "BR",
            "APTS",
            "CG",
            "MP",
            "MH",
            "OD",
            "RJ",
            "JH",
            "KA",
            "KL",
            "TN",
            "GA",
            "AS",
            "AR",
            "MZ",
            "NWB",
            "SB"
           ],
           "y": [
            178,
            109,
            10,
            95,
            26,
            300,
            103,
            45,
            32,
            0,
            290,
            46,
            76,
            0,
            70,
            14,
            6,
            10,
            0
           ]
          }
         ]
        },
        {
         "data": [
          {
           "marker": {
            "color": [
             "Orange",
             "Orange",
             "Orange",
             "Orange",
             "Orange",
             "Orange",
             "Orange",
             "Orange",
             "Orange",
             "Orange",
             "#2166ac",
             "Orange",
             "Orange",
             "Black",
             "Orange",
             "Black",
             "#b2182b",
             "Black",
             "Orange"
            ],
            "size": [
             64.25,
             37,
             9.5,
             25.5,
             14,
             71.75,
             49.75,
             15.5,
             16.5,
             10,
             82.5,
             25.25,
             48.25,
             7.5,
             43.25,
             7.5,
             8.75,
             7.5,
             25
            ]
           },
           "mode": "markers",
           "name": "2010",
           "type": "scatter",
           "x": [
            "UK",
            "UP",
            "BR",
            "APTS",
            "CG",
            "MP",
            "MH",
            "OD",
            "RJ",
            "JH",
            "KA",
            "KL",
            "TN",
            "GA",
            "AS",
            "AR",
            "MZ",
            "NWB",
            "SB"
           ],
           "y": [
            227,
            118,
            8,
            72,
            26,
            257,
            169,
            32,
            36,
            10,
            300,
            71,
            163,
            0,
            143,
            0,
            5,
            0,
            70
           ]
          }
         ]
        },
        {
         "data": [
          {
           "marker": {
            "color": [
             "Orange",
             "Orange",
             "Orange",
             "Orange",
             "Orange",
             "Orange",
             "Orange",
             "Orange",
             "Orange",
             "#b2182b",
             "#2166ac",
             "Orange",
             "Orange",
             "Orange",
             "Orange",
             "Orange",
             "#b2182b",
             "#b2182b",
             "Orange"
            ],
            "size": [
             92.5,
             36.75,
             14.5,
             24.5,
             19,
             84.5,
             55,
             14.5,
             18.75,
             8.25,
             109,
             41.5,
             64.75,
             8.75,
             49.25,
             14.5,
             8.25,
             8.25,
             26.5
            ]
           },
           "mode": "markers",
           "name": "2014",
           "type": "scatter",
           "x": [
            "UK",
            "UP",
            "BR",
            "APTS",
            "CG",
            "MP",
            "MH",
            "OD",
            "RJ",
            "JH",
            "KA",
            "KL",
            "TN",
            "GA",
            "AS",
            "AR",
            "MZ",
            "NWB",
            "SB"
           ],
           "y": [
            340,
            117,
            28,
            68,
            46,
            308,
            190,
            28,
            45,
            3,
            406,
            136,
            229,
            5,
            167,
            28,
            3,
            3,
            76
           ]
          }
         ]
        },
        {
         "data": [
          {
           "marker": {
            "color": [
             "Orange",
             "Orange",
             "Orange",
             "Orange",
             "Orange",
             "#2166ac",
             "Orange",
             "Orange",
             "Orange",
             "Orange",
             "Orange",
             "Orange",
             "Orange",
             "#b2182b",
             "Orange",
             "Orange",
             "Black",
             "Black",
             "Orange"
            ],
            "size": [
             118,
             50.75,
             15.25,
             26,
             12.25,
             139,
             85.5,
             14.5,
             16.5,
             8.75,
             138.5,
             55,
             73.5,
             8.25,
             55,
             14.75,
             7.5,
             7.5,
             29.5
            ]
           },
           "mode": "markers",
           "name": "2018",
           "type": "scatter",
           "x": [
            "UK",
            "UP",
            "BR",
            "APTS",
            "CG",
            "MP",
            "MH",
            "OD",
            "RJ",
            "JH",
            "KA",
            "KL",
            "TN",
            "GA",
            "AS",
            "AR",
            "MZ",
            "NWB",
            "SB"
           ],
           "y": [
            442,
            173,
            31,
            74,
            19,
            526,
            312,
            28,
            36,
            5,
            524,
            190,
            264,
            3,
            190,
            29,
            0,
            0,
            88
           ]
          }
         ]
        }
       ],
       "layout": {
        "autosize": true,
        "legend": {
         "title": {
          "text": "Tiger count:"
         }
        },
        "showlegend": true,
        "template": {
         "data": {
          "bar": [
           {
            "error_x": {
             "color": "#2a3f5f"
            },
            "error_y": {
             "color": "#2a3f5f"
            },
            "marker": {
             "line": {
              "color": "#E5ECF6",
              "width": 0.5
             }
            },
            "type": "bar"
           }
          ],
          "barpolar": [
           {
            "marker": {
             "line": {
              "color": "#E5ECF6",
              "width": 0.5
             }
            },
            "type": "barpolar"
           }
          ],
          "carpet": [
           {
            "aaxis": {
             "endlinecolor": "#2a3f5f",
             "gridcolor": "white",
             "linecolor": "white",
             "minorgridcolor": "white",
             "startlinecolor": "#2a3f5f"
            },
            "baxis": {
             "endlinecolor": "#2a3f5f",
             "gridcolor": "white",
             "linecolor": "white",
             "minorgridcolor": "white",
             "startlinecolor": "#2a3f5f"
            },
            "type": "carpet"
           }
          ],
          "choropleth": [
           {
            "colorbar": {
             "outlinewidth": 0,
             "ticks": ""
            },
            "type": "choropleth"
           }
          ],
          "contour": [
           {
            "colorbar": {
             "outlinewidth": 0,
             "ticks": ""
            },
            "colorscale": [
             [
              0,
              "#0d0887"
             ],
             [
              0.1111111111111111,
              "#46039f"
             ],
             [
              0.2222222222222222,
              "#7201a8"
             ],
             [
              0.3333333333333333,
              "#9c179e"
             ],
             [
              0.4444444444444444,
              "#bd3786"
             ],
             [
              0.5555555555555556,
              "#d8576b"
             ],
             [
              0.6666666666666666,
              "#ed7953"
             ],
             [
              0.7777777777777778,
              "#fb9f3a"
             ],
             [
              0.8888888888888888,
              "#fdca26"
             ],
             [
              1,
              "#f0f921"
             ]
            ],
            "type": "contour"
           }
          ],
          "contourcarpet": [
           {
            "colorbar": {
             "outlinewidth": 0,
             "ticks": ""
            },
            "type": "contourcarpet"
           }
          ],
          "heatmap": [
           {
            "colorbar": {
             "outlinewidth": 0,
             "ticks": ""
            },
            "colorscale": [
             [
              0,
              "#0d0887"
             ],
             [
              0.1111111111111111,
              "#46039f"
             ],
             [
              0.2222222222222222,
              "#7201a8"
             ],
             [
              0.3333333333333333,
              "#9c179e"
             ],
             [
              0.4444444444444444,
              "#bd3786"
             ],
             [
              0.5555555555555556,
              "#d8576b"
             ],
             [
              0.6666666666666666,
              "#ed7953"
             ],
             [
              0.7777777777777778,
              "#fb9f3a"
             ],
             [
              0.8888888888888888,
              "#fdca26"
             ],
             [
              1,
              "#f0f921"
             ]
            ],
            "type": "heatmap"
           }
          ],
          "heatmapgl": [
           {
            "colorbar": {
             "outlinewidth": 0,
             "ticks": ""
            },
            "colorscale": [
             [
              0,
              "#0d0887"
             ],
             [
              0.1111111111111111,
              "#46039f"
             ],
             [
              0.2222222222222222,
              "#7201a8"
             ],
             [
              0.3333333333333333,
              "#9c179e"
             ],
             [
              0.4444444444444444,
              "#bd3786"
             ],
             [
              0.5555555555555556,
              "#d8576b"
             ],
             [
              0.6666666666666666,
              "#ed7953"
             ],
             [
              0.7777777777777778,
              "#fb9f3a"
             ],
             [
              0.8888888888888888,
              "#fdca26"
             ],
             [
              1,
              "#f0f921"
             ]
            ],
            "type": "heatmapgl"
           }
          ],
          "histogram": [
           {
            "marker": {
             "colorbar": {
              "outlinewidth": 0,
              "ticks": ""
             }
            },
            "type": "histogram"
           }
          ],
          "histogram2d": [
           {
            "colorbar": {
             "outlinewidth": 0,
             "ticks": ""
            },
            "colorscale": [
             [
              0,
              "#0d0887"
             ],
             [
              0.1111111111111111,
              "#46039f"
             ],
             [
              0.2222222222222222,
              "#7201a8"
             ],
             [
              0.3333333333333333,
              "#9c179e"
             ],
             [
              0.4444444444444444,
              "#bd3786"
             ],
             [
              0.5555555555555556,
              "#d8576b"
             ],
             [
              0.6666666666666666,
              "#ed7953"
             ],
             [
              0.7777777777777778,
              "#fb9f3a"
             ],
             [
              0.8888888888888888,
              "#fdca26"
             ],
             [
              1,
              "#f0f921"
             ]
            ],
            "type": "histogram2d"
           }
          ],
          "histogram2dcontour": [
           {
            "colorbar": {
             "outlinewidth": 0,
             "ticks": ""
            },
            "colorscale": [
             [
              0,
              "#0d0887"
             ],
             [
              0.1111111111111111,
              "#46039f"
             ],
             [
              0.2222222222222222,
              "#7201a8"
             ],
             [
              0.3333333333333333,
              "#9c179e"
             ],
             [
              0.4444444444444444,
              "#bd3786"
             ],
             [
              0.5555555555555556,
              "#d8576b"
             ],
             [
              0.6666666666666666,
              "#ed7953"
             ],
             [
              0.7777777777777778,
              "#fb9f3a"
             ],
             [
              0.8888888888888888,
              "#fdca26"
             ],
             [
              1,
              "#f0f921"
             ]
            ],
            "type": "histogram2dcontour"
           }
          ],
          "mesh3d": [
           {
            "colorbar": {
             "outlinewidth": 0,
             "ticks": ""
            },
            "type": "mesh3d"
           }
          ],
          "parcoords": [
           {
            "line": {
             "colorbar": {
              "outlinewidth": 0,
              "ticks": ""
             }
            },
            "type": "parcoords"
           }
          ],
          "pie": [
           {
            "automargin": true,
            "type": "pie"
           }
          ],
          "scatter": [
           {
            "marker": {
             "colorbar": {
              "outlinewidth": 0,
              "ticks": ""
             }
            },
            "type": "scatter"
           }
          ],
          "scatter3d": [
           {
            "line": {
             "colorbar": {
              "outlinewidth": 0,
              "ticks": ""
             }
            },
            "marker": {
             "colorbar": {
              "outlinewidth": 0,
              "ticks": ""
             }
            },
            "type": "scatter3d"
           }
          ],
          "scattercarpet": [
           {
            "marker": {
             "colorbar": {
              "outlinewidth": 0,
              "ticks": ""
             }
            },
            "type": "scattercarpet"
           }
          ],
          "scattergeo": [
           {
            "marker": {
             "colorbar": {
              "outlinewidth": 0,
              "ticks": ""
             }
            },
            "type": "scattergeo"
           }
          ],
          "scattergl": [
           {
            "marker": {
             "colorbar": {
              "outlinewidth": 0,
              "ticks": ""
             }
            },
            "type": "scattergl"
           }
          ],
          "scattermapbox": [
           {
            "marker": {
             "colorbar": {
              "outlinewidth": 0,
              "ticks": ""
             }
            },
            "type": "scattermapbox"
           }
          ],
          "scatterpolar": [
           {
            "marker": {
             "colorbar": {
              "outlinewidth": 0,
              "ticks": ""
             }
            },
            "type": "scatterpolar"
           }
          ],
          "scatterpolargl": [
           {
            "marker": {
             "colorbar": {
              "outlinewidth": 0,
              "ticks": ""
             }
            },
            "type": "scatterpolargl"
           }
          ],
          "scatterternary": [
           {
            "marker": {
             "colorbar": {
              "outlinewidth": 0,
              "ticks": ""
             }
            },
            "type": "scatterternary"
           }
          ],
          "surface": [
           {
            "colorbar": {
             "outlinewidth": 0,
             "ticks": ""
            },
            "colorscale": [
             [
              0,
              "#0d0887"
             ],
             [
              0.1111111111111111,
              "#46039f"
             ],
             [
              0.2222222222222222,
              "#7201a8"
             ],
             [
              0.3333333333333333,
              "#9c179e"
             ],
             [
              0.4444444444444444,
              "#bd3786"
             ],
             [
              0.5555555555555556,
              "#d8576b"
             ],
             [
              0.6666666666666666,
              "#ed7953"
             ],
             [
              0.7777777777777778,
              "#fb9f3a"
             ],
             [
              0.8888888888888888,
              "#fdca26"
             ],
             [
              1,
              "#f0f921"
             ]
            ],
            "type": "surface"
           }
          ],
          "table": [
           {
            "cells": {
             "fill": {
              "color": "#EBF0F8"
             },
             "line": {
              "color": "white"
             }
            },
            "header": {
             "fill": {
              "color": "#C8D4E3"
             },
             "line": {
              "color": "white"
             }
            },
            "type": "table"
           }
          ]
         },
         "layout": {
          "annotationdefaults": {
           "arrowcolor": "#2a3f5f",
           "arrowhead": 0,
           "arrowwidth": 1
          },
          "coloraxis": {
           "colorbar": {
            "outlinewidth": 0,
            "ticks": ""
           }
          },
          "colorscale": {
           "diverging": [
            [
             0,
             "#8e0152"
            ],
            [
             0.1,
             "#c51b7d"
            ],
            [
             0.2,
             "#de77ae"
            ],
            [
             0.3,
             "#f1b6da"
            ],
            [
             0.4,
             "#fde0ef"
            ],
            [
             0.5,
             "#f7f7f7"
            ],
            [
             0.6,
             "#e6f5d0"
            ],
            [
             0.7,
             "#b8e186"
            ],
            [
             0.8,
             "#7fbc41"
            ],
            [
             0.9,
             "#4d9221"
            ],
            [
             1,
             "#276419"
            ]
           ],
           "sequential": [
            [
             0,
             "#0d0887"
            ],
            [
             0.1111111111111111,
             "#46039f"
            ],
            [
             0.2222222222222222,
             "#7201a8"
            ],
            [
             0.3333333333333333,
             "#9c179e"
            ],
            [
             0.4444444444444444,
             "#bd3786"
            ],
            [
             0.5555555555555556,
             "#d8576b"
            ],
            [
             0.6666666666666666,
             "#ed7953"
            ],
            [
             0.7777777777777778,
             "#fb9f3a"
            ],
            [
             0.8888888888888888,
             "#fdca26"
            ],
            [
             1,
             "#f0f921"
            ]
           ],
           "sequentialminus": [
            [
             0,
             "#0d0887"
            ],
            [
             0.1111111111111111,
             "#46039f"
            ],
            [
             0.2222222222222222,
             "#7201a8"
            ],
            [
             0.3333333333333333,
             "#9c179e"
            ],
            [
             0.4444444444444444,
             "#bd3786"
            ],
            [
             0.5555555555555556,
             "#d8576b"
            ],
            [
             0.6666666666666666,
             "#ed7953"
            ],
            [
             0.7777777777777778,
             "#fb9f3a"
            ],
            [
             0.8888888888888888,
             "#fdca26"
            ],
            [
             1,
             "#f0f921"
            ]
           ]
          },
          "colorway": [
           "#636efa",
           "#EF553B",
           "#00cc96",
           "#ab63fa",
           "#FFA15A",
           "#19d3f3",
           "#FF6692",
           "#B6E880",
           "#FF97FF",
           "#FECB52"
          ],
          "font": {
           "color": "#2a3f5f"
          },
          "geo": {
           "bgcolor": "white",
           "lakecolor": "white",
           "landcolor": "#E5ECF6",
           "showlakes": true,
           "showland": true,
           "subunitcolor": "white"
          },
          "hoverlabel": {
           "align": "left"
          },
          "hovermode": "closest",
          "mapbox": {
           "style": "light"
          },
          "paper_bgcolor": "white",
          "plot_bgcolor": "#E5ECF6",
          "polar": {
           "angularaxis": {
            "gridcolor": "white",
            "linecolor": "white",
            "ticks": ""
           },
           "bgcolor": "#E5ECF6",
           "radialaxis": {
            "gridcolor": "white",
            "linecolor": "white",
            "ticks": ""
           }
          },
          "scene": {
           "xaxis": {
            "backgroundcolor": "#E5ECF6",
            "gridcolor": "white",
            "gridwidth": 2,
            "linecolor": "white",
            "showbackground": true,
            "ticks": "",
            "zerolinecolor": "white"
           },
           "yaxis": {
            "backgroundcolor": "#E5ECF6",
            "gridcolor": "white",
            "gridwidth": 2,
            "linecolor": "white",
            "showbackground": true,
            "ticks": "",
            "zerolinecolor": "white"
           },
           "zaxis": {
            "backgroundcolor": "#E5ECF6",
            "gridcolor": "white",
            "gridwidth": 2,
            "linecolor": "white",
            "showbackground": true,
            "ticks": "",
            "zerolinecolor": "white"
           }
          },
          "shapedefaults": {
           "line": {
            "color": "#2a3f5f"
           }
          },
          "ternary": {
           "aaxis": {
            "gridcolor": "white",
            "linecolor": "white",
            "ticks": ""
           },
           "baxis": {
            "gridcolor": "white",
            "linecolor": "white",
            "ticks": ""
           },
           "bgcolor": "#E5ECF6",
           "caxis": {
            "gridcolor": "white",
            "linecolor": "white",
            "ticks": ""
           }
          },
          "title": {
           "x": 0.05
          },
          "xaxis": {
           "automargin": true,
           "gridcolor": "white",
           "linecolor": "white",
           "ticks": "",
           "title": {
            "standoff": 15
           },
           "zerolinecolor": "white",
           "zerolinewidth": 2
          },
          "yaxis": {
           "automargin": true,
           "gridcolor": "white",
           "linecolor": "white",
           "ticks": "",
           "title": {
            "standoff": 15
           },
           "zerolinecolor": "white",
           "zerolinewidth": 2
          }
         }
        },
        "updatemenus": [
         {
          "buttons": [
           {
            "args": [
             null,
             {
              "frame": {
               "duration": 1000
              }
             }
            ],
            "label": "Play",
            "method": "animate"
           }
          ],
          "type": "buttons"
         }
        ],
        "xaxis": {
         "autorange": true,
         "range": [
          -1.7380525199804273,
          19.14420011565665
         ],
         "title": {
          "text": "States in India"
         },
         "type": "category"
        },
        "yaxis": {
         "autorange": false,
         "range": [
          0,
          800
         ],
         "title": {
          "text": "Number of Tigers"
         },
         "type": "linear"
        }
       }
      },
      "image/png": "[encoded data removed]",
      "text/html": [
       "<div>                            <div id=\"6511544b-929e-4e2d-b583-c61fe5334624\" class=\"plotly-graph-div\" style=\"height:525px; width:100%;\"></div>            <script type=\"text/javascript\">                require([\"plotly\"], function(Plotly) {                    window.PLOTLYENV=window.PLOTLYENV || {};                                    if (document.getElementById(\"6511544b-929e-4e2d-b583-c61fe5334624\")) {                    Plotly.newPlot(                        \"6511544b-929e-4e2d-b583-c61fe5334624\",                        [{\"marker\": {\"color\": [\"Orange\", \"Orange\", \"Orange\", \"Orange\", \"Orange\", \"#2166ac\", \"Orange\", \"Orange\", \"Orange\", \"Black\", \"Orange\", \"Orange\", \"Orange\", \"Black\", \"Orange\", \"Orange\", \"#b2182b\", \"Orange\", \"Black\"], \"size\": [52.0, 34.75, 10.0, 31.25, 14.0, 82.5, 33.25, 18.75, 15.5, 7.5, 80.0, 19.0, 26.5, 7.5, 25.0, 11.0, 9.0, 10.0, 7.5]}, \"mode\": \"markers\", \"name\": \"2006\", \"type\": \"scatter\", \"x\": [\"UK\", \"UP\", \"BR\", \"APTS\", \"CG\", \"MP\", \"MH\", \"OD\", \"RJ\", \"JH\", \"KA\", \"KL\", \"TN\", \"GA\", \"AS\", \"AR\", \"MZ\", \"NWB\", \"SB\"], \"y\": [178, 109, 10, 95, 26, 300, 103, 45, 32, 0, 290, 46, 76, 0, 70, 14, 6, 10, 0]}],                        {\"legend\": {\"title\": {\"text\": \"Tiger count:\"}}, \"showlegend\": true, \"template\": {\"data\": {\"bar\": [{\"error_x\": {\"color\": \"#2a3f5f\"}, \"error_y\": {\"color\": \"#2a3f5f\"}, \"marker\": {\"line\": {\"color\": \"#E5ECF6\", \"width\": 0.5}}, \"type\": \"bar\"}], \"barpolar\": [{\"marker\": {\"line\": {\"color\": \"#E5ECF6\", \"width\": 0.5}}, \"type\": \"barpolar\"}], \"carpet\": [{\"aaxis\": {\"endlinecolor\": \"#2a3f5f\", \"gridcolor\": \"white\", \"linecolor\": \"white\", \"minorgridcolor\": \"white\", \"startlinecolor\": \"#2a3f5f\"}, \"baxis\": {\"endlinecolor\": \"#2a3f5f\", \"gridcolor\": \"white\", \"linecolor\": \"white\", \"minorgridcolor\": \"white\", \"startlinecolor\": \"#2a3f5f\"}, \"type\": \"carpet\"}], \"choropleth\": [{\"colorbar\": {\"outlinewidth\": 0, \"ticks\": \"\"}, \"type\": \"choropleth\"}], \"contour\": [{\"colorbar\": {\"outlinewidth\": 0, \"ticks\": \"\"}, \"colorscale\": [[0.0, \"#0d0887\"], [0.1111111111111111, \"#46039f\"], [0.2222222222222222, \"#7201a8\"], [0.3333333333333333, \"#9c179e\"], [0.4444444444444444, \"#bd3786\"], [0.5555555555555556, \"#d8576b\"], [0.6666666666666666, \"#ed7953\"], [0.7777777777777778, \"#fb9f3a\"], [0.8888888888888888, \"#fdca26\"], [1.0, \"#f0f921\"]], \"type\": \"contour\"}], \"contourcarpet\": [{\"colorbar\": {\"outlinewidth\": 0, \"ticks\": \"\"}, \"type\": \"contourcarpet\"}], \"heatmap\": [{\"colorbar\": {\"outlinewidth\": 0, \"ticks\": \"\"}, \"colorscale\": [[0.0, \"#0d0887\"], [0.1111111111111111, \"#46039f\"], [0.2222222222222222, \"#7201a8\"], [0.3333333333333333, \"#9c179e\"], [0.4444444444444444, \"#bd3786\"], [0.5555555555555556, \"#d8576b\"], [0.6666666666666666, \"#ed7953\"], [0.7777777777777778, \"#fb9f3a\"], [0.8888888888888888, \"#fdca26\"], [1.0, \"#f0f921\"]], \"type\": \"heatmap\"}], \"heatmapgl\": [{\"colorbar\": {\"outlinewidth\": 0, \"ticks\": \"\"}, \"colorscale\": [[0.0, \"#0d0887\"], [0.1111111111111111, \"#46039f\"], [0.2222222222222222, \"#7201a8\"], [0.3333333333333333, \"#9c179e\"], [0.4444444444444444, \"#bd3786\"], [0.5555555555555556, \"#d8576b\"], [0.6666666666666666, \"#ed7953\"], [0.7777777777777778, \"#fb9f3a\"], [0.8888888888888888, \"#fdca26\"], [1.0, \"#f0f921\"]], \"type\": \"heatmapgl\"}], \"histogram\": [{\"marker\": {\"colorbar\": {\"outlinewidth\": 0, \"ticks\": \"\"}}, \"type\": \"histogram\"}], \"histogram2d\": [{\"colorbar\": {\"outlinewidth\": 0, \"ticks\": \"\"}, \"colorscale\": [[0.0, \"#0d0887\"], [0.1111111111111111, \"#46039f\"], [0.2222222222222222, \"#7201a8\"], [0.3333333333333333, \"#9c179e\"], [0.4444444444444444, \"#bd3786\"], [0.5555555555555556, \"#d8576b\"], [0.6666666666666666, \"#ed7953\"], [0.7777777777777778, \"#fb9f3a\"], [0.8888888888888888, \"#fdca26\"], [1.0, \"#f0f921\"]], \"type\": \"histogram2d\"}], \"histogram2dcontour\": [{\"colorbar\": {\"outlinewidth\": 0, \"ticks\": \"\"}, \"colorscale\": [[0.0, \"#0d0887\"], [0.1111111111111111, \"#46039f\"], [0.2222222222222222, \"#7201a8\"], [0.3333333333333333, \"#9c179e\"], [0.4444444444444444, \"#bd3786\"], [0.5555555555555556, \"#d8576b\"], [0.6666666666666666, \"#ed7953\"], [0.7777777777777778, \"#fb9f3a\"], [0.8888888888888888, \"#fdca26\"], [1.0, \"#f0f921\"]], \"type\": \"histogram2dcontour\"}], \"mesh3d\": [{\"colorbar\": {\"outlinewidth\": 0, \"ticks\": \"\"}, \"type\": \"mesh3d\"}], \"parcoords\": [{\"line\": {\"colorbar\": {\"outlinewidth\": 0, \"ticks\": \"\"}}, \"type\": \"parcoords\"}], \"pie\": [{\"automargin\": true, \"type\": \"pie\"}], \"scatter\": [{\"marker\": {\"colorbar\": {\"outlinewidth\": 0, \"ticks\": \"\"}}, \"type\": \"scatter\"}], \"scatter3d\": [{\"line\": {\"colorbar\": {\"outlinewidth\": 0, \"ticks\": \"\"}}, \"marker\": {\"colorbar\": {\"outlinewidth\": 0, \"ticks\": \"\"}}, \"type\": \"scatter3d\"}], \"scattercarpet\": [{\"marker\": {\"colorbar\": {\"outlinewidth\": 0, \"ticks\": \"\"}}, \"type\": \"scattercarpet\"}], \"scattergeo\": [{\"marker\": {\"colorbar\": {\"outlinewidth\": 0, \"ticks\": \"\"}}, \"type\": \"scattergeo\"}], \"scattergl\": [{\"marker\": {\"colorbar\": {\"outlinewidth\": 0, \"ticks\": \"\"}}, \"type\": \"scattergl\"}], \"scattermapbox\": [{\"marker\": {\"colorbar\": {\"outlinewidth\": 0, \"ticks\": \"\"}}, \"type\": \"scattermapbox\"}], \"scatterpolar\": [{\"marker\": {\"colorbar\": {\"outlinewidth\": 0, \"ticks\": \"\"}}, \"type\": \"scatterpolar\"}], \"scatterpolargl\": [{\"marker\": {\"colorbar\": {\"outlinewidth\": 0, \"ticks\": \"\"}}, \"type\": \"scatterpolargl\"}], \"scatterternary\": [{\"marker\": {\"colorbar\": {\"outlinewidth\": 0, \"ticks\": \"\"}}, \"type\": \"scatterternary\"}], \"surface\": [{\"colorbar\": {\"outlinewidth\": 0, \"ticks\": \"\"}, \"colorscale\": [[0.0, \"#0d0887\"], [0.1111111111111111, \"#46039f\"], [0.2222222222222222, \"#7201a8\"], [0.3333333333333333, \"#9c179e\"], [0.4444444444444444, \"#bd3786\"], [0.5555555555555556, \"#d8576b\"], [0.6666666666666666, \"#ed7953\"], [0.7777777777777778, \"#fb9f3a\"], [0.8888888888888888, \"#fdca26\"], [1.0, \"#f0f921\"]], \"type\": \"surface\"}], \"table\": [{\"cells\": {\"fill\": {\"color\": \"#EBF0F8\"}, \"line\": {\"color\": \"white\"}}, \"header\": {\"fill\": {\"color\": \"#C8D4E3\"}, \"line\": {\"color\": \"white\"}}, \"type\": \"table\"}]}, \"layout\": {\"annotationdefaults\": {\"arrowcolor\": \"#2a3f5f\", \"arrowhead\": 0, \"arrowwidth\": 1}, \"coloraxis\": {\"colorbar\": {\"outlinewidth\": 0, \"ticks\": \"\"}}, \"colorscale\": {\"diverging\": [[0, \"#8e0152\"], [0.1, \"#c51b7d\"], [0.2, \"#de77ae\"], [0.3, \"#f1b6da\"], [0.4, \"#fde0ef\"], [0.5, \"#f7f7f7\"], [0.6, \"#e6f5d0\"], [0.7, \"#b8e186\"], [0.8, \"#7fbc41\"], [0.9, \"#4d9221\"], [1, \"#276419\"]], \"sequential\": [[0.0, \"#0d0887\"], [0.1111111111111111, \"#46039f\"], [0.2222222222222222, \"#7201a8\"], [0.3333333333333333, \"#9c179e\"], [0.4444444444444444, \"#bd3786\"], [0.5555555555555556, \"#d8576b\"], [0.6666666666666666, \"#ed7953\"], [0.7777777777777778, \"#fb9f3a\"], [0.8888888888888888, \"#fdca26\"], [1.0, \"#f0f921\"]], \"sequentialminus\": [[0.0, \"#0d0887\"], [0.1111111111111111, \"#46039f\"], [0.2222222222222222, \"#7201a8\"], [0.3333333333333333, \"#9c179e\"], [0.4444444444444444, \"#bd3786\"], [0.5555555555555556, \"#d8576b\"], [0.6666666666666666, \"#ed7953\"], [0.7777777777777778, \"#fb9f3a\"], [0.8888888888888888, \"#fdca26\"], [1.0, \"#f0f921\"]]}, \"colorway\": [\"#636efa\", \"#EF553B\", \"#00cc96\", \"#ab63fa\", \"#FFA15A\", \"#19d3f3\", \"#FF6692\", \"#B6E880\", \"#FF97FF\", \"#FECB52\"], \"font\": {\"color\": \"#2a3f5f\"}, \"geo\": {\"bgcolor\": \"white\", \"lakecolor\": \"white\", \"landcolor\": \"#E5ECF6\", \"showlakes\": true, \"showland\": true, \"subunitcolor\": \"white\"}, \"hoverlabel\": {\"align\": \"left\"}, \"hovermode\": \"closest\", \"mapbox\": {\"style\": \"light\"}, \"paper_bgcolor\": \"white\", \"plot_bgcolor\": \"#E5ECF6\", \"polar\": {\"angularaxis\": {\"gridcolor\": \"white\", \"linecolor\": \"white\", \"ticks\": \"\"}, \"bgcolor\": \"#E5ECF6\", \"radialaxis\": {\"gridcolor\": \"white\", \"linecolor\": \"white\", \"ticks\": \"\"}}, \"scene\": {\"xaxis\": {\"backgroundcolor\": \"#E5ECF6\", \"gridcolor\": \"white\", \"gridwidth\": 2, \"linecolor\": \"white\", \"showbackground\": true, \"ticks\": \"\", \"zerolinecolor\": \"white\"}, \"yaxis\": {\"backgroundcolor\": \"#E5ECF6\", \"gridcolor\": \"white\", \"gridwidth\": 2, \"linecolor\": \"white\", \"showbackground\": true, \"ticks\": \"\", \"zerolinecolor\": \"white\"}, \"zaxis\": {\"backgroundcolor\": \"#E5ECF6\", \"gridcolor\": \"white\", \"gridwidth\": 2, \"linecolor\": \"white\", \"showbackground\": true, \"ticks\": \"\", \"zerolinecolor\": \"white\"}}, \"shapedefaults\": {\"line\": {\"color\": \"#2a3f5f\"}}, \"ternary\": {\"aaxis\": {\"gridcolor\": \"white\", \"linecolor\": \"white\", \"ticks\": \"\"}, \"baxis\": {\"gridcolor\": \"white\", \"linecolor\": \"white\", \"ticks\": \"\"}, \"bgcolor\": \"#E5ECF6\", \"caxis\": {\"gridcolor\": \"white\", \"linecolor\": \"white\", \"ticks\": \"\"}}, \"title\": {\"x\": 0.05}, \"xaxis\": {\"automargin\": true, \"gridcolor\": \"white\", \"linecolor\": \"white\", \"ticks\": \"\", \"title\": {\"standoff\": 15}, \"zerolinecolor\": \"white\", \"zerolinewidth\": 2}, \"yaxis\": {\"automargin\": true, \"gridcolor\": \"white\", \"linecolor\": \"white\", \"ticks\": \"\", \"title\": {\"standoff\": 15}, \"zerolinecolor\": \"white\", \"zerolinewidth\": 2}}}, \"updatemenus\": [{\"buttons\": [{\"args\": [null, {\"frame\": {\"duration\": 1000}}], \"label\": \"Play\", \"method\": \"animate\"}], \"type\": \"buttons\"}], \"xaxis\": {\"title\": {\"text\": \"States in India\"}}, \"yaxis\": {\"autorange\": false, \"range\": [0, 800], \"title\": {\"text\": \"Number of Tigers\"}}},                        {\"responsive\": true}                    ).then(function(){\n",
       "                            Plotly.addFrames('6511544b-929e-4e2d-b583-c61fe5334624', [{\"data\": [{\"marker\": {\"color\": [\"Orange\", \"Orange\", \"Orange\", \"Orange\", \"Orange\", \"#2166ac\", \"Orange\", \"Orange\", \"Orange\", \"Black\", \"Orange\", \"Orange\", \"Orange\", \"Black\", \"Orange\", \"Orange\", \"#b2182b\", \"Orange\", \"Black\"], \"size\": [52.0, 34.75, 10.0, 31.25, 14.0, 82.5, 33.25, 18.75, 15.5, 7.5, 80.0, 19.0, 26.5, 7.5, 25.0, 11.0, 9.0, 10.0, 7.5]}, \"mode\": \"markers\", \"name\": \"2006\", \"x\": [\"UK\", \"UP\", \"BR\", \"APTS\", \"CG\", \"MP\", \"MH\", \"OD\", \"RJ\", \"JH\", \"KA\", \"KL\", \"TN\", \"GA\", \"AS\", \"AR\", \"MZ\", \"NWB\", \"SB\"], \"y\": [178, 109, 10, 95, 26, 300, 103, 45, 32, 0, 290, 46, 76, 0, 70, 14, 6, 10, 0], \"type\": \"scatter\"}]}, {\"data\": [{\"marker\": {\"color\": [\"Orange\", \"Orange\", \"Orange\", \"Orange\", \"Orange\", \"Orange\", \"Orange\", \"Orange\", \"Orange\", \"Orange\", \"#2166ac\", \"Orange\", \"Orange\", \"Black\", \"Orange\", \"Black\", \"#b2182b\", \"Black\", \"Orange\"], \"size\": [64.25, 37.0, 9.5, 25.5, 14.0, 71.75, 49.75, 15.5, 16.5, 10.0, 82.5, 25.25, 48.25, 7.5, 43.25, 7.5, 8.75, 7.5, 25.0]}, \"mode\": \"markers\", \"name\": \"2010\", \"x\": [\"UK\", \"UP\", \"BR\", \"APTS\", \"CG\", \"MP\", \"MH\", \"OD\", \"RJ\", \"JH\", \"KA\", \"KL\", \"TN\", \"GA\", \"AS\", \"AR\", \"MZ\", \"NWB\", \"SB\"], \"y\": [227, 118, 8, 72, 26, 257, 169, 32, 36, 10, 300, 71, 163, 0, 143, 0, 5, 0, 70], \"type\": \"scatter\"}]}, {\"data\": [{\"marker\": {\"color\": [\"Orange\", \"Orange\", \"Orange\", \"Orange\", \"Orange\", \"Orange\", \"Orange\", \"Orange\", \"Orange\", \"#b2182b\", \"#2166ac\", \"Orange\", \"Orange\", \"Orange\", \"Orange\", \"Orange\", \"#b2182b\", \"#b2182b\", \"Orange\"], \"size\": [92.5, 36.75, 14.5, 24.5, 19.0, 84.5, 55.0, 14.5, 18.75, 8.25, 109.0, 41.5, 64.75, 8.75, 49.25, 14.5, 8.25, 8.25, 26.5]}, \"mode\": \"markers\", \"name\": \"2014\", \"x\": [\"UK\", \"UP\", \"BR\", \"APTS\", \"CG\", \"MP\", \"MH\", \"OD\", \"RJ\", \"JH\", \"KA\", \"KL\", \"TN\", \"GA\", \"AS\", \"AR\", \"MZ\", \"NWB\", \"SB\"], \"y\": [340, 117, 28, 68, 46, 308, 190, 28, 45, 3, 406, 136, 229, 5, 167, 28, 3, 3, 76], \"type\": \"scatter\"}]}, {\"data\": [{\"marker\": {\"color\": [\"Orange\", \"Orange\", \"Orange\", \"Orange\", \"Orange\", \"#2166ac\", \"Orange\", \"Orange\", \"Orange\", \"Orange\", \"Orange\", \"Orange\", \"Orange\", \"#b2182b\", \"Orange\", \"Orange\", \"Black\", \"Black\", \"Orange\"], \"size\": [118.0, 50.75, 15.25, 26.0, 12.25, 139.0, 85.5, 14.5, 16.5, 8.75, 138.5, 55.0, 73.5, 8.25, 55.0, 14.75, 7.5, 7.5, 29.5]}, \"mode\": \"markers\", \"name\": \"2018\", \"x\": [\"UK\", \"UP\", \"BR\", \"APTS\", \"CG\", \"MP\", \"MH\", \"OD\", \"RJ\", \"JH\", \"KA\", \"KL\", \"TN\", \"GA\", \"AS\", \"AR\", \"MZ\", \"NWB\", \"SB\"], \"y\": [442, 173, 31, 74, 19, 526, 312, 28, 36, 5, 524, 190, 264, 3, 190, 29, 0, 0, 88], \"type\": \"scatter\"}]}]);\n",
       "                        }).then(function(){\n",
       "                            \n",
       "var gd = document.getElementById('6511544b-929e-4e2d-b583-c61fe5334624');\n",
       "var x = new MutationObserver(function (mutations, observer) {{\n",
       "        var display = window.getComputedStyle(gd).display;\n",
       "        if (!display || display === 'none') {{\n",
       "            console.log([gd, 'removed!']);\n",
       "            Plotly.purge(gd);\n",
       "            observer.disconnect();\n",
       "        }}\n",
       "}});\n",
       "\n",
       "// Listen for the removal of the full notebook cells\n",
       "var notebookContainer = gd.closest('#notebook-container');\n",
       "if (notebookContainer) {{\n",
       "    x.observe(notebookContainer, {childList: true});\n",
       "}}\n",
       "\n",
       "// Listen for the clearing of the current output cell\n",
       "var outputEl = gd.closest('.output');\n",
       "if (outputEl) {{\n",
       "    x.observe(outputEl, {childList: true});\n",
       "}}\n",
       "\n",
       "                        })                };                });            </script>        </div>"
      ]
     },
     "metadata": {},
     "output_type": "display_data"
    }
   ],
   "source": [
    "# Ref: https://plotly.com/python/animations/\n",
    "\n",
    "fig1 = go.Figure(\n",
    "    # data for first year: to show initial plot\n",
    "    data = \n",
    "    [go.Scatter(\n",
    "    x=xval,\n",
    "    y=y2006,\n",
    "    mode='markers',\n",
    "    name=\"2006\",\n",
    "    marker=dict(size=y2006scale, color = y2006color) \n",
    "    )\n",
    "    ],\n",
    "    \n",
    "    layout =     go.Layout(       \n",
    "        yaxis=dict(range=[0, 800], autorange=False),\n",
    "        updatemenus=[dict(type=\"buttons\",\n",
    "                          buttons=[dict(label=\"Play\",\n",
    "                                        method=\"animate\",\n",
    "                                        args=[None,{\"frame\": {\"duration\": 1000}}])])]\n",
    "    ),\n",
    "    \n",
    "    # Add frames for the remaining years: also animates the first one again\n",
    "    frames = [\n",
    "        \n",
    "    go.Frame(\n",
    "    data=[go.Scatter(\n",
    "    x=xval,\n",
    "    y=y2006,\n",
    "    mode='markers',\n",
    "    name=\"2006\",    \n",
    "    marker=dict(size=y2006scale, color = y2006color))\n",
    "        ]),\n",
    "        \n",
    "    go.Frame(\n",
    "    data=[go.Scatter(\n",
    "    x=xval,\n",
    "    y=y2010,\n",
    "    mode='markers',\n",
    "    name=\"2010\",\n",
    "    #visible=False,\n",
    "    marker=dict(size=y2010scale, color= y2010color))\n",
    "        ]),\n",
    "        \n",
    "    go.Frame(\n",
    "    data=[go.Scatter(\n",
    "    x=xval,\n",
    "    y=y2014,\n",
    "    mode='markers',\n",
    "    name=\"2014\",\n",
    "    #visible=False,\n",
    "    marker=dict(size=y2014scale, color=y2014color))\n",
    "         ]), \n",
    "        \n",
    "    go.Frame(\n",
    "    data=[go.Scatter(\n",
    "    x=xval,\n",
    "    y=y2018,\n",
    "    mode='markers',\n",
    "    name=\"2018\",\n",
    "    #visible=False,\n",
    "    marker=dict(size=y2018scale, color=y2018color))\n",
    "         ]), \n",
    "    ]    \n",
    ")\n",
    "\n",
    "fig1.update_layout(legend_title_text='Tiger count:', showlegend=True)\n",
    "fig1.update_xaxes(title_text='States in India')\n",
    "fig1.update_yaxes(title_text='Number of Tigers')\n",
    "fig1.show()"
   ]
  },
  {
   "cell_type": "code",
   "execution_count": 21,
   "metadata": {},
   "outputs": [],
   "source": [
    "import plotly.io as pio\n",
    "pio.write_html(fig1, file ='../HTMLs/idiom3.html', auto_open=False)"
   ]
  },
  {
   "cell_type": "code",
   "execution_count": null,
   "metadata": {},
   "outputs": [],
   "source": []
  }
 ],
 "metadata": {
  "kernelspec": {
   "display_name": "Python 3",
   "language": "python",
   "name": "python3"
  },
  "language_info": {
   "codemirror_mode": {
    "name": "ipython",
    "version": 3
   },
   "file_extension": ".py",
   "mimetype": "text/x-python",
   "name": "python",
   "nbconvert_exporter": "python",
   "pygments_lexer": "ipython3",
   "version": "3.7.9"
  }
 },
 "nbformat": 4,
 "nbformat_minor": 4
}
