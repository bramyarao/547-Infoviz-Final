{
 "cells": [
  {
   "cell_type": "code",
   "execution_count": 13,
   "metadata": {
    "pycharm": {
     "is_executing": false
    }
   },
   "outputs": [],
   "source": [
    "import pandas as pd\n",
    "import plotly.graph_objects as go\n",
    "import json"
   ]
  },
  {
   "cell_type": "code",
   "execution_count": 14,
   "metadata": {
    "pycharm": {
     "is_executing": false
    }
   },
   "outputs": [
    {
     "data": {
      "text/html": [
       "<div>\n",
       "<style scoped>\n",
       "    .dataframe tbody tr th:only-of-type {\n",
       "        vertical-align: middle;\n",
       "    }\n",
       "\n",
       "    .dataframe tbody tr th {\n",
       "        vertical-align: top;\n",
       "    }\n",
       "\n",
       "    .dataframe thead th {\n",
       "        text-align: right;\n",
       "    }\n",
       "</style>\n",
       "<table border=\"1\" class=\"dataframe\">\n",
       "  <thead>\n",
       "    <tr style=\"text-align: right;\">\n",
       "      <th></th>\n",
       "      <th>States</th>\n",
       "      <th>State Abbreviation</th>\n",
       "      <th>Y2006</th>\n",
       "      <th>Y2010</th>\n",
       "      <th>Y2014</th>\n",
       "      <th>Y2018</th>\n",
       "    </tr>\n",
       "  </thead>\n",
       "  <tbody>\n",
       "    <tr>\n",
       "      <th>0</th>\n",
       "      <td>Uttarakhand</td>\n",
       "      <td>UK</td>\n",
       "      <td>178.0</td>\n",
       "      <td>227.0</td>\n",
       "      <td>340</td>\n",
       "      <td>442</td>\n",
       "    </tr>\n",
       "    <tr>\n",
       "      <th>1</th>\n",
       "      <td>Uttar Pradesh</td>\n",
       "      <td>UP</td>\n",
       "      <td>109.0</td>\n",
       "      <td>118.0</td>\n",
       "      <td>117</td>\n",
       "      <td>173</td>\n",
       "    </tr>\n",
       "    <tr>\n",
       "      <th>2</th>\n",
       "      <td>Bihar</td>\n",
       "      <td>BR</td>\n",
       "      <td>10.0</td>\n",
       "      <td>8.0</td>\n",
       "      <td>28</td>\n",
       "      <td>31</td>\n",
       "    </tr>\n",
       "    <tr>\n",
       "      <th>3</th>\n",
       "      <td>Andhra Pradesh (Including Telangana)</td>\n",
       "      <td>APTS</td>\n",
       "      <td>95.0</td>\n",
       "      <td>72.0</td>\n",
       "      <td>68</td>\n",
       "      <td>74</td>\n",
       "    </tr>\n",
       "    <tr>\n",
       "      <th>4</th>\n",
       "      <td>Chattisgarh</td>\n",
       "      <td>CG</td>\n",
       "      <td>26.0</td>\n",
       "      <td>26.0</td>\n",
       "      <td>46</td>\n",
       "      <td>19</td>\n",
       "    </tr>\n",
       "    <tr>\n",
       "      <th>5</th>\n",
       "      <td>Madhya Pradesh</td>\n",
       "      <td>MP</td>\n",
       "      <td>300.0</td>\n",
       "      <td>257.0</td>\n",
       "      <td>308</td>\n",
       "      <td>526</td>\n",
       "    </tr>\n",
       "    <tr>\n",
       "      <th>6</th>\n",
       "      <td>Maharashtra</td>\n",
       "      <td>MH</td>\n",
       "      <td>103.0</td>\n",
       "      <td>169.0</td>\n",
       "      <td>190</td>\n",
       "      <td>312</td>\n",
       "    </tr>\n",
       "    <tr>\n",
       "      <th>7</th>\n",
       "      <td>Odisha</td>\n",
       "      <td>OD</td>\n",
       "      <td>45.0</td>\n",
       "      <td>32.0</td>\n",
       "      <td>28</td>\n",
       "      <td>28</td>\n",
       "    </tr>\n",
       "    <tr>\n",
       "      <th>8</th>\n",
       "      <td>Rajasthan</td>\n",
       "      <td>RJ</td>\n",
       "      <td>32.0</td>\n",
       "      <td>36.0</td>\n",
       "      <td>45</td>\n",
       "      <td>36</td>\n",
       "    </tr>\n",
       "    <tr>\n",
       "      <th>9</th>\n",
       "      <td>Jharkhand</td>\n",
       "      <td>JH</td>\n",
       "      <td>NaN</td>\n",
       "      <td>10.0</td>\n",
       "      <td>3</td>\n",
       "      <td>5</td>\n",
       "    </tr>\n",
       "    <tr>\n",
       "      <th>10</th>\n",
       "      <td>Karnataka</td>\n",
       "      <td>KA</td>\n",
       "      <td>290.0</td>\n",
       "      <td>300.0</td>\n",
       "      <td>406</td>\n",
       "      <td>524</td>\n",
       "    </tr>\n",
       "    <tr>\n",
       "      <th>11</th>\n",
       "      <td>Kerala</td>\n",
       "      <td>KL</td>\n",
       "      <td>46.0</td>\n",
       "      <td>71.0</td>\n",
       "      <td>136</td>\n",
       "      <td>190</td>\n",
       "    </tr>\n",
       "    <tr>\n",
       "      <th>12</th>\n",
       "      <td>Tamil Nadu</td>\n",
       "      <td>TN</td>\n",
       "      <td>76.0</td>\n",
       "      <td>163.0</td>\n",
       "      <td>229</td>\n",
       "      <td>264</td>\n",
       "    </tr>\n",
       "    <tr>\n",
       "      <th>13</th>\n",
       "      <td>Goa</td>\n",
       "      <td>GA</td>\n",
       "      <td>NaN</td>\n",
       "      <td>NaN</td>\n",
       "      <td>5</td>\n",
       "      <td>3</td>\n",
       "    </tr>\n",
       "    <tr>\n",
       "      <th>14</th>\n",
       "      <td>Assam</td>\n",
       "      <td>AS</td>\n",
       "      <td>70.0</td>\n",
       "      <td>143.0</td>\n",
       "      <td>167</td>\n",
       "      <td>190</td>\n",
       "    </tr>\n",
       "    <tr>\n",
       "      <th>15</th>\n",
       "      <td>Arunachal Pradesh</td>\n",
       "      <td>AR</td>\n",
       "      <td>14.0</td>\n",
       "      <td>NaN</td>\n",
       "      <td>28</td>\n",
       "      <td>29</td>\n",
       "    </tr>\n",
       "    <tr>\n",
       "      <th>16</th>\n",
       "      <td>Mizoram</td>\n",
       "      <td>MZ</td>\n",
       "      <td>6.0</td>\n",
       "      <td>5.0</td>\n",
       "      <td>3</td>\n",
       "      <td>0</td>\n",
       "    </tr>\n",
       "    <tr>\n",
       "      <th>17</th>\n",
       "      <td>Northern West Bengal</td>\n",
       "      <td>NWB</td>\n",
       "      <td>10.0</td>\n",
       "      <td>NaN</td>\n",
       "      <td>3</td>\n",
       "      <td>0</td>\n",
       "    </tr>\n",
       "    <tr>\n",
       "      <th>18</th>\n",
       "      <td>Sunderbans</td>\n",
       "      <td>SB</td>\n",
       "      <td>NaN</td>\n",
       "      <td>70.0</td>\n",
       "      <td>76</td>\n",
       "      <td>88</td>\n",
       "    </tr>\n",
       "  </tbody>\n",
       "</table>\n",
       "</div>"
      ],
      "text/plain": [
       "                                  States State Abbreviation  Y2006  Y2010  \\\n",
       "0                            Uttarakhand                 UK  178.0  227.0   \n",
       "1                          Uttar Pradesh                 UP  109.0  118.0   \n",
       "2                                  Bihar                 BR   10.0    8.0   \n",
       "3   Andhra Pradesh (Including Telangana)               APTS   95.0   72.0   \n",
       "4                            Chattisgarh                 CG   26.0   26.0   \n",
       "5                         Madhya Pradesh                 MP  300.0  257.0   \n",
       "6                            Maharashtra                 MH  103.0  169.0   \n",
       "7                                 Odisha                 OD   45.0   32.0   \n",
       "8                              Rajasthan                 RJ   32.0   36.0   \n",
       "9                              Jharkhand                 JH    NaN   10.0   \n",
       "10                             Karnataka                 KA  290.0  300.0   \n",
       "11                                Kerala                 KL   46.0   71.0   \n",
       "12                            Tamil Nadu                 TN   76.0  163.0   \n",
       "13                                   Goa                 GA    NaN    NaN   \n",
       "14                                 Assam                 AS   70.0  143.0   \n",
       "15                     Arunachal Pradesh                 AR   14.0    NaN   \n",
       "16                               Mizoram                 MZ    6.0    5.0   \n",
       "17                  Northern West Bengal                NWB   10.0    NaN   \n",
       "18                            Sunderbans                 SB    NaN   70.0   \n",
       "\n",
       "    Y2014  Y2018  \n",
       "0     340    442  \n",
       "1     117    173  \n",
       "2      28     31  \n",
       "3      68     74  \n",
       "4      46     19  \n",
       "5     308    526  \n",
       "6     190    312  \n",
       "7      28     28  \n",
       "8      45     36  \n",
       "9       3      5  \n",
       "10    406    524  \n",
       "11    136    190  \n",
       "12    229    264  \n",
       "13      5      3  \n",
       "14    167    190  \n",
       "15     28     29  \n",
       "16      3      0  \n",
       "17      3      0  \n",
       "18     76     88  "
      ]
     },
     "execution_count": 14,
     "metadata": {},
     "output_type": "execute_result"
    }
   ],
   "source": [
    "df = pd.read_excel('..\\Data\\Extracted_data.xlsx', sheet_name ='Sheet1' )\n",
    "df"
   ]
  },
  {
   "cell_type": "code",
   "execution_count": 15,
   "metadata": {
    "pycharm": {
     "is_executing": false
    }
   },
   "outputs": [
    {
     "data": {
      "application/vnd.plotly.v1+json": {
       "config": {
        "plotlyServerURL": "https://plot.ly"
       },
       "data": [
        {
         "legendgroup": "Shivalik-Gangetic",
         "marker": {
          "color": "White",
          "size": 20
         },
         "mode": "lines",
         "name": "Shivalik-Gangetic",
         "type": "scatter",
         "visible": "legendonly",
         "x": [
          2018
         ],
         "y": [
          600
         ]
        },
        {
         "legendgroup": "Shivalik-Gangetic",
         "marker": {
          "color": "#F58518",
          "size": 20
         },
         "mode": "lines+markers",
         "name": "Bihar",
         "type": "scatter",
         "visible": "legendonly",
         "x": [
          2006,
          2010,
          2014,
          2018
         ],
         "y": [
          10,
          8,
          28,
          31
         ]
        },
        {
         "legendgroup": "Shivalik-Gangetic",
         "marker": {
          "color": "rgb(253,180,98)",
          "size": 20
         },
         "mode": "lines+markers",
         "name": "Uttarakhand",
         "type": "scatter",
         "visible": "legendonly",
         "x": [
          2006,
          2010,
          2014,
          2018
         ],
         "y": [
          178,
          227,
          340,
          442
         ]
        },
        {
         "legendgroup": "Shivalik-Gangetic",
         "marker": {
          "color": "#FD3216",
          "size": 20
         },
         "mode": "lines+markers",
         "name": "Uttar Pradesh",
         "type": "scatter",
         "visible": "legendonly",
         "x": [
          2006,
          2010,
          2014,
          2018
         ],
         "y": [
          109,
          118,
          117,
          173
         ]
        },
        {
         "legendgroup": "Central Indian",
         "marker": {
          "color": "White",
          "size": 20
         },
         "mode": "lines",
         "name": "Central Indian",
         "type": "scatter",
         "visible": "legendonly",
         "x": [
          2018
         ],
         "y": [
          600
         ]
        },
        {
         "legendgroup": "Central Indian",
         "marker": {
          "color": "rgb(55,126,184)",
          "size": 20
         },
         "mode": "lines+markers",
         "name": "Andhra Pradesh",
         "type": "scatter",
         "visible": "legendonly",
         "x": [
          2006,
          2010,
          2014,
          2018
         ],
         "y": [
          95,
          72,
          68,
          74
         ]
        },
        {
         "legendgroup": "Central Indian",
         "marker": {
          "color": "rgb(179,205,227)",
          "size": 20
         },
         "mode": "lines+markers",
         "name": "Chattisgarh",
         "type": "scatter",
         "visible": "legendonly",
         "x": [
          2006,
          2010,
          2014,
          2018
         ],
         "y": [
          26,
          26,
          46,
          19
         ]
        },
        {
         "legendgroup": "Central Indian",
         "marker": {
          "color": "rgb(128,177,211)",
          "size": 20
         },
         "mode": "lines+markers",
         "name": "Jharkhand",
         "type": "scatter",
         "visible": "legendonly",
         "x": [
          2006,
          2010,
          2014,
          2018
         ],
         "y": [
          null,
          10,
          3,
          5
         ]
        },
        {
         "legendgroup": "Central Indian",
         "marker": {
          "color": "#19D3F3",
          "size": 20
         },
         "mode": "lines+markers",
         "name": "Madhya Pradesh",
         "type": "scatter",
         "visible": "legendonly",
         "x": [
          2006,
          2010,
          2014,
          2018
         ],
         "y": [
          300,
          257,
          308,
          526
         ]
        },
        {
         "legendgroup": "Central Indian",
         "marker": {
          "color": "#2E91E5",
          "size": 20
         },
         "mode": "lines+markers",
         "name": "Maharashtra",
         "type": "scatter",
         "visible": "legendonly",
         "x": [
          2006,
          2010,
          2014,
          2018
         ],
         "y": [
          103,
          169,
          190,
          312
         ]
        },
        {
         "legendgroup": "Central Indian",
         "marker": {
          "color": "#3366CC",
          "size": 20
         },
         "mode": "lines+markers",
         "name": "Odisha",
         "type": "scatter",
         "visible": "legendonly",
         "x": [
          2006,
          2010,
          2014,
          2018
         ],
         "y": [
          45,
          32,
          28,
          28
         ]
        },
        {
         "legendgroup": "Central Indian",
         "marker": {
          "color": "#17BEFC",
          "size": 20
         },
         "mode": "lines+markers",
         "name": "Rajasthan",
         "type": "scatter",
         "visible": "legendonly",
         "x": [
          2006,
          2010,
          2014,
          2018
         ],
         "y": [
          32,
          36,
          45,
          36
         ]
        },
        {
         "legendgroup": "Western Ghats",
         "marker": {
          "color": "White",
          "size": 20
         },
         "mode": "lines",
         "name": "Western Ghats",
         "type": "scatter",
         "visible": "legendonly",
         "x": [
          2018
         ],
         "y": [
          600
         ]
        },
        {
         "legendgroup": "Western Ghats",
         "marker": {
          "color": "rgb(27,158,119)",
          "size": 20
         },
         "mode": "lines+markers",
         "name": "Goa",
         "type": "scatter",
         "visible": "legendonly",
         "x": [
          2006,
          2010,
          2014,
          2018
         ],
         "y": [
          null,
          null,
          5,
          3
         ]
        },
        {
         "legendgroup": "Western Ghats",
         "marker": {
          "color": "rgb(179,222,105)",
          "size": 20
         },
         "mode": "lines+markers",
         "name": "Karnataka",
         "type": "scatter",
         "visible": "legendonly",
         "x": [
          2006,
          2010,
          2014,
          2018
         ],
         "y": [
          290,
          300,
          406,
          524
         ]
        },
        {
         "legendgroup": "Western Ghats",
         "marker": {
          "color": "rgb(102,166,30)",
          "size": 20
         },
         "mode": "lines+markers",
         "name": "Kerala",
         "type": "scatter",
         "visible": "legendonly",
         "x": [
          2006,
          2010,
          2014,
          2018
         ],
         "y": [
          46,
          71,
          136,
          190
         ]
        },
        {
         "legendgroup": "Western Ghats",
         "marker": {
          "color": "#00CC96",
          "size": 20
         },
         "mode": "lines+markers",
         "name": "Tamil Nadu",
         "type": "scatter",
         "visible": "legendonly",
         "x": [
          2006,
          2010,
          2014,
          2018
         ],
         "y": [
          76,
          163,
          229,
          264
         ]
        },
        {
         "legendgroup": "North East Hills and Brahmaputra",
         "marker": {
          "color": "White",
          "size": 20
         },
         "mode": "lines",
         "name": "North East Hills and Brahmaputra",
         "type": "scatter",
         "visible": "legendonly",
         "x": [
          2018
         ],
         "y": [
          600
         ]
        },
        {
         "legendgroup": "North East Hills and Brahmaputra",
         "marker": {
          "color": "rgb(231,41,138)",
          "size": 20
         },
         "mode": "lines+markers",
         "name": "Arunachal Pradesh",
         "type": "scatter",
         "visible": "legendonly",
         "x": [
          2006,
          2010,
          2014,
          2018
         ],
         "y": [
          14,
          null,
          28,
          29
         ]
        },
        {
         "legendgroup": "North East Hills and Brahmaputra",
         "marker": {
          "color": "rgb(231,138,195)",
          "size": 20
         },
         "mode": "lines+markers",
         "name": "Assam",
         "type": "scatter",
         "visible": "legendonly",
         "x": [
          2006,
          2010,
          2014,
          2018
         ],
         "y": [
          70,
          143,
          167,
          190
         ]
        },
        {
         "legendgroup": "North East Hills and Brahmaputra",
         "marker": {
          "color": "rgb(254,136,177)",
          "size": 20
         },
         "mode": "lines+markers",
         "name": "Mizoram",
         "type": "scatter",
         "visible": "legendonly",
         "x": [
          2006,
          2010,
          2014,
          2018
         ],
         "y": [
          6,
          5,
          3,
          0
         ]
        },
        {
         "legendgroup": "North East Hills and Brahmaputra",
         "marker": {
          "color": "#FF97FF",
          "size": 20
         },
         "mode": "lines+markers",
         "name": "Northern West Bengal",
         "type": "scatter",
         "visible": "legendonly",
         "x": [
          2006,
          2010,
          2014,
          2018
         ],
         "y": [
          10,
          null,
          3,
          0
         ]
        },
        {
         "legendgroup": "Sunderbans",
         "marker": {
          "color": "rgb(102,17,0)",
          "size": 20
         },
         "mode": "lines+markers",
         "name": "Sunderbans",
         "type": "scatter",
         "visible": "legendonly",
         "x": [
          2006,
          2010,
          2014,
          2018
         ],
         "y": [
          null,
          70,
          76,
          88
         ]
        }
       ],
       "layout": {
        "autosize": true,
        "legend": {
         "title": {
          "text": "States:"
         }
        },
        "paper_bgcolor": "rgba(0, 0, 0, 0)",
        "showlegend": true,
        "template": {
         "data": {
          "bar": [
           {
            "error_x": {
             "color": "#2a3f5f"
            },
            "error_y": {
             "color": "#2a3f5f"
            },
            "marker": {
             "line": {
              "color": "#E5ECF6",
              "width": 0.5
             }
            },
            "type": "bar"
           }
          ],
          "barpolar": [
           {
            "marker": {
             "line": {
              "color": "#E5ECF6",
              "width": 0.5
             }
            },
            "type": "barpolar"
           }
          ],
          "carpet": [
           {
            "aaxis": {
             "endlinecolor": "#2a3f5f",
             "gridcolor": "white",
             "linecolor": "white",
             "minorgridcolor": "white",
             "startlinecolor": "#2a3f5f"
            },
            "baxis": {
             "endlinecolor": "#2a3f5f",
             "gridcolor": "white",
             "linecolor": "white",
             "minorgridcolor": "white",
             "startlinecolor": "#2a3f5f"
            },
            "type": "carpet"
           }
          ],
          "choropleth": [
           {
            "colorbar": {
             "outlinewidth": 0,
             "ticks": ""
            },
            "type": "choropleth"
           }
          ],
          "contour": [
           {
            "colorbar": {
             "outlinewidth": 0,
             "ticks": ""
            },
            "colorscale": [
             [
              0,
              "#0d0887"
             ],
             [
              0.1111111111111111,
              "#46039f"
             ],
             [
              0.2222222222222222,
              "#7201a8"
             ],
             [
              0.3333333333333333,
              "#9c179e"
             ],
             [
              0.4444444444444444,
              "#bd3786"
             ],
             [
              0.5555555555555556,
              "#d8576b"
             ],
             [
              0.6666666666666666,
              "#ed7953"
             ],
             [
              0.7777777777777778,
              "#fb9f3a"
             ],
             [
              0.8888888888888888,
              "#fdca26"
             ],
             [
              1,
              "#f0f921"
             ]
            ],
            "type": "contour"
           }
          ],
          "contourcarpet": [
           {
            "colorbar": {
             "outlinewidth": 0,
             "ticks": ""
            },
            "type": "contourcarpet"
           }
          ],
          "heatmap": [
           {
            "colorbar": {
             "outlinewidth": 0,
             "ticks": ""
            },
            "colorscale": [
             [
              0,
              "#0d0887"
             ],
             [
              0.1111111111111111,
              "#46039f"
             ],
             [
              0.2222222222222222,
              "#7201a8"
             ],
             [
              0.3333333333333333,
              "#9c179e"
             ],
             [
              0.4444444444444444,
              "#bd3786"
             ],
             [
              0.5555555555555556,
              "#d8576b"
             ],
             [
              0.6666666666666666,
              "#ed7953"
             ],
             [
              0.7777777777777778,
              "#fb9f3a"
             ],
             [
              0.8888888888888888,
              "#fdca26"
             ],
             [
              1,
              "#f0f921"
             ]
            ],
            "type": "heatmap"
           }
          ],
          "heatmapgl": [
           {
            "colorbar": {
             "outlinewidth": 0,
             "ticks": ""
            },
            "colorscale": [
             [
              0,
              "#0d0887"
             ],
             [
              0.1111111111111111,
              "#46039f"
             ],
             [
              0.2222222222222222,
              "#7201a8"
             ],
             [
              0.3333333333333333,
              "#9c179e"
             ],
             [
              0.4444444444444444,
              "#bd3786"
             ],
             [
              0.5555555555555556,
              "#d8576b"
             ],
             [
              0.6666666666666666,
              "#ed7953"
             ],
             [
              0.7777777777777778,
              "#fb9f3a"
             ],
             [
              0.8888888888888888,
              "#fdca26"
             ],
             [
              1,
              "#f0f921"
             ]
            ],
            "type": "heatmapgl"
           }
          ],
          "histogram": [
           {
            "marker": {
             "colorbar": {
              "outlinewidth": 0,
              "ticks": ""
             }
            },
            "type": "histogram"
           }
          ],
          "histogram2d": [
           {
            "colorbar": {
             "outlinewidth": 0,
             "ticks": ""
            },
            "colorscale": [
             [
              0,
              "#0d0887"
             ],
             [
              0.1111111111111111,
              "#46039f"
             ],
             [
              0.2222222222222222,
              "#7201a8"
             ],
             [
              0.3333333333333333,
              "#9c179e"
             ],
             [
              0.4444444444444444,
              "#bd3786"
             ],
             [
              0.5555555555555556,
              "#d8576b"
             ],
             [
              0.6666666666666666,
              "#ed7953"
             ],
             [
              0.7777777777777778,
              "#fb9f3a"
             ],
             [
              0.8888888888888888,
              "#fdca26"
             ],
             [
              1,
              "#f0f921"
             ]
            ],
            "type": "histogram2d"
           }
          ],
          "histogram2dcontour": [
           {
            "colorbar": {
             "outlinewidth": 0,
             "ticks": ""
            },
            "colorscale": [
             [
              0,
              "#0d0887"
             ],
             [
              0.1111111111111111,
              "#46039f"
             ],
             [
              0.2222222222222222,
              "#7201a8"
             ],
             [
              0.3333333333333333,
              "#9c179e"
             ],
             [
              0.4444444444444444,
              "#bd3786"
             ],
             [
              0.5555555555555556,
              "#d8576b"
             ],
             [
              0.6666666666666666,
              "#ed7953"
             ],
             [
              0.7777777777777778,
              "#fb9f3a"
             ],
             [
              0.8888888888888888,
              "#fdca26"
             ],
             [
              1,
              "#f0f921"
             ]
            ],
            "type": "histogram2dcontour"
           }
          ],
          "mesh3d": [
           {
            "colorbar": {
             "outlinewidth": 0,
             "ticks": ""
            },
            "type": "mesh3d"
           }
          ],
          "parcoords": [
           {
            "line": {
             "colorbar": {
              "outlinewidth": 0,
              "ticks": ""
             }
            },
            "type": "parcoords"
           }
          ],
          "pie": [
           {
            "automargin": true,
            "type": "pie"
           }
          ],
          "scatter": [
           {
            "marker": {
             "colorbar": {
              "outlinewidth": 0,
              "ticks": ""
             }
            },
            "type": "scatter"
           }
          ],
          "scatter3d": [
           {
            "line": {
             "colorbar": {
              "outlinewidth": 0,
              "ticks": ""
             }
            },
            "marker": {
             "colorbar": {
              "outlinewidth": 0,
              "ticks": ""
             }
            },
            "type": "scatter3d"
           }
          ],
          "scattercarpet": [
           {
            "marker": {
             "colorbar": {
              "outlinewidth": 0,
              "ticks": ""
             }
            },
            "type": "scattercarpet"
           }
          ],
          "scattergeo": [
           {
            "marker": {
             "colorbar": {
              "outlinewidth": 0,
              "ticks": ""
             }
            },
            "type": "scattergeo"
           }
          ],
          "scattergl": [
           {
            "marker": {
             "colorbar": {
              "outlinewidth": 0,
              "ticks": ""
             }
            },
            "type": "scattergl"
           }
          ],
          "scattermapbox": [
           {
            "marker": {
             "colorbar": {
              "outlinewidth": 0,
              "ticks": ""
             }
            },
            "type": "scattermapbox"
           }
          ],
          "scatterpolar": [
           {
            "marker": {
             "colorbar": {
              "outlinewidth": 0,
              "ticks": ""
             }
            },
            "type": "scatterpolar"
           }
          ],
          "scatterpolargl": [
           {
            "marker": {
             "colorbar": {
              "outlinewidth": 0,
              "ticks": ""
             }
            },
            "type": "scatterpolargl"
           }
          ],
          "scatterternary": [
           {
            "marker": {
             "colorbar": {
              "outlinewidth": 0,
              "ticks": ""
             }
            },
            "type": "scatterternary"
           }
          ],
          "surface": [
           {
            "colorbar": {
             "outlinewidth": 0,
             "ticks": ""
            },
            "colorscale": [
             [
              0,
              "#0d0887"
             ],
             [
              0.1111111111111111,
              "#46039f"
             ],
             [
              0.2222222222222222,
              "#7201a8"
             ],
             [
              0.3333333333333333,
              "#9c179e"
             ],
             [
              0.4444444444444444,
              "#bd3786"
             ],
             [
              0.5555555555555556,
              "#d8576b"
             ],
             [
              0.6666666666666666,
              "#ed7953"
             ],
             [
              0.7777777777777778,
              "#fb9f3a"
             ],
             [
              0.8888888888888888,
              "#fdca26"
             ],
             [
              1,
              "#f0f921"
             ]
            ],
            "type": "surface"
           }
          ],
          "table": [
           {
            "cells": {
             "fill": {
              "color": "#EBF0F8"
             },
             "line": {
              "color": "white"
             }
            },
            "header": {
             "fill": {
              "color": "#C8D4E3"
             },
             "line": {
              "color": "white"
             }
            },
            "type": "table"
           }
          ]
         },
         "layout": {
          "annotationdefaults": {
           "arrowcolor": "#2a3f5f",
           "arrowhead": 0,
           "arrowwidth": 1
          },
          "coloraxis": {
           "colorbar": {
            "outlinewidth": 0,
            "ticks": ""
           }
          },
          "colorscale": {
           "diverging": [
            [
             0,
             "#8e0152"
            ],
            [
             0.1,
             "#c51b7d"
            ],
            [
             0.2,
             "#de77ae"
            ],
            [
             0.3,
             "#f1b6da"
            ],
            [
             0.4,
             "#fde0ef"
            ],
            [
             0.5,
             "#f7f7f7"
            ],
            [
             0.6,
             "#e6f5d0"
            ],
            [
             0.7,
             "#b8e186"
            ],
            [
             0.8,
             "#7fbc41"
            ],
            [
             0.9,
             "#4d9221"
            ],
            [
             1,
             "#276419"
            ]
           ],
           "sequential": [
            [
             0,
             "#0d0887"
            ],
            [
             0.1111111111111111,
             "#46039f"
            ],
            [
             0.2222222222222222,
             "#7201a8"
            ],
            [
             0.3333333333333333,
             "#9c179e"
            ],
            [
             0.4444444444444444,
             "#bd3786"
            ],
            [
             0.5555555555555556,
             "#d8576b"
            ],
            [
             0.6666666666666666,
             "#ed7953"
            ],
            [
             0.7777777777777778,
             "#fb9f3a"
            ],
            [
             0.8888888888888888,
             "#fdca26"
            ],
            [
             1,
             "#f0f921"
            ]
           ],
           "sequentialminus": [
            [
             0,
             "#0d0887"
            ],
            [
             0.1111111111111111,
             "#46039f"
            ],
            [
             0.2222222222222222,
             "#7201a8"
            ],
            [
             0.3333333333333333,
             "#9c179e"
            ],
            [
             0.4444444444444444,
             "#bd3786"
            ],
            [
             0.5555555555555556,
             "#d8576b"
            ],
            [
             0.6666666666666666,
             "#ed7953"
            ],
            [
             0.7777777777777778,
             "#fb9f3a"
            ],
            [
             0.8888888888888888,
             "#fdca26"
            ],
            [
             1,
             "#f0f921"
            ]
           ]
          },
          "colorway": [
           "#636efa",
           "#EF553B",
           "#00cc96",
           "#ab63fa",
           "#FFA15A",
           "#19d3f3",
           "#FF6692",
           "#B6E880",
           "#FF97FF",
           "#FECB52"
          ],
          "font": {
           "color": "#2a3f5f"
          },
          "geo": {
           "bgcolor": "white",
           "lakecolor": "white",
           "landcolor": "#E5ECF6",
           "showlakes": true,
           "showland": true,
           "subunitcolor": "white"
          },
          "hoverlabel": {
           "align": "left"
          },
          "hovermode": "closest",
          "mapbox": {
           "style": "light"
          },
          "paper_bgcolor": "white",
          "plot_bgcolor": "#E5ECF6",
          "polar": {
           "angularaxis": {
            "gridcolor": "white",
            "linecolor": "white",
            "ticks": ""
           },
           "bgcolor": "#E5ECF6",
           "radialaxis": {
            "gridcolor": "white",
            "linecolor": "white",
            "ticks": ""
           }
          },
          "scene": {
           "xaxis": {
            "backgroundcolor": "#E5ECF6",
            "gridcolor": "white",
            "gridwidth": 2,
            "linecolor": "white",
            "showbackground": true,
            "ticks": "",
            "zerolinecolor": "white"
           },
           "yaxis": {
            "backgroundcolor": "#E5ECF6",
            "gridcolor": "white",
            "gridwidth": 2,
            "linecolor": "white",
            "showbackground": true,
            "ticks": "",
            "zerolinecolor": "white"
           },
           "zaxis": {
            "backgroundcolor": "#E5ECF6",
            "gridcolor": "white",
            "gridwidth": 2,
            "linecolor": "white",
            "showbackground": true,
            "ticks": "",
            "zerolinecolor": "white"
           }
          },
          "shapedefaults": {
           "line": {
            "color": "#2a3f5f"
           }
          },
          "ternary": {
           "aaxis": {
            "gridcolor": "white",
            "linecolor": "white",
            "ticks": ""
           },
           "baxis": {
            "gridcolor": "white",
            "linecolor": "white",
            "ticks": ""
           },
           "bgcolor": "#E5ECF6",
           "caxis": {
            "gridcolor": "white",
            "linecolor": "white",
            "ticks": ""
           }
          },
          "title": {
           "x": 0.05
          },
          "xaxis": {
           "automargin": true,
           "gridcolor": "white",
           "linecolor": "white",
           "ticks": "",
           "title": {
            "standoff": 15
           },
           "zerolinecolor": "white",
           "zerolinewidth": 2
          },
          "yaxis": {
           "automargin": true,
           "gridcolor": "white",
           "linecolor": "white",
           "ticks": "",
           "title": {
            "standoff": 15
           },
           "zerolinecolor": "white",
           "zerolinewidth": 2
          }
         }
        },
        "xaxis": {
         "range": [
          2005,
          2019
         ],
         "title": {
          "text": "Year"
         },
         "type": "linear"
        },
        "yaxis": {
         "range": [
          -10,
          600
         ],
         "title": {
          "text": "Number of Tigers"
         },
         "type": "linear"
        }
       }
      },
      "image/png": "[encoded data removed]",
      "text/html": [
       "<div>                            <div id=\"34b545ed-beec-4cef-87a1-ec2b955f616e\" class=\"plotly-graph-div\" style=\"height:525px; width:100%;\"></div>            <script type=\"text/javascript\">                require([\"plotly\"], function(Plotly) {                    window.PLOTLYENV=window.PLOTLYENV || {};                                    if (document.getElementById(\"34b545ed-beec-4cef-87a1-ec2b955f616e\")) {                    Plotly.newPlot(                        \"34b545ed-beec-4cef-87a1-ec2b955f616e\",                        [{\"legendgroup\": \"Shivalik-Gangetic\", \"marker\": {\"color\": \"White\", \"size\": 20}, \"mode\": \"lines\", \"name\": \"Shivalik-Gangetic\", \"type\": \"scatter\", \"visible\": \"legendonly\", \"x\": [2018], \"y\": [600]}, {\"legendgroup\": \"Shivalik-Gangetic\", \"marker\": {\"color\": \"#F58518\", \"size\": 20}, \"mode\": \"lines+markers\", \"name\": \"Bihar\", \"type\": \"scatter\", \"visible\": \"legendonly\", \"x\": [2006, 2010, 2014, 2018], \"y\": [10.0, 8.0, 28, 31]}, {\"legendgroup\": \"Shivalik-Gangetic\", \"marker\": {\"color\": \"rgb(253,180,98)\", \"size\": 20}, \"mode\": \"lines+markers\", \"name\": \"Uttarakhand\", \"type\": \"scatter\", \"visible\": \"legendonly\", \"x\": [2006, 2010, 2014, 2018], \"y\": [178.0, 227.0, 340, 442]}, {\"legendgroup\": \"Shivalik-Gangetic\", \"marker\": {\"color\": \"#FD3216\", \"size\": 20}, \"mode\": \"lines+markers\", \"name\": \"Uttar Pradesh\", \"type\": \"scatter\", \"visible\": \"legendonly\", \"x\": [2006, 2010, 2014, 2018], \"y\": [109.0, 118.0, 117, 173]}, {\"legendgroup\": \"Central Indian\", \"marker\": {\"color\": \"White\", \"size\": 20}, \"mode\": \"lines\", \"name\": \"Central Indian\", \"type\": \"scatter\", \"visible\": \"legendonly\", \"x\": [2018], \"y\": [600]}, {\"legendgroup\": \"Central Indian\", \"marker\": {\"color\": \"rgb(55,126,184)\", \"size\": 20}, \"mode\": \"lines+markers\", \"name\": \"Andhra Pradesh\", \"type\": \"scatter\", \"visible\": \"legendonly\", \"x\": [2006, 2010, 2014, 2018], \"y\": [95.0, 72.0, 68, 74]}, {\"legendgroup\": \"Central Indian\", \"marker\": {\"color\": \"rgb(179,205,227)\", \"size\": 20}, \"mode\": \"lines+markers\", \"name\": \"Chattisgarh\", \"type\": \"scatter\", \"visible\": \"legendonly\", \"x\": [2006, 2010, 2014, 2018], \"y\": [26.0, 26.0, 46, 19]}, {\"legendgroup\": \"Central Indian\", \"marker\": {\"color\": \"rgb(128,177,211)\", \"size\": 20}, \"mode\": \"lines+markers\", \"name\": \"Jharkhand\", \"type\": \"scatter\", \"visible\": \"legendonly\", \"x\": [2006, 2010, 2014, 2018], \"y\": [null, 10.0, 3, 5]}, {\"legendgroup\": \"Central Indian\", \"marker\": {\"color\": \"#19D3F3\", \"size\": 20}, \"mode\": \"lines+markers\", \"name\": \"Madhya Pradesh\", \"type\": \"scatter\", \"visible\": \"legendonly\", \"x\": [2006, 2010, 2014, 2018], \"y\": [300.0, 257.0, 308, 526]}, {\"legendgroup\": \"Central Indian\", \"marker\": {\"color\": \"#2E91E5\", \"size\": 20}, \"mode\": \"lines+markers\", \"name\": \"Maharashtra\", \"type\": \"scatter\", \"visible\": \"legendonly\", \"x\": [2006, 2010, 2014, 2018], \"y\": [103.0, 169.0, 190, 312]}, {\"legendgroup\": \"Central Indian\", \"marker\": {\"color\": \"#3366CC\", \"size\": 20}, \"mode\": \"lines+markers\", \"name\": \"Odisha\", \"type\": \"scatter\", \"visible\": \"legendonly\", \"x\": [2006, 2010, 2014, 2018], \"y\": [45.0, 32.0, 28, 28]}, {\"legendgroup\": \"Central Indian\", \"marker\": {\"color\": \"#17BEFC\", \"size\": 20}, \"mode\": \"lines+markers\", \"name\": \"Rajasthan\", \"type\": \"scatter\", \"visible\": \"legendonly\", \"x\": [2006, 2010, 2014, 2018], \"y\": [32.0, 36.0, 45, 36]}, {\"legendgroup\": \"Western Ghats\", \"marker\": {\"color\": \"White\", \"size\": 20}, \"mode\": \"lines\", \"name\": \"Western Ghats\", \"type\": \"scatter\", \"visible\": \"legendonly\", \"x\": [2018], \"y\": [600]}, {\"legendgroup\": \"Western Ghats\", \"marker\": {\"color\": \"rgb(27,158,119)\", \"size\": 20}, \"mode\": \"lines+markers\", \"name\": \"Goa\", \"type\": \"scatter\", \"visible\": \"legendonly\", \"x\": [2006, 2010, 2014, 2018], \"y\": [null, null, 5, 3]}, {\"legendgroup\": \"Western Ghats\", \"marker\": {\"color\": \"rgb(179,222,105)\", \"size\": 20}, \"mode\": \"lines+markers\", \"name\": \"Karnataka\", \"type\": \"scatter\", \"visible\": \"legendonly\", \"x\": [2006, 2010, 2014, 2018], \"y\": [290.0, 300.0, 406, 524]}, {\"legendgroup\": \"Western Ghats\", \"marker\": {\"color\": \"rgb(102,166,30)\", \"size\": 20}, \"mode\": \"lines+markers\", \"name\": \"Kerala\", \"type\": \"scatter\", \"visible\": \"legendonly\", \"x\": [2006, 2010, 2014, 2018], \"y\": [46.0, 71.0, 136, 190]}, {\"legendgroup\": \"Western Ghats\", \"marker\": {\"color\": \"#00CC96\", \"size\": 20}, \"mode\": \"lines+markers\", \"name\": \"Tamil Nadu\", \"type\": \"scatter\", \"visible\": \"legendonly\", \"x\": [2006, 2010, 2014, 2018], \"y\": [76.0, 163.0, 229, 264]}, {\"legendgroup\": \"North East Hills and Brahmaputra\", \"marker\": {\"color\": \"White\", \"size\": 20}, \"mode\": \"lines\", \"name\": \"North East Hills and Brahmaputra\", \"type\": \"scatter\", \"visible\": \"legendonly\", \"x\": [2018], \"y\": [600]}, {\"legendgroup\": \"North East Hills and Brahmaputra\", \"marker\": {\"color\": \"rgb(231,41,138)\", \"size\": 20}, \"mode\": \"lines+markers\", \"name\": \"Arunachal Pradesh\", \"type\": \"scatter\", \"visible\": \"legendonly\", \"x\": [2006, 2010, 2014, 2018], \"y\": [14.0, null, 28, 29]}, {\"legendgroup\": \"North East Hills and Brahmaputra\", \"marker\": {\"color\": \"rgb(231,138,195)\", \"size\": 20}, \"mode\": \"lines+markers\", \"name\": \"Assam\", \"type\": \"scatter\", \"visible\": \"legendonly\", \"x\": [2006, 2010, 2014, 2018], \"y\": [70.0, 143.0, 167, 190]}, {\"legendgroup\": \"North East Hills and Brahmaputra\", \"marker\": {\"color\": \"rgb(254,136,177)\", \"size\": 20}, \"mode\": \"lines+markers\", \"name\": \"Mizoram\", \"type\": \"scatter\", \"visible\": \"legendonly\", \"x\": [2006, 2010, 2014, 2018], \"y\": [6.0, 5.0, 3, 0]}, {\"legendgroup\": \"North East Hills and Brahmaputra\", \"marker\": {\"color\": \"#FF97FF\", \"size\": 20}, \"mode\": \"lines+markers\", \"name\": \"Northern West Bengal\", \"type\": \"scatter\", \"visible\": \"legendonly\", \"x\": [2006, 2010, 2014, 2018], \"y\": [10.0, null, 3, 0]}, {\"legendgroup\": \"Sunderbans\", \"marker\": {\"color\": \"rgb(102,17,0)\", \"size\": 20}, \"mode\": \"lines+markers\", \"name\": \"Sunderbans\", \"type\": \"scatter\", \"visible\": \"legendonly\", \"x\": [2006, 2010, 2014, 2018], \"y\": [null, 70.0, 76, 88]}],                        {\"legend\": {\"title\": {\"text\": \"States:\"}}, \"paper_bgcolor\": \"rgba(0,0,0,0)\", \"showlegend\": true, \"template\": {\"data\": {\"bar\": [{\"error_x\": {\"color\": \"#2a3f5f\"}, \"error_y\": {\"color\": \"#2a3f5f\"}, \"marker\": {\"line\": {\"color\": \"#E5ECF6\", \"width\": 0.5}}, \"type\": \"bar\"}], \"barpolar\": [{\"marker\": {\"line\": {\"color\": \"#E5ECF6\", \"width\": 0.5}}, \"type\": \"barpolar\"}], \"carpet\": [{\"aaxis\": {\"endlinecolor\": \"#2a3f5f\", \"gridcolor\": \"white\", \"linecolor\": \"white\", \"minorgridcolor\": \"white\", \"startlinecolor\": \"#2a3f5f\"}, \"baxis\": {\"endlinecolor\": \"#2a3f5f\", \"gridcolor\": \"white\", \"linecolor\": \"white\", \"minorgridcolor\": \"white\", \"startlinecolor\": \"#2a3f5f\"}, \"type\": \"carpet\"}], \"choropleth\": [{\"colorbar\": {\"outlinewidth\": 0, \"ticks\": \"\"}, \"type\": \"choropleth\"}], \"contour\": [{\"colorbar\": {\"outlinewidth\": 0, \"ticks\": \"\"}, \"colorscale\": [[0.0, \"#0d0887\"], [0.1111111111111111, \"#46039f\"], [0.2222222222222222, \"#7201a8\"], [0.3333333333333333, \"#9c179e\"], [0.4444444444444444, \"#bd3786\"], [0.5555555555555556, \"#d8576b\"], [0.6666666666666666, \"#ed7953\"], [0.7777777777777778, \"#fb9f3a\"], [0.8888888888888888, \"#fdca26\"], [1.0, \"#f0f921\"]], \"type\": \"contour\"}], \"contourcarpet\": [{\"colorbar\": {\"outlinewidth\": 0, \"ticks\": \"\"}, \"type\": \"contourcarpet\"}], \"heatmap\": [{\"colorbar\": {\"outlinewidth\": 0, \"ticks\": \"\"}, \"colorscale\": [[0.0, \"#0d0887\"], [0.1111111111111111, \"#46039f\"], [0.2222222222222222, \"#7201a8\"], [0.3333333333333333, \"#9c179e\"], [0.4444444444444444, \"#bd3786\"], [0.5555555555555556, \"#d8576b\"], [0.6666666666666666, \"#ed7953\"], [0.7777777777777778, \"#fb9f3a\"], [0.8888888888888888, \"#fdca26\"], [1.0, \"#f0f921\"]], \"type\": \"heatmap\"}], \"heatmapgl\": [{\"colorbar\": {\"outlinewidth\": 0, \"ticks\": \"\"}, \"colorscale\": [[0.0, \"#0d0887\"], [0.1111111111111111, \"#46039f\"], [0.2222222222222222, \"#7201a8\"], [0.3333333333333333, \"#9c179e\"], [0.4444444444444444, \"#bd3786\"], [0.5555555555555556, \"#d8576b\"], [0.6666666666666666, \"#ed7953\"], [0.7777777777777778, \"#fb9f3a\"], [0.8888888888888888, \"#fdca26\"], [1.0, \"#f0f921\"]], \"type\": \"heatmapgl\"}], \"histogram\": [{\"marker\": {\"colorbar\": {\"outlinewidth\": 0, \"ticks\": \"\"}}, \"type\": \"histogram\"}], \"histogram2d\": [{\"colorbar\": {\"outlinewidth\": 0, \"ticks\": \"\"}, \"colorscale\": [[0.0, \"#0d0887\"], [0.1111111111111111, \"#46039f\"], [0.2222222222222222, \"#7201a8\"], [0.3333333333333333, \"#9c179e\"], [0.4444444444444444, \"#bd3786\"], [0.5555555555555556, \"#d8576b\"], [0.6666666666666666, \"#ed7953\"], [0.7777777777777778, \"#fb9f3a\"], [0.8888888888888888, \"#fdca26\"], [1.0, \"#f0f921\"]], \"type\": \"histogram2d\"}], \"histogram2dcontour\": [{\"colorbar\": {\"outlinewidth\": 0, \"ticks\": \"\"}, \"colorscale\": [[0.0, \"#0d0887\"], [0.1111111111111111, \"#46039f\"], [0.2222222222222222, \"#7201a8\"], [0.3333333333333333, \"#9c179e\"], [0.4444444444444444, \"#bd3786\"], [0.5555555555555556, \"#d8576b\"], [0.6666666666666666, \"#ed7953\"], [0.7777777777777778, \"#fb9f3a\"], [0.8888888888888888, \"#fdca26\"], [1.0, \"#f0f921\"]], \"type\": \"histogram2dcontour\"}], \"mesh3d\": [{\"colorbar\": {\"outlinewidth\": 0, \"ticks\": \"\"}, \"type\": \"mesh3d\"}], \"parcoords\": [{\"line\": {\"colorbar\": {\"outlinewidth\": 0, \"ticks\": \"\"}}, \"type\": \"parcoords\"}], \"pie\": [{\"automargin\": true, \"type\": \"pie\"}], \"scatter\": [{\"marker\": {\"colorbar\": {\"outlinewidth\": 0, \"ticks\": \"\"}}, \"type\": \"scatter\"}], \"scatter3d\": [{\"line\": {\"colorbar\": {\"outlinewidth\": 0, \"ticks\": \"\"}}, \"marker\": {\"colorbar\": {\"outlinewidth\": 0, \"ticks\": \"\"}}, \"type\": \"scatter3d\"}], \"scattercarpet\": [{\"marker\": {\"colorbar\": {\"outlinewidth\": 0, \"ticks\": \"\"}}, \"type\": \"scattercarpet\"}], \"scattergeo\": [{\"marker\": {\"colorbar\": {\"outlinewidth\": 0, \"ticks\": \"\"}}, \"type\": \"scattergeo\"}], \"scattergl\": [{\"marker\": {\"colorbar\": {\"outlinewidth\": 0, \"ticks\": \"\"}}, \"type\": \"scattergl\"}], \"scattermapbox\": [{\"marker\": {\"colorbar\": {\"outlinewidth\": 0, \"ticks\": \"\"}}, \"type\": \"scattermapbox\"}], \"scatterpolar\": [{\"marker\": {\"colorbar\": {\"outlinewidth\": 0, \"ticks\": \"\"}}, \"type\": \"scatterpolar\"}], \"scatterpolargl\": [{\"marker\": {\"colorbar\": {\"outlinewidth\": 0, \"ticks\": \"\"}}, \"type\": \"scatterpolargl\"}], \"scatterternary\": [{\"marker\": {\"colorbar\": {\"outlinewidth\": 0, \"ticks\": \"\"}}, \"type\": \"scatterternary\"}], \"surface\": [{\"colorbar\": {\"outlinewidth\": 0, \"ticks\": \"\"}, \"colorscale\": [[0.0, \"#0d0887\"], [0.1111111111111111, \"#46039f\"], [0.2222222222222222, \"#7201a8\"], [0.3333333333333333, \"#9c179e\"], [0.4444444444444444, \"#bd3786\"], [0.5555555555555556, \"#d8576b\"], [0.6666666666666666, \"#ed7953\"], [0.7777777777777778, \"#fb9f3a\"], [0.8888888888888888, \"#fdca26\"], [1.0, \"#f0f921\"]], \"type\": \"surface\"}], \"table\": [{\"cells\": {\"fill\": {\"color\": \"#EBF0F8\"}, \"line\": {\"color\": \"white\"}}, \"header\": {\"fill\": {\"color\": \"#C8D4E3\"}, \"line\": {\"color\": \"white\"}}, \"type\": \"table\"}]}, \"layout\": {\"annotationdefaults\": {\"arrowcolor\": \"#2a3f5f\", \"arrowhead\": 0, \"arrowwidth\": 1}, \"coloraxis\": {\"colorbar\": {\"outlinewidth\": 0, \"ticks\": \"\"}}, \"colorscale\": {\"diverging\": [[0, \"#8e0152\"], [0.1, \"#c51b7d\"], [0.2, \"#de77ae\"], [0.3, \"#f1b6da\"], [0.4, \"#fde0ef\"], [0.5, \"#f7f7f7\"], [0.6, \"#e6f5d0\"], [0.7, \"#b8e186\"], [0.8, \"#7fbc41\"], [0.9, \"#4d9221\"], [1, \"#276419\"]], \"sequential\": [[0.0, \"#0d0887\"], [0.1111111111111111, \"#46039f\"], [0.2222222222222222, \"#7201a8\"], [0.3333333333333333, \"#9c179e\"], [0.4444444444444444, \"#bd3786\"], [0.5555555555555556, \"#d8576b\"], [0.6666666666666666, \"#ed7953\"], [0.7777777777777778, \"#fb9f3a\"], [0.8888888888888888, \"#fdca26\"], [1.0, \"#f0f921\"]], \"sequentialminus\": [[0.0, \"#0d0887\"], [0.1111111111111111, \"#46039f\"], [0.2222222222222222, \"#7201a8\"], [0.3333333333333333, \"#9c179e\"], [0.4444444444444444, \"#bd3786\"], [0.5555555555555556, \"#d8576b\"], [0.6666666666666666, \"#ed7953\"], [0.7777777777777778, \"#fb9f3a\"], [0.8888888888888888, \"#fdca26\"], [1.0, \"#f0f921\"]]}, \"colorway\": [\"#636efa\", \"#EF553B\", \"#00cc96\", \"#ab63fa\", \"#FFA15A\", \"#19d3f3\", \"#FF6692\", \"#B6E880\", \"#FF97FF\", \"#FECB52\"], \"font\": {\"color\": \"#2a3f5f\"}, \"geo\": {\"bgcolor\": \"white\", \"lakecolor\": \"white\", \"landcolor\": \"#E5ECF6\", \"showlakes\": true, \"showland\": true, \"subunitcolor\": \"white\"}, \"hoverlabel\": {\"align\": \"left\"}, \"hovermode\": \"closest\", \"mapbox\": {\"style\": \"light\"}, \"paper_bgcolor\": \"white\", \"plot_bgcolor\": \"#E5ECF6\", \"polar\": {\"angularaxis\": {\"gridcolor\": \"white\", \"linecolor\": \"white\", \"ticks\": \"\"}, \"bgcolor\": \"#E5ECF6\", \"radialaxis\": {\"gridcolor\": \"white\", \"linecolor\": \"white\", \"ticks\": \"\"}}, \"scene\": {\"xaxis\": {\"backgroundcolor\": \"#E5ECF6\", \"gridcolor\": \"white\", \"gridwidth\": 2, \"linecolor\": \"white\", \"showbackground\": true, \"ticks\": \"\", \"zerolinecolor\": \"white\"}, \"yaxis\": {\"backgroundcolor\": \"#E5ECF6\", \"gridcolor\": \"white\", \"gridwidth\": 2, \"linecolor\": \"white\", \"showbackground\": true, \"ticks\": \"\", \"zerolinecolor\": \"white\"}, \"zaxis\": {\"backgroundcolor\": \"#E5ECF6\", \"gridcolor\": \"white\", \"gridwidth\": 2, \"linecolor\": \"white\", \"showbackground\": true, \"ticks\": \"\", \"zerolinecolor\": \"white\"}}, \"shapedefaults\": {\"line\": {\"color\": \"#2a3f5f\"}}, \"ternary\": {\"aaxis\": {\"gridcolor\": \"white\", \"linecolor\": \"white\", \"ticks\": \"\"}, \"baxis\": {\"gridcolor\": \"white\", \"linecolor\": \"white\", \"ticks\": \"\"}, \"bgcolor\": \"#E5ECF6\", \"caxis\": {\"gridcolor\": \"white\", \"linecolor\": \"white\", \"ticks\": \"\"}}, \"title\": {\"x\": 0.05}, \"xaxis\": {\"automargin\": true, \"gridcolor\": \"white\", \"linecolor\": \"white\", \"ticks\": \"\", \"title\": {\"standoff\": 15}, \"zerolinecolor\": \"white\", \"zerolinewidth\": 2}, \"yaxis\": {\"automargin\": true, \"gridcolor\": \"white\", \"linecolor\": \"white\", \"ticks\": \"\", \"title\": {\"standoff\": 15}, \"zerolinecolor\": \"white\", \"zerolinewidth\": 2}}}, \"xaxis\": {\"range\": [2005, 2019], \"title\": {\"text\": \"Year\"}}, \"yaxis\": {\"range\": [-10, 600], \"title\": {\"text\": \"Number of Tigers\"}}},                        {\"responsive\": true}                    ).then(function(){\n",
       "                            \n",
       "var gd = document.getElementById('34b545ed-beec-4cef-87a1-ec2b955f616e');\n",
       "var x = new MutationObserver(function (mutations, observer) {{\n",
       "        var display = window.getComputedStyle(gd).display;\n",
       "        if (!display || display === 'none') {{\n",
       "            console.log([gd, 'removed!']);\n",
       "            Plotly.purge(gd);\n",
       "            observer.disconnect();\n",
       "        }}\n",
       "}});\n",
       "\n",
       "// Listen for the removal of the full notebook cells\n",
       "var notebookContainer = gd.closest('#notebook-container');\n",
       "if (notebookContainer) {{\n",
       "    x.observe(notebookContainer, {childList: true});\n",
       "}}\n",
       "\n",
       "// Listen for the clearing of the current output cell\n",
       "var outputEl = gd.closest('.output');\n",
       "if (outputEl) {{\n",
       "    x.observe(outputEl, {childList: true});\n",
       "}}\n",
       "\n",
       "                        })                };                });            </script>        </div>"
      ]
     },
     "metadata": {},
     "output_type": "display_data"
    }
   ],
   "source": [
    "fig1 = go.Figure()\n",
    "\n",
    "fig1.add_trace(go.Scatter(\n",
    "    x=[2018],\n",
    "    y=[600],\n",
    "    mode='lines',\n",
    "    legendgroup=\"Shivalik-Gangetic\",\n",
    "    name=\"Shivalik-Gangetic\",\n",
    "    marker=dict(size=0 , color = \"White\"), \n",
    "    visible='legendonly'\n",
    "))\n",
    "fig1.add_trace(go.Scatter(\n",
    "    x=[2006,2010,2014,2018],\n",
    "    y=df.iloc[2, 2:6],\n",
    "    mode='lines+markers',\n",
    "    legendgroup=\"Shivalik-Gangetic\",\n",
    "    name=\"Bihar\",\n",
    "    marker=dict(size=10 , color = \"#F58518\"),\n",
    "    visible='legendonly'\n",
    "))\n",
    "\n",
    "fig1.add_trace(go.Scatter(\n",
    "    x=[2006,2010,2014,2018],\n",
    "    y=df.iloc[0, 2:6],\n",
    "    legendgroup=\"Shivalik-Gangetic\",\n",
    "    mode='lines+markers',\n",
    "    name=\"Uttarakhand\",\n",
    "    marker=dict(size=10  , color = \"rgb(253,180,98)\"),\n",
    "    visible='legendonly'\n",
    "    \n",
    "))\n",
    "\n",
    "fig1.add_trace(go.Scatter(\n",
    "    x=[2006,2010,2014,2018],\n",
    "    y=df.iloc[1, 2:6],\n",
    "    mode='lines+markers',\n",
    "    legendgroup=\"Shivalik-Gangetic\",\n",
    "    name=\"Uttar Pradesh\",\n",
    "    marker=dict(size=10 , color = \"#FD3216\"),\n",
    "    visible='legendonly'\n",
    "))\n",
    "\n",
    "\n",
    "\n",
    "fig1.add_trace(go.Scatter(\n",
    "    x=[2018],\n",
    "    y=[600],\n",
    "    mode='lines',\n",
    "    legendgroup=\"Central Indian\",\n",
    "    name=\"Central Indian\",\n",
    "    marker=dict(size=0 , color = \"White\"), \n",
    "    visible='legendonly'\n",
    "))\n",
    "\n",
    "fig1.add_trace(go.Scatter(\n",
    "    x=[2006,2010,2014,2018],\n",
    "    y=df.iloc[3, 2:6],\n",
    "    mode='lines+markers',\n",
    "    name=\"Andhra Pradesh\",\n",
    "    legendgroup=\"Central Indian\",\n",
    "    marker=dict(size=10 , color = \"rgb(55,126,184)\"),\n",
    "    visible='legendonly'\n",
    "))\n",
    "\n",
    "fig1.add_trace(go.Scatter(\n",
    "    x=[2006,2010,2014,2018],\n",
    "    y=df.iloc[4, 2:6],\n",
    "    mode='lines+markers',\n",
    "    name=\"Chattisgarh\",\n",
    "    legendgroup=\"Central Indian\",\n",
    "    marker=dict(size=10 ,color = \"rgb(179,205,227)\"),\n",
    "    visible='legendonly'\n",
    "))\n",
    "\n",
    "fig1.add_trace(go.Scatter(\n",
    "    x=[2006,2010,2014,2018],\n",
    "    y=df.iloc[9, 2:6],\n",
    "    mode='lines+markers',\n",
    "    name=\"Jharkhand\",\n",
    "    legendgroup=\"Central Indian\",\n",
    "    marker=dict(size=10 ,color = \"rgb(128,177,211)\"),\n",
    "    visible='legendonly'\n",
    "))\n",
    "\n",
    "fig1.add_trace(go.Scatter(\n",
    "    x=[2006,2010,2014,2018],\n",
    "    y=df.iloc[5, 2:6],\n",
    "    mode='lines+markers',\n",
    "    name=\"Madhya Pradesh\",\n",
    "    legendgroup=\"Central Indian\",\n",
    "    marker=dict(size=10 ,color = \"#19D3F3\"),\n",
    "    visible='legendonly'\n",
    "))\n",
    "\n",
    "\n",
    "fig1.add_trace(go.Scatter(\n",
    "    x=[2006,2010,2014,2018],\n",
    "    y=df.iloc[6, 2:6],\n",
    "    mode='lines+markers',\n",
    "    name=\"Maharashtra\",\n",
    "    legendgroup=\"Central Indian\" ,\n",
    "    marker=dict(size=10,color = \"#2E91E5\"),\n",
    "    visible='legendonly'\n",
    "))\n",
    "\n",
    "\n",
    "fig1.add_trace(go.Scatter(\n",
    "    x=[2006,2010,2014,2018],\n",
    "    y=df.iloc[7, 2:6],\n",
    "    mode='lines+markers',\n",
    "    name=\"Odisha\",\n",
    "    legendgroup=\"Central Indian\", \n",
    "    marker=dict(size=10 , color = \"#3366CC\"),\n",
    "    visible='legendonly'\n",
    "))\n",
    "\n",
    "fig1.add_trace(go.Scatter(\n",
    "    x=[2006,2010,2014,2018],\n",
    "    y=df.iloc[8, 2:6],\n",
    "    mode='lines+markers',\n",
    "    name=\"Rajasthan\",\n",
    "    legendgroup=\"Central Indian\",\n",
    "    marker=dict(size=10 , color = \"#17BEFC\"),\n",
    "    visible='legendonly'\n",
    "))\n",
    "\n",
    "\n",
    "\n",
    "fig1.add_trace(go.Scatter(\n",
    "    x=[2018],\n",
    "    y=[600],\n",
    "    mode='lines',\n",
    "    legendgroup=\"Western Ghats\",\n",
    "    name=\"Western Ghats\",\n",
    "    marker=dict(size=0 , color = \"White\"), \n",
    "    visible='legendonly'\n",
    "))\n",
    "\n",
    "fig1.add_trace(go.Scatter(\n",
    "    x=[2006,2010,2014,2018],\n",
    "    y=df.iloc[13, 2:6],\n",
    "    mode='lines+markers',\n",
    "    name=\"Goa\",\n",
    "    legendgroup=\"Western Ghats\",\n",
    "    marker=dict(size=10 , color = \"rgb(27,158,119)\"),\n",
    "    visible='legendonly'\n",
    "))\n",
    "\n",
    "fig1.add_trace(go.Scatter(\n",
    "    x=[2006,2010,2014,2018],\n",
    "    y=df.iloc[10, 2:6],\n",
    "    mode='lines+markers',\n",
    "    name=\"Karnataka\",\n",
    "    legendgroup=\"Western Ghats\",\n",
    "    marker=dict(size=10 , color = \"rgb(179,222,105)\"),\n",
    "    visible='legendonly'\n",
    "))\n",
    "\n",
    "fig1.add_trace(go.Scatter(\n",
    "    x=[2006,2010,2014,2018],\n",
    "    y=df.iloc[11, 2:6],\n",
    "    mode='lines+markers',\n",
    "    name=\"Kerala\",\n",
    "    legendgroup=\"Western Ghats\",\n",
    "    marker=dict(size=10 , color = \"rgb(102,166,30)\"),\n",
    "    visible='legendonly'\n",
    "))\n",
    "\n",
    "\n",
    "fig1.add_trace(go.Scatter(\n",
    "    x=[2006,2010,2014,2018],\n",
    "    y=df.iloc[12, 2:6],\n",
    "    mode='lines+markers',\n",
    "    name=\"Tamil Nadu\",\n",
    "    legendgroup=\"Western Ghats\",\n",
    "    marker=dict(size=10 , color = \"#00CC96\"),\n",
    "    visible='legendonly'\n",
    "))\n",
    "\n",
    "\n",
    "\n",
    "fig1.add_trace(go.Scatter(\n",
    "    x=[2018],\n",
    "    y=[600],\n",
    "    mode='lines',\n",
    "    legendgroup=\"North East Hills and Brahmaputra\",\n",
    "    name=\"North East Hills and Brahmaputra\",\n",
    "    marker=dict(size=0 , color = \"White\"), \n",
    "    visible='legendonly'\n",
    "))\n",
    "\n",
    "fig1.add_trace(go.Scatter(\n",
    "    x=[2006,2010,2014,2018],\n",
    "    y=df.iloc[15, 2:6],\n",
    "    mode='lines+markers',\n",
    "    legendgroup=\"North East Hills and Brahmaputra\",\n",
    "    name=\"Arunachal Pradesh\",\n",
    "    marker=dict(size=10, color = \"rgb(231,41,138)\"), \n",
    "    visible='legendonly'\n",
    "))\n",
    "\n",
    "fig1.add_trace(go.Scatter(\n",
    "    x=[2006,2010,2014,2018],\n",
    "    y=df.iloc[14, 2:6],\n",
    "    mode='lines+markers',\n",
    "    name=\"Assam\",\n",
    "    legendgroup=\"North East Hills and Brahmaputra\",\n",
    "    marker=dict(size=10 ,color = \"rgb(231,138,195)\"), \n",
    "    visible='legendonly'\n",
    "))\n",
    "\n",
    "\n",
    "\n",
    "fig1.add_trace(go.Scatter(\n",
    "    x=[2006,2010,2014,2018],\n",
    "    y=df.iloc[16, 2:6],\n",
    "    mode='lines+markers',\n",
    "    legendgroup=\"North East Hills and Brahmaputra\",\n",
    "    name=\"Mizoram\",\n",
    "    marker=dict(size=10 ,color = \"rgb(254,136,177)\"), \n",
    "    visible='legendonly'\n",
    "))\n",
    "\n",
    "fig1.add_trace(go.Scatter(\n",
    "    x=[2006,2010,2014,2018],\n",
    "    y=df.iloc[17, 2:6],\n",
    "    mode='lines+markers',\n",
    "    legendgroup=\"North East Hills and Brahmaputra\",\n",
    "    name=\"Northern West Bengal\",\n",
    "    marker=dict(size=10 ,color = \"#FF97FF\"), \n",
    "    visible='legendonly'\n",
    "))\n",
    "\n",
    "\n",
    "fig1.add_trace(go.Scatter(\n",
    "    x=[2006,2010,2014,2018],\n",
    "    y=df.iloc[18, 2:6],\n",
    "    mode='lines+markers',\n",
    "    legendgroup=\"Sunderbans\",\n",
    "    name=\"Sunderbans\",\n",
    "    marker=dict(size=10 ,color = \"rgb(102,17,0)\"), \n",
    "    visible='legendonly'\n",
    "))\n",
    "\n",
    "\n",
    "fig1.update_traces(marker=dict(size=20))\n",
    "fig1.update_layout( paper_bgcolor='rgba(0,0,0,0)')  \n",
    "#fig1.update_layout( plot_bgcolor='rgba(255,255,255,1)')  \n",
    "fig1.update_layout(yaxis=dict(range=[-10,600]))\n",
    "fig1.update_layout(xaxis=dict(range=[2005,2019]))\n",
    "fig1.update_layout(legend_title_text='States:', showlegend=True)\n",
    "fig1.update_xaxes(title_text='Year')\n",
    "fig1.update_yaxes(title_text='Number of Tigers')\n",
    "fig1.show()"
   ]
  },
  {
   "cell_type": "code",
   "execution_count": 16,
   "metadata": {
    "pycharm": {
     "is_executing": false
    }
   },
   "outputs": [],
   "source": [
    "import plotly.io as pio\n",
    "pio.write_html(fig1, file ='../HTMLs/idiom4.html', auto_open=False)"
   ]
  }
 ],
 "metadata": {
  "kernelspec": {
   "display_name": "Python 3",
   "language": "python",
   "name": "python3"
  },
  "language_info": {
   "codemirror_mode": {
    "name": "ipython",
    "version": 3
   },
   "file_extension": ".py",
   "mimetype": "text/x-python",
   "name": "python",
   "nbconvert_exporter": "python",
   "pygments_lexer": "ipython3",
   "version": "3.7.9"
  },
  "pycharm": {
   "stem_cell": {
    "cell_type": "raw",
    "metadata": {
     "collapsed": false
    },
    "source": []
   }
  }
 },
 "nbformat": 4,
 "nbformat_minor": 4
}
