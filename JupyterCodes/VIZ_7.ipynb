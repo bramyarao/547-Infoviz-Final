{
 "cells": [
  {
   "cell_type": "code",
   "execution_count": 22,
   "metadata": {},
   "outputs": [],
   "source": [
    "import pandas as pd\n",
    "import plotly.graph_objects as go\n",
    "import json"
   ]
  },
  {
   "cell_type": "code",
   "execution_count": 23,
   "metadata": {},
   "outputs": [
    {
     "data": {
      "text/html": [
       "<div>\n",
       "<style scoped>\n",
       "    .dataframe tbody tr th:only-of-type {\n",
       "        vertical-align: middle;\n",
       "    }\n",
       "\n",
       "    .dataframe tbody tr th {\n",
       "        vertical-align: top;\n",
       "    }\n",
       "\n",
       "    .dataframe thead th {\n",
       "        text-align: right;\n",
       "    }\n",
       "</style>\n",
       "<table border=\"1\" class=\"dataframe\">\n",
       "  <thead>\n",
       "    <tr style=\"text-align: right;\">\n",
       "      <th></th>\n",
       "      <th>States</th>\n",
       "      <th>State Abbreviation</th>\n",
       "      <th>Y2006</th>\n",
       "      <th>Y2010</th>\n",
       "      <th>Y2014</th>\n",
       "      <th>Y2018</th>\n",
       "    </tr>\n",
       "  </thead>\n",
       "  <tbody>\n",
       "    <tr>\n",
       "      <th>0</th>\n",
       "      <td>Uttarakhand</td>\n",
       "      <td>UK</td>\n",
       "      <td>178.0</td>\n",
       "      <td>227.0</td>\n",
       "      <td>340</td>\n",
       "      <td>442</td>\n",
       "    </tr>\n",
       "    <tr>\n",
       "      <th>1</th>\n",
       "      <td>Uttar Pradesh</td>\n",
       "      <td>UP</td>\n",
       "      <td>109.0</td>\n",
       "      <td>118.0</td>\n",
       "      <td>117</td>\n",
       "      <td>173</td>\n",
       "    </tr>\n",
       "    <tr>\n",
       "      <th>2</th>\n",
       "      <td>Bihar</td>\n",
       "      <td>BR</td>\n",
       "      <td>10.0</td>\n",
       "      <td>8.0</td>\n",
       "      <td>28</td>\n",
       "      <td>31</td>\n",
       "    </tr>\n",
       "    <tr>\n",
       "      <th>3</th>\n",
       "      <td>Andhra Pradesh (Including Telangana)</td>\n",
       "      <td>APTS</td>\n",
       "      <td>95.0</td>\n",
       "      <td>72.0</td>\n",
       "      <td>68</td>\n",
       "      <td>74</td>\n",
       "    </tr>\n",
       "    <tr>\n",
       "      <th>4</th>\n",
       "      <td>Chattisgarh</td>\n",
       "      <td>CG</td>\n",
       "      <td>26.0</td>\n",
       "      <td>26.0</td>\n",
       "      <td>46</td>\n",
       "      <td>19</td>\n",
       "    </tr>\n",
       "    <tr>\n",
       "      <th>5</th>\n",
       "      <td>Madhya Pradesh</td>\n",
       "      <td>MP</td>\n",
       "      <td>300.0</td>\n",
       "      <td>257.0</td>\n",
       "      <td>308</td>\n",
       "      <td>526</td>\n",
       "    </tr>\n",
       "    <tr>\n",
       "      <th>6</th>\n",
       "      <td>Maharashtra</td>\n",
       "      <td>MH</td>\n",
       "      <td>103.0</td>\n",
       "      <td>169.0</td>\n",
       "      <td>190</td>\n",
       "      <td>312</td>\n",
       "    </tr>\n",
       "    <tr>\n",
       "      <th>7</th>\n",
       "      <td>Odisha</td>\n",
       "      <td>OD</td>\n",
       "      <td>45.0</td>\n",
       "      <td>32.0</td>\n",
       "      <td>28</td>\n",
       "      <td>28</td>\n",
       "    </tr>\n",
       "    <tr>\n",
       "      <th>8</th>\n",
       "      <td>Rajasthan</td>\n",
       "      <td>RJ</td>\n",
       "      <td>32.0</td>\n",
       "      <td>36.0</td>\n",
       "      <td>45</td>\n",
       "      <td>36</td>\n",
       "    </tr>\n",
       "    <tr>\n",
       "      <th>9</th>\n",
       "      <td>Jharkhand</td>\n",
       "      <td>JH</td>\n",
       "      <td>NaN</td>\n",
       "      <td>10.0</td>\n",
       "      <td>3</td>\n",
       "      <td>5</td>\n",
       "    </tr>\n",
       "    <tr>\n",
       "      <th>10</th>\n",
       "      <td>Karnataka</td>\n",
       "      <td>KA</td>\n",
       "      <td>290.0</td>\n",
       "      <td>300.0</td>\n",
       "      <td>406</td>\n",
       "      <td>524</td>\n",
       "    </tr>\n",
       "    <tr>\n",
       "      <th>11</th>\n",
       "      <td>Kerala</td>\n",
       "      <td>KL</td>\n",
       "      <td>46.0</td>\n",
       "      <td>71.0</td>\n",
       "      <td>136</td>\n",
       "      <td>190</td>\n",
       "    </tr>\n",
       "    <tr>\n",
       "      <th>12</th>\n",
       "      <td>Tamil Nadu</td>\n",
       "      <td>TN</td>\n",
       "      <td>76.0</td>\n",
       "      <td>163.0</td>\n",
       "      <td>229</td>\n",
       "      <td>264</td>\n",
       "    </tr>\n",
       "    <tr>\n",
       "      <th>13</th>\n",
       "      <td>Goa</td>\n",
       "      <td>GA</td>\n",
       "      <td>NaN</td>\n",
       "      <td>NaN</td>\n",
       "      <td>5</td>\n",
       "      <td>3</td>\n",
       "    </tr>\n",
       "    <tr>\n",
       "      <th>14</th>\n",
       "      <td>Assam</td>\n",
       "      <td>AS</td>\n",
       "      <td>70.0</td>\n",
       "      <td>143.0</td>\n",
       "      <td>167</td>\n",
       "      <td>190</td>\n",
       "    </tr>\n",
       "    <tr>\n",
       "      <th>15</th>\n",
       "      <td>Arunachal Pradesh</td>\n",
       "      <td>AR</td>\n",
       "      <td>14.0</td>\n",
       "      <td>NaN</td>\n",
       "      <td>28</td>\n",
       "      <td>29</td>\n",
       "    </tr>\n",
       "    <tr>\n",
       "      <th>16</th>\n",
       "      <td>Mizoram</td>\n",
       "      <td>MZ</td>\n",
       "      <td>6.0</td>\n",
       "      <td>5.0</td>\n",
       "      <td>3</td>\n",
       "      <td>0</td>\n",
       "    </tr>\n",
       "    <tr>\n",
       "      <th>17</th>\n",
       "      <td>Northern West Bengal</td>\n",
       "      <td>NWB</td>\n",
       "      <td>10.0</td>\n",
       "      <td>NaN</td>\n",
       "      <td>3</td>\n",
       "      <td>0</td>\n",
       "    </tr>\n",
       "    <tr>\n",
       "      <th>18</th>\n",
       "      <td>Sunderbans</td>\n",
       "      <td>SB</td>\n",
       "      <td>NaN</td>\n",
       "      <td>70.0</td>\n",
       "      <td>76</td>\n",
       "      <td>88</td>\n",
       "    </tr>\n",
       "  </tbody>\n",
       "</table>\n",
       "</div>"
      ],
      "text/plain": [
       "                                  States State Abbreviation  Y2006  Y2010  \\\n",
       "0                            Uttarakhand                 UK  178.0  227.0   \n",
       "1                          Uttar Pradesh                 UP  109.0  118.0   \n",
       "2                                  Bihar                 BR   10.0    8.0   \n",
       "3   Andhra Pradesh (Including Telangana)               APTS   95.0   72.0   \n",
       "4                            Chattisgarh                 CG   26.0   26.0   \n",
       "5                         Madhya Pradesh                 MP  300.0  257.0   \n",
       "6                            Maharashtra                 MH  103.0  169.0   \n",
       "7                                 Odisha                 OD   45.0   32.0   \n",
       "8                              Rajasthan                 RJ   32.0   36.0   \n",
       "9                              Jharkhand                 JH    NaN   10.0   \n",
       "10                             Karnataka                 KA  290.0  300.0   \n",
       "11                                Kerala                 KL   46.0   71.0   \n",
       "12                            Tamil Nadu                 TN   76.0  163.0   \n",
       "13                                   Goa                 GA    NaN    NaN   \n",
       "14                                 Assam                 AS   70.0  143.0   \n",
       "15                     Arunachal Pradesh                 AR   14.0    NaN   \n",
       "16                               Mizoram                 MZ    6.0    5.0   \n",
       "17                  Northern West Bengal                NWB   10.0    NaN   \n",
       "18                            Sunderbans                 SB    NaN   70.0   \n",
       "\n",
       "    Y2014  Y2018  \n",
       "0     340    442  \n",
       "1     117    173  \n",
       "2      28     31  \n",
       "3      68     74  \n",
       "4      46     19  \n",
       "5     308    526  \n",
       "6     190    312  \n",
       "7      28     28  \n",
       "8      45     36  \n",
       "9       3      5  \n",
       "10    406    524  \n",
       "11    136    190  \n",
       "12    229    264  \n",
       "13      5      3  \n",
       "14    167    190  \n",
       "15     28     29  \n",
       "16      3      0  \n",
       "17      3      0  \n",
       "18     76     88  "
      ]
     },
     "execution_count": 23,
     "metadata": {},
     "output_type": "execute_result"
    }
   ],
   "source": [
    "df = pd.read_excel('..\\Data\\Extracted_data.xlsx', sheet_name ='Sheet1' )\n",
    "df"
   ]
  },
  {
   "cell_type": "code",
   "execution_count": 24,
   "metadata": {},
   "outputs": [],
   "source": [
    "xval = df[\"State Abbreviation\"]"
   ]
  },
  {
   "cell_type": "code",
   "execution_count": 25,
   "metadata": {},
   "outputs": [],
   "source": [
    "y2006 = df[\"Y2006\"]\n",
    "y2006 = y2006.fillna(0)   # Replacing NaN with 0\n",
    "y2006 = y2006.astype(int) # Converting all tiger count values to intergers\n",
    "\n",
    "y2010 = df[\"Y2010\"]\n",
    "y2010 = y2010.fillna(0)\n",
    "y2010 = y2010.astype(int)\n",
    "\n",
    "y2014 = df[\"Y2014\"]\n",
    "y2014 = y2014.fillna(0)\n",
    "y2014 = y2014.astype(int)\n",
    "\n",
    "y2018 = df[\"Y2018\"]\n",
    "y2018 = y2018.fillna(0) \n",
    "y2018 = y2018.astype(int)"
   ]
  },
  {
   "cell_type": "code",
   "execution_count": 27,
   "metadata": {},
   "outputs": [],
   "source": [
    "xyrs = [\"2006\",\"2010\",\"2014\",\"2018\"];"
   ]
  },
  {
   "cell_type": "code",
   "execution_count": 28,
   "metadata": {},
   "outputs": [
    {
     "data": {
      "application/vnd.plotly.v1+json": {
       "config": {
        "plotlyServerURL": "https://plot.ly"
       },
       "data": [
        {
         "marker": {
          "color": "#3366CC",
          "size": 10
         },
         "mode": "lines+markers",
         "name": "RJ, Central India",
         "type": "scatter",
         "visible": true,
         "x": [
          "2006",
          "2010",
          "2014",
          "2018"
         ],
         "xaxis": "x",
         "y": [
          32,
          36,
          45,
          36
         ],
         "yaxis": "y"
        },
        {
         "marker": {
          "color": "#F58518",
          "size": 10
         },
         "mode": "lines+markers",
         "name": "UK, Shivalik-Gangetic Plain",
         "type": "scatter",
         "visible": true,
         "x": [
          "2006",
          "2010",
          "2014",
          "2018"
         ],
         "xaxis": "x2",
         "y": [
          178,
          227,
          340,
          442
         ],
         "yaxis": "y2"
        },
        {
         "marker": {
          "color": "#F58518",
          "size": 10
         },
         "mode": "lines+markers",
         "name": "UP, Shivalik-Gangetic Plain",
         "type": "scatter",
         "visible": true,
         "x": [
          "2006",
          "2010",
          "2014",
          "2018"
         ],
         "xaxis": "x3",
         "y": [
          109,
          118,
          117,
          173
         ],
         "yaxis": "y3"
        },
        {
         "marker": {
          "color": "#F58518",
          "size": 10
         },
         "mode": "lines+markers",
         "name": "BR, Shivalik-Gangetic Plain",
         "type": "scatter",
         "visible": true,
         "x": [
          "2006",
          "2010",
          "2014",
          "2018"
         ],
         "xaxis": "x4",
         "y": [
          10,
          8,
          28,
          31
         ],
         "yaxis": "y4"
        },
        {
         "marker": {
          "color": "#3366CC",
          "size": 10
         },
         "mode": "lines+markers",
         "name": "MH, Central India",
         "type": "scatter",
         "visible": true,
         "x": [
          "2006",
          "2010",
          "2014",
          "2018"
         ],
         "xaxis": "x5",
         "y": [
          103,
          169,
          190,
          312
         ],
         "yaxis": "y5"
        },
        {
         "marker": {
          "color": "#3366CC",
          "size": 10
         },
         "mode": "lines+markers",
         "name": "MP, Central India",
         "type": "scatter",
         "visible": true,
         "x": [
          "2006",
          "2010",
          "2014",
          "2018"
         ],
         "xaxis": "x6",
         "y": [
          300,
          257,
          308,
          526
         ],
         "yaxis": "y6"
        },
        {
         "marker": {
          "color": "#3366CC",
          "size": 10
         },
         "mode": "lines+markers",
         "name": "JH, Central India",
         "type": "scatter",
         "visible": true,
         "x": [
          "2006",
          "2010",
          "2014",
          "2018"
         ],
         "xaxis": "x7",
         "y": [
          0,
          10,
          3,
          5
         ],
         "yaxis": "y7"
        },
        {
         "marker": {
          "color": "rgb(231,41,138)",
          "size": 10
         },
         "mode": "lines+markers",
         "name": "AS, North East Hills and Brahmaputra Plain",
         "type": "scatter",
         "visible": true,
         "x": [
          "2006",
          "2010",
          "2014",
          "2018"
         ],
         "xaxis": "x8",
         "y": [
          70,
          143,
          167,
          190
         ],
         "yaxis": "y8"
        },
        {
         "marker": {
          "color": "#00CC96",
          "size": 10
         },
         "mode": "lines+markers",
         "name": "GA, Western Ghats",
         "type": "scatter",
         "visible": true,
         "x": [
          "2006",
          "2010",
          "2014",
          "2018"
         ],
         "xaxis": "x9",
         "y": [
          0,
          0,
          5,
          3
         ],
         "yaxis": "y9"
        },
        {
         "marker": {
          "color": "#3366CC",
          "size": 10
         },
         "mode": "lines+markers",
         "name": "CG, Central India",
         "type": "scatter",
         "visible": true,
         "x": [
          "2006",
          "2010",
          "2014",
          "2018"
         ],
         "xaxis": "x10",
         "y": [
          26,
          26,
          46,
          19
         ],
         "yaxis": "y10"
        },
        {
         "marker": {
          "color": "#3366CC",
          "size": 10
         },
         "mode": "lines+markers",
         "name": "OD, Central India",
         "type": "scatter",
         "visible": true,
         "x": [
          "2006",
          "2010",
          "2014",
          "2018"
         ],
         "xaxis": "x11",
         "y": [
          45,
          32,
          28,
          28
         ],
         "yaxis": "y11"
        },
        {
         "marker": {
          "color": "rgb(231,41,138)",
          "size": 10
         },
         "mode": "lines+markers",
         "name": "AR, North East Hills and Brahmaputra Plain",
         "type": "scatter",
         "visible": true,
         "x": [
          "2006",
          "2010",
          "2014",
          "2018"
         ],
         "xaxis": "x12",
         "y": [
          14,
          0,
          28,
          29
         ],
         "yaxis": "y12"
        },
        {
         "marker": {
          "color": "#00CC96",
          "size": 10
         },
         "mode": "lines+markers",
         "name": "KA, Western Ghats",
         "type": "scatter",
         "visible": true,
         "x": [
          "2006",
          "2010",
          "2014",
          "2018"
         ],
         "xaxis": "x13",
         "y": [
          290,
          300,
          406,
          524
         ],
         "yaxis": "y13"
        },
        {
         "marker": {
          "color": "#3366CC",
          "size": 10
         },
         "mode": "lines+markers",
         "name": "AP, Central India",
         "type": "scatter",
         "visible": true,
         "x": [
          "2006",
          "2010",
          "2014",
          "2018"
         ],
         "xaxis": "x14",
         "y": [
          95,
          72,
          68,
          74
         ],
         "yaxis": "y14"
        },
        {
         "marker": {
          "color": "rgb(231,41,138)",
          "size": 10
         },
         "mode": "lines+markers",
         "name": "NWB, North East Hills and Brahmaputra Plain",
         "type": "scatter",
         "visible": true,
         "x": [
          "2006",
          "2010",
          "2014",
          "2018"
         ],
         "xaxis": "x15",
         "y": [
          10,
          0,
          3,
          0
         ],
         "yaxis": "y15"
        },
        {
         "marker": {
          "color": "rgb(231,41,138)",
          "size": 10
         },
         "mode": "lines+markers",
         "name": "MZ, North East Hills and Brahmaputra Plain",
         "type": "scatter",
         "visible": true,
         "x": [
          "2006",
          "2010",
          "2014",
          "2018"
         ],
         "xaxis": "x16",
         "y": [
          6,
          5,
          3,
          0
         ],
         "yaxis": "y16"
        },
        {
         "marker": {
          "color": "#00CC96",
          "size": 10
         },
         "mode": "lines+markers",
         "name": "KL, Western Ghats",
         "type": "scatter",
         "visible": true,
         "x": [
          "2006",
          "2010",
          "2014",
          "2018"
         ],
         "xaxis": "x17",
         "y": [
          46,
          71,
          136,
          190
         ],
         "yaxis": "y17"
        },
        {
         "marker": {
          "color": "#00CC96",
          "size": 10
         },
         "mode": "lines+markers",
         "name": "TN, Western Ghats",
         "type": "scatter",
         "visible": true,
         "x": [
          "2006",
          "2010",
          "2014",
          "2018"
         ],
         "xaxis": "x18",
         "y": [
          76,
          163,
          229,
          264
         ],
         "yaxis": "y18"
        },
        {
         "marker": {
          "color": "rgb(102,17,0)",
          "size": 10
         },
         "mode": "lines+markers",
         "name": "SB, Sunderbans",
         "type": "scatter",
         "visible": true,
         "x": [
          "2006",
          "2010",
          "2014",
          "2018"
         ],
         "xaxis": "x19",
         "y": [
          0,
          70,
          76,
          88
         ],
         "yaxis": "y19"
        }
       ],
       "layout": {
        "annotations": [
         {
          "font": {
           "size": 16
          },
          "showarrow": false,
          "text": "RJ",
          "x": 0.10625,
          "xanchor": "center",
          "xref": "paper",
          "y": 0.9999999999999999,
          "yanchor": "bottom",
          "yref": "paper"
         },
         {
          "font": {
           "size": 16
          },
          "showarrow": false,
          "text": "UK",
          "x": 0.36875,
          "xanchor": "center",
          "xref": "paper",
          "y": 0.9999999999999999,
          "yanchor": "bottom",
          "yref": "paper"
         },
         {
          "font": {
           "size": 16
          },
          "showarrow": false,
          "text": "UP",
          "x": 0.6312500000000001,
          "xanchor": "center",
          "xref": "paper",
          "y": 0.9999999999999999,
          "yanchor": "bottom",
          "yref": "paper"
         },
         {
          "font": {
           "size": 16
          },
          "showarrow": false,
          "text": "BR",
          "x": 0.89375,
          "xanchor": "center",
          "xref": "paper",
          "y": 0.9999999999999999,
          "yanchor": "bottom",
          "yref": "paper"
         },
         {
          "font": {
           "size": 16
          },
          "showarrow": false,
          "text": "MH",
          "x": 0.10625,
          "xanchor": "center",
          "xref": "paper",
          "y": 0.7839999999999999,
          "yanchor": "bottom",
          "yref": "paper"
         },
         {
          "font": {
           "size": 16
          },
          "showarrow": false,
          "text": "MP",
          "x": 0.36875,
          "xanchor": "center",
          "xref": "paper",
          "y": 0.7839999999999999,
          "yanchor": "bottom",
          "yref": "paper"
         },
         {
          "font": {
           "size": 16
          },
          "showarrow": false,
          "text": "JH",
          "x": 0.6312500000000001,
          "xanchor": "center",
          "xref": "paper",
          "y": 0.7839999999999999,
          "yanchor": "bottom",
          "yref": "paper"
         },
         {
          "font": {
           "size": 16
          },
          "showarrow": false,
          "text": "AS",
          "x": 0.89375,
          "xanchor": "center",
          "xref": "paper",
          "y": 0.7839999999999999,
          "yanchor": "bottom",
          "yref": "paper"
         },
         {
          "font": {
           "size": 16
          },
          "showarrow": false,
          "text": "GA",
          "x": 0.10625,
          "xanchor": "center",
          "xref": "paper",
          "y": 0.568,
          "yanchor": "bottom",
          "yref": "paper"
         },
         {
          "font": {
           "size": 16
          },
          "showarrow": false,
          "text": "CG",
          "x": 0.36875,
          "xanchor": "center",
          "xref": "paper",
          "y": 0.568,
          "yanchor": "bottom",
          "yref": "paper"
         },
         {
          "font": {
           "size": 16
          },
          "showarrow": false,
          "text": "OD",
          "x": 0.6312500000000001,
          "xanchor": "center",
          "xref": "paper",
          "y": 0.568,
          "yanchor": "bottom",
          "yref": "paper"
         },
         {
          "font": {
           "size": 16
          },
          "showarrow": false,
          "text": "AR",
          "x": 0.89375,
          "xanchor": "center",
          "xref": "paper",
          "y": 0.568,
          "yanchor": "bottom",
          "yref": "paper"
         },
         {
          "font": {
           "size": 16
          },
          "showarrow": false,
          "text": "KA",
          "x": 0.10625,
          "xanchor": "center",
          "xref": "paper",
          "y": 0.352,
          "yanchor": "bottom",
          "yref": "paper"
         },
         {
          "font": {
           "size": 16
          },
          "showarrow": false,
          "text": "AP",
          "x": 0.36875,
          "xanchor": "center",
          "xref": "paper",
          "y": 0.352,
          "yanchor": "bottom",
          "yref": "paper"
         },
         {
          "font": {
           "size": 16
          },
          "showarrow": false,
          "text": "NWB",
          "x": 0.6312500000000001,
          "xanchor": "center",
          "xref": "paper",
          "y": 0.352,
          "yanchor": "bottom",
          "yref": "paper"
         },
         {
          "font": {
           "size": 16
          },
          "showarrow": false,
          "text": "MZ",
          "x": 0.89375,
          "xanchor": "center",
          "xref": "paper",
          "y": 0.352,
          "yanchor": "bottom",
          "yref": "paper"
         },
         {
          "font": {
           "size": 16
          },
          "showarrow": false,
          "text": "KL",
          "x": 0.10625,
          "xanchor": "center",
          "xref": "paper",
          "y": 0.13599999999999998,
          "yanchor": "bottom",
          "yref": "paper"
         },
         {
          "font": {
           "size": 16
          },
          "showarrow": false,
          "text": "TN",
          "x": 0.36875,
          "xanchor": "center",
          "xref": "paper",
          "y": 0.13599999999999998,
          "yanchor": "bottom",
          "yref": "paper"
         },
         {
          "font": {
           "size": 16
          },
          "showarrow": false,
          "text": "SB",
          "x": 0.6312500000000001,
          "xanchor": "center",
          "xref": "paper",
          "y": 0.13599999999999998,
          "yanchor": "bottom",
          "yref": "paper"
         },
         {
          "font": {
           "size": 16
          },
          "showarrow": false,
          "text": " ",
          "x": 0.89375,
          "xanchor": "center",
          "xref": "paper",
          "y": 0.13599999999999998,
          "yanchor": "bottom",
          "yref": "paper"
         }
        ],
        "height": 1100,
        "legend": {
         "title": {
          "text": "State, Geographical Region Category:"
         }
        },
        "showlegend": true,
        "template": {
         "data": {
          "bar": [
           {
            "error_x": {
             "color": "#2a3f5f"
            },
            "error_y": {
             "color": "#2a3f5f"
            },
            "marker": {
             "line": {
              "color": "#E5ECF6",
              "width": 0.5
             }
            },
            "type": "bar"
           }
          ],
          "barpolar": [
           {
            "marker": {
             "line": {
              "color": "#E5ECF6",
              "width": 0.5
             }
            },
            "type": "barpolar"
           }
          ],
          "carpet": [
           {
            "aaxis": {
             "endlinecolor": "#2a3f5f",
             "gridcolor": "white",
             "linecolor": "white",
             "minorgridcolor": "white",
             "startlinecolor": "#2a3f5f"
            },
            "baxis": {
             "endlinecolor": "#2a3f5f",
             "gridcolor": "white",
             "linecolor": "white",
             "minorgridcolor": "white",
             "startlinecolor": "#2a3f5f"
            },
            "type": "carpet"
           }
          ],
          "choropleth": [
           {
            "colorbar": {
             "outlinewidth": 0,
             "ticks": ""
            },
            "type": "choropleth"
           }
          ],
          "contour": [
           {
            "colorbar": {
             "outlinewidth": 0,
             "ticks": ""
            },
            "colorscale": [
             [
              0,
              "#0d0887"
             ],
             [
              0.1111111111111111,
              "#46039f"
             ],
             [
              0.2222222222222222,
              "#7201a8"
             ],
             [
              0.3333333333333333,
              "#9c179e"
             ],
             [
              0.4444444444444444,
              "#bd3786"
             ],
             [
              0.5555555555555556,
              "#d8576b"
             ],
             [
              0.6666666666666666,
              "#ed7953"
             ],
             [
              0.7777777777777778,
              "#fb9f3a"
             ],
             [
              0.8888888888888888,
              "#fdca26"
             ],
             [
              1,
              "#f0f921"
             ]
            ],
            "type": "contour"
           }
          ],
          "contourcarpet": [
           {
            "colorbar": {
             "outlinewidth": 0,
             "ticks": ""
            },
            "type": "contourcarpet"
           }
          ],
          "heatmap": [
           {
            "colorbar": {
             "outlinewidth": 0,
             "ticks": ""
            },
            "colorscale": [
             [
              0,
              "#0d0887"
             ],
             [
              0.1111111111111111,
              "#46039f"
             ],
             [
              0.2222222222222222,
              "#7201a8"
             ],
             [
              0.3333333333333333,
              "#9c179e"
             ],
             [
              0.4444444444444444,
              "#bd3786"
             ],
             [
              0.5555555555555556,
              "#d8576b"
             ],
             [
              0.6666666666666666,
              "#ed7953"
             ],
             [
              0.7777777777777778,
              "#fb9f3a"
             ],
             [
              0.8888888888888888,
              "#fdca26"
             ],
             [
              1,
              "#f0f921"
             ]
            ],
            "type": "heatmap"
           }
          ],
          "heatmapgl": [
           {
            "colorbar": {
             "outlinewidth": 0,
             "ticks": ""
            },
            "colorscale": [
             [
              0,
              "#0d0887"
             ],
             [
              0.1111111111111111,
              "#46039f"
             ],
             [
              0.2222222222222222,
              "#7201a8"
             ],
             [
              0.3333333333333333,
              "#9c179e"
             ],
             [
              0.4444444444444444,
              "#bd3786"
             ],
             [
              0.5555555555555556,
              "#d8576b"
             ],
             [
              0.6666666666666666,
              "#ed7953"
             ],
             [
              0.7777777777777778,
              "#fb9f3a"
             ],
             [
              0.8888888888888888,
              "#fdca26"
             ],
             [
              1,
              "#f0f921"
             ]
            ],
            "type": "heatmapgl"
           }
          ],
          "histogram": [
           {
            "marker": {
             "colorbar": {
              "outlinewidth": 0,
              "ticks": ""
             }
            },
            "type": "histogram"
           }
          ],
          "histogram2d": [
           {
            "colorbar": {
             "outlinewidth": 0,
             "ticks": ""
            },
            "colorscale": [
             [
              0,
              "#0d0887"
             ],
             [
              0.1111111111111111,
              "#46039f"
             ],
             [
              0.2222222222222222,
              "#7201a8"
             ],
             [
              0.3333333333333333,
              "#9c179e"
             ],
             [
              0.4444444444444444,
              "#bd3786"
             ],
             [
              0.5555555555555556,
              "#d8576b"
             ],
             [
              0.6666666666666666,
              "#ed7953"
             ],
             [
              0.7777777777777778,
              "#fb9f3a"
             ],
             [
              0.8888888888888888,
              "#fdca26"
             ],
             [
              1,
              "#f0f921"
             ]
            ],
            "type": "histogram2d"
           }
          ],
          "histogram2dcontour": [
           {
            "colorbar": {
             "outlinewidth": 0,
             "ticks": ""
            },
            "colorscale": [
             [
              0,
              "#0d0887"
             ],
             [
              0.1111111111111111,
              "#46039f"
             ],
             [
              0.2222222222222222,
              "#7201a8"
             ],
             [
              0.3333333333333333,
              "#9c179e"
             ],
             [
              0.4444444444444444,
              "#bd3786"
             ],
             [
              0.5555555555555556,
              "#d8576b"
             ],
             [
              0.6666666666666666,
              "#ed7953"
             ],
             [
              0.7777777777777778,
              "#fb9f3a"
             ],
             [
              0.8888888888888888,
              "#fdca26"
             ],
             [
              1,
              "#f0f921"
             ]
            ],
            "type": "histogram2dcontour"
           }
          ],
          "mesh3d": [
           {
            "colorbar": {
             "outlinewidth": 0,
             "ticks": ""
            },
            "type": "mesh3d"
           }
          ],
          "parcoords": [
           {
            "line": {
             "colorbar": {
              "outlinewidth": 0,
              "ticks": ""
             }
            },
            "type": "parcoords"
           }
          ],
          "pie": [
           {
            "automargin": true,
            "type": "pie"
           }
          ],
          "scatter": [
           {
            "marker": {
             "colorbar": {
              "outlinewidth": 0,
              "ticks": ""
             }
            },
            "type": "scatter"
           }
          ],
          "scatter3d": [
           {
            "line": {
             "colorbar": {
              "outlinewidth": 0,
              "ticks": ""
             }
            },
            "marker": {
             "colorbar": {
              "outlinewidth": 0,
              "ticks": ""
             }
            },
            "type": "scatter3d"
           }
          ],
          "scattercarpet": [
           {
            "marker": {
             "colorbar": {
              "outlinewidth": 0,
              "ticks": ""
             }
            },
            "type": "scattercarpet"
           }
          ],
          "scattergeo": [
           {
            "marker": {
             "colorbar": {
              "outlinewidth": 0,
              "ticks": ""
             }
            },
            "type": "scattergeo"
           }
          ],
          "scattergl": [
           {
            "marker": {
             "colorbar": {
              "outlinewidth": 0,
              "ticks": ""
             }
            },
            "type": "scattergl"
           }
          ],
          "scattermapbox": [
           {
            "marker": {
             "colorbar": {
              "outlinewidth": 0,
              "ticks": ""
             }
            },
            "type": "scattermapbox"
           }
          ],
          "scatterpolar": [
           {
            "marker": {
             "colorbar": {
              "outlinewidth": 0,
              "ticks": ""
             }
            },
            "type": "scatterpolar"
           }
          ],
          "scatterpolargl": [
           {
            "marker": {
             "colorbar": {
              "outlinewidth": 0,
              "ticks": ""
             }
            },
            "type": "scatterpolargl"
           }
          ],
          "scatterternary": [
           {
            "marker": {
             "colorbar": {
              "outlinewidth": 0,
              "ticks": ""
             }
            },
            "type": "scatterternary"
           }
          ],
          "surface": [
           {
            "colorbar": {
             "outlinewidth": 0,
             "ticks": ""
            },
            "colorscale": [
             [
              0,
              "#0d0887"
             ],
             [
              0.1111111111111111,
              "#46039f"
             ],
             [
              0.2222222222222222,
              "#7201a8"
             ],
             [
              0.3333333333333333,
              "#9c179e"
             ],
             [
              0.4444444444444444,
              "#bd3786"
             ],
             [
              0.5555555555555556,
              "#d8576b"
             ],
             [
              0.6666666666666666,
              "#ed7953"
             ],
             [
              0.7777777777777778,
              "#fb9f3a"
             ],
             [
              0.8888888888888888,
              "#fdca26"
             ],
             [
              1,
              "#f0f921"
             ]
            ],
            "type": "surface"
           }
          ],
          "table": [
           {
            "cells": {
             "fill": {
              "color": "#EBF0F8"
             },
             "line": {
              "color": "white"
             }
            },
            "header": {
             "fill": {
              "color": "#C8D4E3"
             },
             "line": {
              "color": "white"
             }
            },
            "type": "table"
           }
          ]
         },
         "layout": {
          "annotationdefaults": {
           "arrowcolor": "#2a3f5f",
           "arrowhead": 0,
           "arrowwidth": 1
          },
          "coloraxis": {
           "colorbar": {
            "outlinewidth": 0,
            "ticks": ""
           }
          },
          "colorscale": {
           "diverging": [
            [
             0,
             "#8e0152"
            ],
            [
             0.1,
             "#c51b7d"
            ],
            [
             0.2,
             "#de77ae"
            ],
            [
             0.3,
             "#f1b6da"
            ],
            [
             0.4,
             "#fde0ef"
            ],
            [
             0.5,
             "#f7f7f7"
            ],
            [
             0.6,
             "#e6f5d0"
            ],
            [
             0.7,
             "#b8e186"
            ],
            [
             0.8,
             "#7fbc41"
            ],
            [
             0.9,
             "#4d9221"
            ],
            [
             1,
             "#276419"
            ]
           ],
           "sequential": [
            [
             0,
             "#0d0887"
            ],
            [
             0.1111111111111111,
             "#46039f"
            ],
            [
             0.2222222222222222,
             "#7201a8"
            ],
            [
             0.3333333333333333,
             "#9c179e"
            ],
            [
             0.4444444444444444,
             "#bd3786"
            ],
            [
             0.5555555555555556,
             "#d8576b"
            ],
            [
             0.6666666666666666,
             "#ed7953"
            ],
            [
             0.7777777777777778,
             "#fb9f3a"
            ],
            [
             0.8888888888888888,
             "#fdca26"
            ],
            [
             1,
             "#f0f921"
            ]
           ],
           "sequentialminus": [
            [
             0,
             "#0d0887"
            ],
            [
             0.1111111111111111,
             "#46039f"
            ],
            [
             0.2222222222222222,
             "#7201a8"
            ],
            [
             0.3333333333333333,
             "#9c179e"
            ],
            [
             0.4444444444444444,
             "#bd3786"
            ],
            [
             0.5555555555555556,
             "#d8576b"
            ],
            [
             0.6666666666666666,
             "#ed7953"
            ],
            [
             0.7777777777777778,
             "#fb9f3a"
            ],
            [
             0.8888888888888888,
             "#fdca26"
            ],
            [
             1,
             "#f0f921"
            ]
           ]
          },
          "colorway": [
           "#636efa",
           "#EF553B",
           "#00cc96",
           "#ab63fa",
           "#FFA15A",
           "#19d3f3",
           "#FF6692",
           "#B6E880",
           "#FF97FF",
           "#FECB52"
          ],
          "font": {
           "color": "#2a3f5f"
          },
          "geo": {
           "bgcolor": "white",
           "lakecolor": "white",
           "landcolor": "#E5ECF6",
           "showlakes": true,
           "showland": true,
           "subunitcolor": "white"
          },
          "hoverlabel": {
           "align": "left"
          },
          "hovermode": "closest",
          "mapbox": {
           "style": "light"
          },
          "paper_bgcolor": "white",
          "plot_bgcolor": "#E5ECF6",
          "polar": {
           "angularaxis": {
            "gridcolor": "white",
            "linecolor": "white",
            "ticks": ""
           },
           "bgcolor": "#E5ECF6",
           "radialaxis": {
            "gridcolor": "white",
            "linecolor": "white",
            "ticks": ""
           }
          },
          "scene": {
           "xaxis": {
            "backgroundcolor": "#E5ECF6",
            "gridcolor": "white",
            "gridwidth": 2,
            "linecolor": "white",
            "showbackground": true,
            "ticks": "",
            "zerolinecolor": "white"
           },
           "yaxis": {
            "backgroundcolor": "#E5ECF6",
            "gridcolor": "white",
            "gridwidth": 2,
            "linecolor": "white",
            "showbackground": true,
            "ticks": "",
            "zerolinecolor": "white"
           },
           "zaxis": {
            "backgroundcolor": "#E5ECF6",
            "gridcolor": "white",
            "gridwidth": 2,
            "linecolor": "white",
            "showbackground": true,
            "ticks": "",
            "zerolinecolor": "white"
           }
          },
          "shapedefaults": {
           "line": {
            "color": "#2a3f5f"
           }
          },
          "ternary": {
           "aaxis": {
            "gridcolor": "white",
            "linecolor": "white",
            "ticks": ""
           },
           "baxis": {
            "gridcolor": "white",
            "linecolor": "white",
            "ticks": ""
           },
           "bgcolor": "#E5ECF6",
           "caxis": {
            "gridcolor": "white",
            "linecolor": "white",
            "ticks": ""
           }
          },
          "title": {
           "x": 0.05
          },
          "xaxis": {
           "automargin": true,
           "gridcolor": "white",
           "linecolor": "white",
           "ticks": "",
           "title": {
            "standoff": 15
           },
           "zerolinecolor": "white",
           "zerolinewidth": 2
          },
          "yaxis": {
           "automargin": true,
           "gridcolor": "white",
           "linecolor": "white",
           "ticks": "",
           "title": {
            "standoff": 15
           },
           "zerolinecolor": "white",
           "zerolinewidth": 2
          }
         }
        },
        "title": {
         "text": "Tiger Counts"
        },
        "width": 1000,
        "xaxis": {
         "anchor": "y",
         "autorange": true,
         "domain": [
          0,
          0.2125
         ],
         "range": [
          2004.5137384590796,
          2019.4862615409204
         ],
         "showticklabels": true,
         "tickangle": 60,
         "tickmode": "array",
         "tickvals": [
          2006,
          2010,
          2014,
          2018
         ],
         "type": "linear",
         "visible": true
        },
        "xaxis10": {
         "anchor": "y10",
         "autorange": true,
         "domain": [
          0.2625,
          0.475
         ],
         "range": [
          2004.5137384590796,
          2019.4862615409204
         ],
         "showticklabels": true,
         "tickangle": 60,
         "tickmode": "array",
         "tickvals": [
          2006,
          2010,
          2014,
          2018
         ],
         "type": "linear",
         "visible": true
        },
        "xaxis11": {
         "anchor": "y11",
         "autorange": true,
         "domain": [
          0.525,
          0.7375
         ],
         "range": [
          2004.5137384590796,
          2019.4862615409204
         ],
         "showticklabels": true,
         "tickangle": 60,
         "tickmode": "array",
         "tickvals": [
          2006,
          2010,
          2014,
          2018
         ],
         "type": "linear",
         "visible": true
        },
        "xaxis12": {
         "anchor": "y12",
         "autorange": true,
         "domain": [
          0.7875,
          1
         ],
         "range": [
          2004.5137384590796,
          2019.4862615409204
         ],
         "showticklabels": true,
         "tickangle": 60,
         "tickmode": "array",
         "tickvals": [
          2006,
          2010,
          2014,
          2018
         ],
         "type": "linear",
         "visible": true
        },
        "xaxis13": {
         "anchor": "y13",
         "autorange": true,
         "domain": [
          0,
          0.2125
         ],
         "range": [
          2004.5137384590796,
          2019.4862615409204
         ],
         "showticklabels": true,
         "tickangle": 60,
         "tickmode": "array",
         "tickvals": [
          2006,
          2010,
          2014,
          2018
         ],
         "type": "linear",
         "visible": true
        },
        "xaxis14": {
         "anchor": "y14",
         "autorange": true,
         "domain": [
          0.2625,
          0.475
         ],
         "range": [
          2004.5137384590796,
          2019.4862615409204
         ],
         "showticklabels": true,
         "tickangle": 60,
         "tickmode": "array",
         "tickvals": [
          2006,
          2010,
          2014,
          2018
         ],
         "type": "linear",
         "visible": true
        },
        "xaxis15": {
         "anchor": "y15",
         "autorange": true,
         "domain": [
          0.525,
          0.7375
         ],
         "range": [
          2004.5137384590796,
          2019.4862615409204
         ],
         "showticklabels": true,
         "tickangle": 60,
         "tickmode": "array",
         "tickvals": [
          2006,
          2010,
          2014,
          2018
         ],
         "type": "linear",
         "visible": true
        },
        "xaxis16": {
         "anchor": "y16",
         "autorange": true,
         "domain": [
          0.7875,
          1
         ],
         "range": [
          2004.5137384590796,
          2019.4862615409204
         ],
         "showticklabels": true,
         "tickangle": 60,
         "tickmode": "array",
         "tickvals": [
          2006,
          2010,
          2014,
          2018
         ],
         "type": "linear",
         "visible": true
        },
        "xaxis17": {
         "anchor": "y17",
         "autorange": true,
         "domain": [
          0,
          0.2125
         ],
         "range": [
          2004.5137384590796,
          2019.4862615409204
         ],
         "showticklabels": true,
         "tickangle": 60,
         "tickmode": "array",
         "tickvals": [
          2006,
          2010,
          2014,
          2018
         ],
         "type": "linear",
         "visible": true
        },
        "xaxis18": {
         "anchor": "y18",
         "autorange": true,
         "domain": [
          0.2625,
          0.475
         ],
         "range": [
          2004.5137384590796,
          2019.4862615409204
         ],
         "showticklabels": true,
         "tickangle": 60,
         "tickmode": "array",
         "tickvals": [
          2006,
          2010,
          2014,
          2018
         ],
         "type": "linear",
         "visible": true
        },
        "xaxis19": {
         "anchor": "y19",
         "autorange": true,
         "domain": [
          0.525,
          0.7375
         ],
         "range": [
          2004.5137384590796,
          2019.4862615409204
         ],
         "showticklabels": true,
         "tickangle": 60,
         "tickmode": "array",
         "tickvals": [
          2006,
          2010,
          2014,
          2018
         ],
         "type": "linear",
         "visible": true
        },
        "xaxis2": {
         "anchor": "y2",
         "autorange": true,
         "domain": [
          0.2625,
          0.475
         ],
         "range": [
          2004.5137384590796,
          2019.4862615409204
         ],
         "showticklabels": true,
         "tickangle": 60,
         "tickmode": "array",
         "tickvals": [
          2006,
          2010,
          2014,
          2018
         ],
         "type": "linear",
         "visible": true
        },
        "xaxis20": {
         "anchor": "y20",
         "domain": [
          0.7875,
          1
         ],
         "showticklabels": true,
         "tickangle": 60,
         "visible": true
        },
        "xaxis3": {
         "anchor": "y3",
         "autorange": true,
         "domain": [
          0.525,
          0.7375
         ],
         "range": [
          2004.5137384590796,
          2019.4862615409204
         ],
         "showticklabels": true,
         "tickangle": 60,
         "tickmode": "array",
         "tickvals": [
          2006,
          2010,
          2014,
          2018
         ],
         "type": "linear",
         "visible": true
        },
        "xaxis4": {
         "anchor": "y4",
         "autorange": true,
         "domain": [
          0.7875,
          1
         ],
         "range": [
          2004.5137384590796,
          2019.4862615409204
         ],
         "showticklabels": true,
         "tickangle": 60,
         "tickmode": "array",
         "tickvals": [
          2006,
          2010,
          2014,
          2018
         ],
         "type": "linear",
         "visible": true
        },
        "xaxis5": {
         "anchor": "y5",
         "autorange": true,
         "domain": [
          0,
          0.2125
         ],
         "range": [
          2004.5137384590796,
          2019.4862615409204
         ],
         "showticklabels": true,
         "tickangle": 60,
         "tickmode": "array",
         "tickvals": [
          2006,
          2010,
          2014,
          2018
         ],
         "type": "linear",
         "visible": true
        },
        "xaxis6": {
         "anchor": "y6",
         "autorange": true,
         "domain": [
          0.2625,
          0.475
         ],
         "range": [
          2004.5137384590796,
          2019.4862615409204
         ],
         "showticklabels": true,
         "tickangle": 60,
         "tickmode": "array",
         "tickvals": [
          2006,
          2010,
          2014,
          2018
         ],
         "type": "linear",
         "visible": true
        },
        "xaxis7": {
         "anchor": "y7",
         "autorange": true,
         "domain": [
          0.525,
          0.7375
         ],
         "range": [
          2004.5137384590796,
          2019.4862615409204
         ],
         "showticklabels": true,
         "tickangle": 60,
         "tickmode": "array",
         "tickvals": [
          2006,
          2010,
          2014,
          2018
         ],
         "type": "linear",
         "visible": true
        },
        "xaxis8": {
         "anchor": "y8",
         "autorange": true,
         "domain": [
          0.7875,
          1
         ],
         "range": [
          2004.5137384590796,
          2019.4862615409204
         ],
         "showticklabels": true,
         "tickangle": 60,
         "tickmode": "array",
         "tickvals": [
          2006,
          2010,
          2014,
          2018
         ],
         "type": "linear",
         "visible": true
        },
        "xaxis9": {
         "anchor": "y9",
         "autorange": true,
         "domain": [
          0,
          0.2125
         ],
         "range": [
          2004.5137384590796,
          2019.4862615409204
         ],
         "showticklabels": true,
         "tickangle": 60,
         "tickmode": "array",
         "tickvals": [
          2006,
          2010,
          2014,
          2018
         ],
         "type": "linear",
         "visible": true
        },
        "yaxis": {
         "anchor": "x",
         "autorange": true,
         "domain": [
          0.8639999999999999,
          0.9999999999999999
         ],
         "range": [
          30.375973948136014,
          46.624026051863986
         ],
         "showticklabels": true,
         "type": "linear",
         "visible": true
        },
        "yaxis10": {
         "anchor": "x10",
         "autorange": true,
         "domain": [
          0.43199999999999994,
          0.568
         ],
         "range": [
          15.627022815359412,
          49.37297718464059
         ],
         "showticklabels": true,
         "type": "linear",
         "visible": true
        },
        "yaxis11": {
         "anchor": "x11",
         "autorange": true,
         "domain": [
          0.43199999999999994,
          0.568
         ],
         "range": [
          25.876273624485556,
          47.123726375514444
         ],
         "showticklabels": true,
         "type": "linear",
         "visible": true
        },
        "yaxis12": {
         "anchor": "x12",
         "autorange": true,
         "domain": [
          0.43199999999999994,
          0.568
         ],
         "range": [
          -3.622827346465817,
          32.62282734646582
         ],
         "showticklabels": true,
         "type": "linear",
         "visible": true
        },
        "yaxis13": {
         "anchor": "x13",
         "autorange": true,
         "domain": [
          0.21599999999999997,
          0.352
         ],
         "range": [
          260.7675310664482,
          553.2324689335518
         ],
         "showticklabels": true,
         "type": "linear",
         "visible": true
        },
        "yaxis14": {
         "anchor": "x14",
         "autorange": true,
         "domain": [
          0.21599999999999997,
          0.352
         ],
         "range": [
          64.62702281535941,
          98.37297718464059
         ],
         "showticklabels": true,
         "type": "linear",
         "visible": true
        },
        "yaxis15": {
         "anchor": "x15",
         "autorange": true,
         "domain": [
          0.21599999999999997,
          0.352
         ],
         "range": [
          -1.2492508091261438,
          11.249250809126144
         ],
         "showticklabels": true,
         "type": "linear",
         "visible": true
        },
        "yaxis16": {
         "anchor": "x16",
         "autorange": true,
         "domain": [
          0.21599999999999997,
          0.352
         ],
         "range": [
          -0.7495504854756863,
          6.7495504854756865
         ],
         "showticklabels": true,
         "type": "linear",
         "visible": true
        },
        "yaxis17": {
         "anchor": "x17",
         "autorange": true,
         "domain": [
          0,
          0.13599999999999998
         ],
         "range": [
          28.010788348583528,
          207.98921165141647
         ],
         "showticklabels": true,
         "type": "linear",
         "visible": true
        },
        "yaxis18": {
         "anchor": "x18",
         "autorange": true,
         "domain": [
          0,
          0.13599999999999998
         ],
         "range": [
          52.51408478842849,
          287.4859152115715
         ],
         "showticklabels": true,
         "type": "linear",
         "visible": true
        },
        "yaxis19": {
         "anchor": "x19",
         "autorange": true,
         "domain": [
          0,
          0.13599999999999998
         ],
         "range": [
          -10.993407120310067,
          98.99340712031007
         ],
         "showticklabels": true,
         "type": "linear",
         "visible": true
        },
        "yaxis2": {
         "anchor": "x2",
         "autorange": true,
         "domain": [
          0.8639999999999999,
          0.9999999999999999
         ],
         "range": [
          145.0197786390698,
          474.9802213609302
         ],
         "showticklabels": true,
         "type": "linear",
         "visible": true
        },
        "yaxis20": {
         "anchor": "x20",
         "domain": [
          0,
          0.13599999999999998
         ],
         "showticklabels": true,
         "visible": true
        },
        "yaxis3": {
         "anchor": "x3",
         "autorange": true,
         "domain": [
          0.8639999999999999,
          0.9999999999999999
         ],
         "range": [
          101.00479482159268,
          180.99520517840733
         ],
         "showticklabels": true,
         "type": "linear",
         "visible": true
        },
        "yaxis4": {
         "anchor": "x4",
         "autorange": true,
         "domain": [
          0.8639999999999999,
          0.9999999999999999
         ],
         "range": [
          5.1267231390098695,
          33.87327686099013
         ],
         "showticklabels": true,
         "type": "linear",
         "visible": true
        },
        "yaxis5": {
         "anchor": "x5",
         "autorange": true,
         "domain": [
          0.6479999999999999,
          0.7839999999999999
         ],
         "range": [
          76.8906580892636,
          338.1093419107364
         ],
         "showticklabels": true,
         "type": "linear",
         "visible": true
        },
        "yaxis6": {
         "anchor": "x6",
         "autorange": true,
         "domain": [
          0.6479999999999999,
          0.7839999999999999
         ],
         "range": [
          223.39515323450672,
          559.6048467654932
         ],
         "showticklabels": true,
         "type": "linear",
         "visible": true
        },
        "yaxis7": {
         "anchor": "x7",
         "autorange": true,
         "domain": [
          0.6479999999999999,
          0.7839999999999999
         ],
         "range": [
          -1.2492508091261438,
          11.249250809126144
         ],
         "showticklabels": true,
         "type": "linear",
         "visible": true
        },
        "yaxis8": {
         "anchor": "x8",
         "autorange": true,
         "domain": [
          0.6479999999999999,
          0.7839999999999999
         ],
         "range": [
          55.008990290486274,
          204.99100970951372
         ],
         "showticklabels": true,
         "type": "linear",
         "visible": true
        },
        "yaxis9": {
         "anchor": "x9",
         "autorange": true,
         "domain": [
          0.43199999999999994,
          0.568
         ],
         "range": [
          -0.6246254045630719,
          5.624625404563072
         ],
         "showticklabels": true,
         "type": "linear",
         "visible": true
        }
       }
      },
      "image/png": "[encoded data removed]",
      "text/html": [
       "<div>                            <div id=\"5b61c2de-13f2-47b7-b6a3-1c6c6e659f05\" class=\"plotly-graph-div\" style=\"height:1100px; width:1000px;\"></div>            <script type=\"text/javascript\">                require([\"plotly\"], function(Plotly) {                    window.PLOTLYENV=window.PLOTLYENV || {};                                    if (document.getElementById(\"5b61c2de-13f2-47b7-b6a3-1c6c6e659f05\")) {                    Plotly.newPlot(                        \"5b61c2de-13f2-47b7-b6a3-1c6c6e659f05\",                        [{\"marker\": {\"color\": \"#3366CC\", \"size\": 10}, \"mode\": \"lines+markers\", \"name\": \"RJ, Central India\", \"type\": \"scatter\", \"visible\": true, \"x\": [\"2006\", \"2010\", \"2014\", \"2018\"], \"xaxis\": \"x\", \"y\": [32, 36, 45, 36], \"yaxis\": \"y\"}, {\"marker\": {\"color\": \"#F58518\", \"size\": 10}, \"mode\": \"lines+markers\", \"name\": \"UK, Shivalik-Gangetic Plain\", \"type\": \"scatter\", \"visible\": true, \"x\": [\"2006\", \"2010\", \"2014\", \"2018\"], \"xaxis\": \"x2\", \"y\": [178, 227, 340, 442], \"yaxis\": \"y2\"}, {\"marker\": {\"color\": \"#F58518\", \"size\": 10}, \"mode\": \"lines+markers\", \"name\": \"UP, Shivalik-Gangetic Plain\", \"type\": \"scatter\", \"visible\": true, \"x\": [\"2006\", \"2010\", \"2014\", \"2018\"], \"xaxis\": \"x3\", \"y\": [109, 118, 117, 173], \"yaxis\": \"y3\"}, {\"marker\": {\"color\": \"#F58518\", \"size\": 10}, \"mode\": \"lines+markers\", \"name\": \"BR, Shivalik-Gangetic Plain\", \"type\": \"scatter\", \"visible\": true, \"x\": [\"2006\", \"2010\", \"2014\", \"2018\"], \"xaxis\": \"x4\", \"y\": [10, 8, 28, 31], \"yaxis\": \"y4\"}, {\"marker\": {\"color\": \"#3366CC\", \"size\": 10}, \"mode\": \"lines+markers\", \"name\": \"MH, Central India\", \"type\": \"scatter\", \"visible\": true, \"x\": [\"2006\", \"2010\", \"2014\", \"2018\"], \"xaxis\": \"x5\", \"y\": [103, 169, 190, 312], \"yaxis\": \"y5\"}, {\"marker\": {\"color\": \"#3366CC\", \"size\": 10}, \"mode\": \"lines+markers\", \"name\": \"MP, Central India\", \"type\": \"scatter\", \"visible\": true, \"x\": [\"2006\", \"2010\", \"2014\", \"2018\"], \"xaxis\": \"x6\", \"y\": [300, 257, 308, 526], \"yaxis\": \"y6\"}, {\"marker\": {\"color\": \"#3366CC\", \"size\": 10}, \"mode\": \"lines+markers\", \"name\": \"JH, Central India\", \"type\": \"scatter\", \"visible\": true, \"x\": [\"2006\", \"2010\", \"2014\", \"2018\"], \"xaxis\": \"x7\", \"y\": [0, 10, 3, 5], \"yaxis\": \"y7\"}, {\"marker\": {\"color\": \"rgb(231,41,138)\", \"size\": 10}, \"mode\": \"lines+markers\", \"name\": \"AS, North East Hills and Brahmaputra Plain\", \"type\": \"scatter\", \"visible\": true, \"x\": [\"2006\", \"2010\", \"2014\", \"2018\"], \"xaxis\": \"x8\", \"y\": [70, 143, 167, 190], \"yaxis\": \"y8\"}, {\"marker\": {\"color\": \"#00CC96\", \"size\": 10}, \"mode\": \"lines+markers\", \"name\": \"GA, Western Ghats\", \"type\": \"scatter\", \"visible\": true, \"x\": [\"2006\", \"2010\", \"2014\", \"2018\"], \"xaxis\": \"x9\", \"y\": [0, 0, 5, 3], \"yaxis\": \"y9\"}, {\"marker\": {\"color\": \"#3366CC\", \"size\": 10}, \"mode\": \"lines+markers\", \"name\": \"CG, Central India\", \"type\": \"scatter\", \"visible\": true, \"x\": [\"2006\", \"2010\", \"2014\", \"2018\"], \"xaxis\": \"x10\", \"y\": [26, 26, 46, 19], \"yaxis\": \"y10\"}, {\"marker\": {\"color\": \"#3366CC\", \"size\": 10}, \"mode\": \"lines+markers\", \"name\": \"OD, Central India\", \"type\": \"scatter\", \"visible\": true, \"x\": [\"2006\", \"2010\", \"2014\", \"2018\"], \"xaxis\": \"x11\", \"y\": [45, 32, 28, 28], \"yaxis\": \"y11\"}, {\"marker\": {\"color\": \"rgb(231,41,138)\", \"size\": 10}, \"mode\": \"lines+markers\", \"name\": \"AR, North East Hills and Brahmaputra Plain\", \"type\": \"scatter\", \"visible\": true, \"x\": [\"2006\", \"2010\", \"2014\", \"2018\"], \"xaxis\": \"x12\", \"y\": [14, 0, 28, 29], \"yaxis\": \"y12\"}, {\"marker\": {\"color\": \"#00CC96\", \"size\": 10}, \"mode\": \"lines+markers\", \"name\": \"KA, Western Ghats\", \"type\": \"scatter\", \"visible\": true, \"x\": [\"2006\", \"2010\", \"2014\", \"2018\"], \"xaxis\": \"x13\", \"y\": [290, 300, 406, 524], \"yaxis\": \"y13\"}, {\"marker\": {\"color\": \"#3366CC\", \"size\": 10}, \"mode\": \"lines+markers\", \"name\": \"AP, Central India\", \"type\": \"scatter\", \"visible\": true, \"x\": [\"2006\", \"2010\", \"2014\", \"2018\"], \"xaxis\": \"x14\", \"y\": [95, 72, 68, 74], \"yaxis\": \"y14\"}, {\"marker\": {\"color\": \"rgb(231,41,138)\", \"size\": 10}, \"mode\": \"lines+markers\", \"name\": \"NWB, North East Hills and Brahmaputra Plain\", \"type\": \"scatter\", \"visible\": true, \"x\": [\"2006\", \"2010\", \"2014\", \"2018\"], \"xaxis\": \"x15\", \"y\": [10, 0, 3, 0], \"yaxis\": \"y15\"}, {\"marker\": {\"color\": \"rgb(231,41,138)\", \"size\": 10}, \"mode\": \"lines+markers\", \"name\": \"MZ, North East Hills and Brahmaputra Plain\", \"type\": \"scatter\", \"visible\": true, \"x\": [\"2006\", \"2010\", \"2014\", \"2018\"], \"xaxis\": \"x16\", \"y\": [6, 5, 3, 0], \"yaxis\": \"y16\"}, {\"marker\": {\"color\": \"#00CC96\", \"size\": 10}, \"mode\": \"lines+markers\", \"name\": \"KL, Western Ghats\", \"type\": \"scatter\", \"visible\": true, \"x\": [\"2006\", \"2010\", \"2014\", \"2018\"], \"xaxis\": \"x17\", \"y\": [46, 71, 136, 190], \"yaxis\": \"y17\"}, {\"marker\": {\"color\": \"#00CC96\", \"size\": 10}, \"mode\": \"lines+markers\", \"name\": \"TN, Western Ghats\", \"type\": \"scatter\", \"visible\": true, \"x\": [\"2006\", \"2010\", \"2014\", \"2018\"], \"xaxis\": \"x18\", \"y\": [76, 163, 229, 264], \"yaxis\": \"y18\"}, {\"marker\": {\"color\": \"rgb(102,17,0)\", \"size\": 10}, \"mode\": \"lines+markers\", \"name\": \"SB, Sunderbans\", \"type\": \"scatter\", \"visible\": true, \"x\": [\"2006\", \"2010\", \"2014\", \"2018\"], \"xaxis\": \"x19\", \"y\": [0, 70, 76, 88], \"yaxis\": \"y19\"}],                        {\"annotations\": [{\"font\": {\"size\": 16}, \"showarrow\": false, \"text\": \"RJ\", \"x\": 0.10625, \"xanchor\": \"center\", \"xref\": \"paper\", \"y\": 0.9999999999999999, \"yanchor\": \"bottom\", \"yref\": \"paper\"}, {\"font\": {\"size\": 16}, \"showarrow\": false, \"text\": \"UK\", \"x\": 0.36875, \"xanchor\": \"center\", \"xref\": \"paper\", \"y\": 0.9999999999999999, \"yanchor\": \"bottom\", \"yref\": \"paper\"}, {\"font\": {\"size\": 16}, \"showarrow\": false, \"text\": \"UP\", \"x\": 0.6312500000000001, \"xanchor\": \"center\", \"xref\": \"paper\", \"y\": 0.9999999999999999, \"yanchor\": \"bottom\", \"yref\": \"paper\"}, {\"font\": {\"size\": 16}, \"showarrow\": false, \"text\": \"BR\", \"x\": 0.89375, \"xanchor\": \"center\", \"xref\": \"paper\", \"y\": 0.9999999999999999, \"yanchor\": \"bottom\", \"yref\": \"paper\"}, {\"font\": {\"size\": 16}, \"showarrow\": false, \"text\": \"MH\", \"x\": 0.10625, \"xanchor\": \"center\", \"xref\": \"paper\", \"y\": 0.7839999999999999, \"yanchor\": \"bottom\", \"yref\": \"paper\"}, {\"font\": {\"size\": 16}, \"showarrow\": false, \"text\": \"MP\", \"x\": 0.36875, \"xanchor\": \"center\", \"xref\": \"paper\", \"y\": 0.7839999999999999, \"yanchor\": \"bottom\", \"yref\": \"paper\"}, {\"font\": {\"size\": 16}, \"showarrow\": false, \"text\": \"JH\", \"x\": 0.6312500000000001, \"xanchor\": \"center\", \"xref\": \"paper\", \"y\": 0.7839999999999999, \"yanchor\": \"bottom\", \"yref\": \"paper\"}, {\"font\": {\"size\": 16}, \"showarrow\": false, \"text\": \"AS\", \"x\": 0.89375, \"xanchor\": \"center\", \"xref\": \"paper\", \"y\": 0.7839999999999999, \"yanchor\": \"bottom\", \"yref\": \"paper\"}, {\"font\": {\"size\": 16}, \"showarrow\": false, \"text\": \"GA\", \"x\": 0.10625, \"xanchor\": \"center\", \"xref\": \"paper\", \"y\": 0.568, \"yanchor\": \"bottom\", \"yref\": \"paper\"}, {\"font\": {\"size\": 16}, \"showarrow\": false, \"text\": \"CG\", \"x\": 0.36875, \"xanchor\": \"center\", \"xref\": \"paper\", \"y\": 0.568, \"yanchor\": \"bottom\", \"yref\": \"paper\"}, {\"font\": {\"size\": 16}, \"showarrow\": false, \"text\": \"OD\", \"x\": 0.6312500000000001, \"xanchor\": \"center\", \"xref\": \"paper\", \"y\": 0.568, \"yanchor\": \"bottom\", \"yref\": \"paper\"}, {\"font\": {\"size\": 16}, \"showarrow\": false, \"text\": \"AR\", \"x\": 0.89375, \"xanchor\": \"center\", \"xref\": \"paper\", \"y\": 0.568, \"yanchor\": \"bottom\", \"yref\": \"paper\"}, {\"font\": {\"size\": 16}, \"showarrow\": false, \"text\": \"KA\", \"x\": 0.10625, \"xanchor\": \"center\", \"xref\": \"paper\", \"y\": 0.352, \"yanchor\": \"bottom\", \"yref\": \"paper\"}, {\"font\": {\"size\": 16}, \"showarrow\": false, \"text\": \"AP\", \"x\": 0.36875, \"xanchor\": \"center\", \"xref\": \"paper\", \"y\": 0.352, \"yanchor\": \"bottom\", \"yref\": \"paper\"}, {\"font\": {\"size\": 16}, \"showarrow\": false, \"text\": \"NWB\", \"x\": 0.6312500000000001, \"xanchor\": \"center\", \"xref\": \"paper\", \"y\": 0.352, \"yanchor\": \"bottom\", \"yref\": \"paper\"}, {\"font\": {\"size\": 16}, \"showarrow\": false, \"text\": \"MZ\", \"x\": 0.89375, \"xanchor\": \"center\", \"xref\": \"paper\", \"y\": 0.352, \"yanchor\": \"bottom\", \"yref\": \"paper\"}, {\"font\": {\"size\": 16}, \"showarrow\": false, \"text\": \"KL\", \"x\": 0.10625, \"xanchor\": \"center\", \"xref\": \"paper\", \"y\": 0.13599999999999998, \"yanchor\": \"bottom\", \"yref\": \"paper\"}, {\"font\": {\"size\": 16}, \"showarrow\": false, \"text\": \"TN\", \"x\": 0.36875, \"xanchor\": \"center\", \"xref\": \"paper\", \"y\": 0.13599999999999998, \"yanchor\": \"bottom\", \"yref\": \"paper\"}, {\"font\": {\"size\": 16}, \"showarrow\": false, \"text\": \"SB\", \"x\": 0.6312500000000001, \"xanchor\": \"center\", \"xref\": \"paper\", \"y\": 0.13599999999999998, \"yanchor\": \"bottom\", \"yref\": \"paper\"}, {\"font\": {\"size\": 16}, \"showarrow\": false, \"text\": \" \", \"x\": 0.89375, \"xanchor\": \"center\", \"xref\": \"paper\", \"y\": 0.13599999999999998, \"yanchor\": \"bottom\", \"yref\": \"paper\"}], \"height\": 1100, \"legend\": {\"title\": {\"text\": \"State, Geographical Region Category:\"}}, \"showlegend\": true, \"template\": {\"data\": {\"bar\": [{\"error_x\": {\"color\": \"#2a3f5f\"}, \"error_y\": {\"color\": \"#2a3f5f\"}, \"marker\": {\"line\": {\"color\": \"#E5ECF6\", \"width\": 0.5}}, \"type\": \"bar\"}], \"barpolar\": [{\"marker\": {\"line\": {\"color\": \"#E5ECF6\", \"width\": 0.5}}, \"type\": \"barpolar\"}], \"carpet\": [{\"aaxis\": {\"endlinecolor\": \"#2a3f5f\", \"gridcolor\": \"white\", \"linecolor\": \"white\", \"minorgridcolor\": \"white\", \"startlinecolor\": \"#2a3f5f\"}, \"baxis\": {\"endlinecolor\": \"#2a3f5f\", \"gridcolor\": \"white\", \"linecolor\": \"white\", \"minorgridcolor\": \"white\", \"startlinecolor\": \"#2a3f5f\"}, \"type\": \"carpet\"}], \"choropleth\": [{\"colorbar\": {\"outlinewidth\": 0, \"ticks\": \"\"}, \"type\": \"choropleth\"}], \"contour\": [{\"colorbar\": {\"outlinewidth\": 0, \"ticks\": \"\"}, \"colorscale\": [[0.0, \"#0d0887\"], [0.1111111111111111, \"#46039f\"], [0.2222222222222222, \"#7201a8\"], [0.3333333333333333, \"#9c179e\"], [0.4444444444444444, \"#bd3786\"], [0.5555555555555556, \"#d8576b\"], [0.6666666666666666, \"#ed7953\"], [0.7777777777777778, \"#fb9f3a\"], [0.8888888888888888, \"#fdca26\"], [1.0, \"#f0f921\"]], \"type\": \"contour\"}], \"contourcarpet\": [{\"colorbar\": {\"outlinewidth\": 0, \"ticks\": \"\"}, \"type\": \"contourcarpet\"}], \"heatmap\": [{\"colorbar\": {\"outlinewidth\": 0, \"ticks\": \"\"}, \"colorscale\": [[0.0, \"#0d0887\"], [0.1111111111111111, \"#46039f\"], [0.2222222222222222, \"#7201a8\"], [0.3333333333333333, \"#9c179e\"], [0.4444444444444444, \"#bd3786\"], [0.5555555555555556, \"#d8576b\"], [0.6666666666666666, \"#ed7953\"], [0.7777777777777778, \"#fb9f3a\"], [0.8888888888888888, \"#fdca26\"], [1.0, \"#f0f921\"]], \"type\": \"heatmap\"}], \"heatmapgl\": [{\"colorbar\": {\"outlinewidth\": 0, \"ticks\": \"\"}, \"colorscale\": [[0.0, \"#0d0887\"], [0.1111111111111111, \"#46039f\"], [0.2222222222222222, \"#7201a8\"], [0.3333333333333333, \"#9c179e\"], [0.4444444444444444, \"#bd3786\"], [0.5555555555555556, \"#d8576b\"], [0.6666666666666666, \"#ed7953\"], [0.7777777777777778, \"#fb9f3a\"], [0.8888888888888888, \"#fdca26\"], [1.0, \"#f0f921\"]], \"type\": \"heatmapgl\"}], \"histogram\": [{\"marker\": {\"colorbar\": {\"outlinewidth\": 0, \"ticks\": \"\"}}, \"type\": \"histogram\"}], \"histogram2d\": [{\"colorbar\": {\"outlinewidth\": 0, \"ticks\": \"\"}, \"colorscale\": [[0.0, \"#0d0887\"], [0.1111111111111111, \"#46039f\"], [0.2222222222222222, \"#7201a8\"], [0.3333333333333333, \"#9c179e\"], [0.4444444444444444, \"#bd3786\"], [0.5555555555555556, \"#d8576b\"], [0.6666666666666666, \"#ed7953\"], [0.7777777777777778, \"#fb9f3a\"], [0.8888888888888888, \"#fdca26\"], [1.0, \"#f0f921\"]], \"type\": \"histogram2d\"}], \"histogram2dcontour\": [{\"colorbar\": {\"outlinewidth\": 0, \"ticks\": \"\"}, \"colorscale\": [[0.0, \"#0d0887\"], [0.1111111111111111, \"#46039f\"], [0.2222222222222222, \"#7201a8\"], [0.3333333333333333, \"#9c179e\"], [0.4444444444444444, \"#bd3786\"], [0.5555555555555556, \"#d8576b\"], [0.6666666666666666, \"#ed7953\"], [0.7777777777777778, \"#fb9f3a\"], [0.8888888888888888, \"#fdca26\"], [1.0, \"#f0f921\"]], \"type\": \"histogram2dcontour\"}], \"mesh3d\": [{\"colorbar\": {\"outlinewidth\": 0, \"ticks\": \"\"}, \"type\": \"mesh3d\"}], \"parcoords\": [{\"line\": {\"colorbar\": {\"outlinewidth\": 0, \"ticks\": \"\"}}, \"type\": \"parcoords\"}], \"pie\": [{\"automargin\": true, \"type\": \"pie\"}], \"scatter\": [{\"marker\": {\"colorbar\": {\"outlinewidth\": 0, \"ticks\": \"\"}}, \"type\": \"scatter\"}], \"scatter3d\": [{\"line\": {\"colorbar\": {\"outlinewidth\": 0, \"ticks\": \"\"}}, \"marker\": {\"colorbar\": {\"outlinewidth\": 0, \"ticks\": \"\"}}, \"type\": \"scatter3d\"}], \"scattercarpet\": [{\"marker\": {\"colorbar\": {\"outlinewidth\": 0, \"ticks\": \"\"}}, \"type\": \"scattercarpet\"}], \"scattergeo\": [{\"marker\": {\"colorbar\": {\"outlinewidth\": 0, \"ticks\": \"\"}}, \"type\": \"scattergeo\"}], \"scattergl\": [{\"marker\": {\"colorbar\": {\"outlinewidth\": 0, \"ticks\": \"\"}}, \"type\": \"scattergl\"}], \"scattermapbox\": [{\"marker\": {\"colorbar\": {\"outlinewidth\": 0, \"ticks\": \"\"}}, \"type\": \"scattermapbox\"}], \"scatterpolar\": [{\"marker\": {\"colorbar\": {\"outlinewidth\": 0, \"ticks\": \"\"}}, \"type\": \"scatterpolar\"}], \"scatterpolargl\": [{\"marker\": {\"colorbar\": {\"outlinewidth\": 0, \"ticks\": \"\"}}, \"type\": \"scatterpolargl\"}], \"scatterternary\": [{\"marker\": {\"colorbar\": {\"outlinewidth\": 0, \"ticks\": \"\"}}, \"type\": \"scatterternary\"}], \"surface\": [{\"colorbar\": {\"outlinewidth\": 0, \"ticks\": \"\"}, \"colorscale\": [[0.0, \"#0d0887\"], [0.1111111111111111, \"#46039f\"], [0.2222222222222222, \"#7201a8\"], [0.3333333333333333, \"#9c179e\"], [0.4444444444444444, \"#bd3786\"], [0.5555555555555556, \"#d8576b\"], [0.6666666666666666, \"#ed7953\"], [0.7777777777777778, \"#fb9f3a\"], [0.8888888888888888, \"#fdca26\"], [1.0, \"#f0f921\"]], \"type\": \"surface\"}], \"table\": [{\"cells\": {\"fill\": {\"color\": \"#EBF0F8\"}, \"line\": {\"color\": \"white\"}}, \"header\": {\"fill\": {\"color\": \"#C8D4E3\"}, \"line\": {\"color\": \"white\"}}, \"type\": \"table\"}]}, \"layout\": {\"annotationdefaults\": {\"arrowcolor\": \"#2a3f5f\", \"arrowhead\": 0, \"arrowwidth\": 1}, \"coloraxis\": {\"colorbar\": {\"outlinewidth\": 0, \"ticks\": \"\"}}, \"colorscale\": {\"diverging\": [[0, \"#8e0152\"], [0.1, \"#c51b7d\"], [0.2, \"#de77ae\"], [0.3, \"#f1b6da\"], [0.4, \"#fde0ef\"], [0.5, \"#f7f7f7\"], [0.6, \"#e6f5d0\"], [0.7, \"#b8e186\"], [0.8, \"#7fbc41\"], [0.9, \"#4d9221\"], [1, \"#276419\"]], \"sequential\": [[0.0, \"#0d0887\"], [0.1111111111111111, \"#46039f\"], [0.2222222222222222, \"#7201a8\"], [0.3333333333333333, \"#9c179e\"], [0.4444444444444444, \"#bd3786\"], [0.5555555555555556, \"#d8576b\"], [0.6666666666666666, \"#ed7953\"], [0.7777777777777778, \"#fb9f3a\"], [0.8888888888888888, \"#fdca26\"], [1.0, \"#f0f921\"]], \"sequentialminus\": [[0.0, \"#0d0887\"], [0.1111111111111111, \"#46039f\"], [0.2222222222222222, \"#7201a8\"], [0.3333333333333333, \"#9c179e\"], [0.4444444444444444, \"#bd3786\"], [0.5555555555555556, \"#d8576b\"], [0.6666666666666666, \"#ed7953\"], [0.7777777777777778, \"#fb9f3a\"], [0.8888888888888888, \"#fdca26\"], [1.0, \"#f0f921\"]]}, \"colorway\": [\"#636efa\", \"#EF553B\", \"#00cc96\", \"#ab63fa\", \"#FFA15A\", \"#19d3f3\", \"#FF6692\", \"#B6E880\", \"#FF97FF\", \"#FECB52\"], \"font\": {\"color\": \"#2a3f5f\"}, \"geo\": {\"bgcolor\": \"white\", \"lakecolor\": \"white\", \"landcolor\": \"#E5ECF6\", \"showlakes\": true, \"showland\": true, \"subunitcolor\": \"white\"}, \"hoverlabel\": {\"align\": \"left\"}, \"hovermode\": \"closest\", \"mapbox\": {\"style\": \"light\"}, \"paper_bgcolor\": \"white\", \"plot_bgcolor\": \"#E5ECF6\", \"polar\": {\"angularaxis\": {\"gridcolor\": \"white\", \"linecolor\": \"white\", \"ticks\": \"\"}, \"bgcolor\": \"#E5ECF6\", \"radialaxis\": {\"gridcolor\": \"white\", \"linecolor\": \"white\", \"ticks\": \"\"}}, \"scene\": {\"xaxis\": {\"backgroundcolor\": \"#E5ECF6\", \"gridcolor\": \"white\", \"gridwidth\": 2, \"linecolor\": \"white\", \"showbackground\": true, \"ticks\": \"\", \"zerolinecolor\": \"white\"}, \"yaxis\": {\"backgroundcolor\": \"#E5ECF6\", \"gridcolor\": \"white\", \"gridwidth\": 2, \"linecolor\": \"white\", \"showbackground\": true, \"ticks\": \"\", \"zerolinecolor\": \"white\"}, \"zaxis\": {\"backgroundcolor\": \"#E5ECF6\", \"gridcolor\": \"white\", \"gridwidth\": 2, \"linecolor\": \"white\", \"showbackground\": true, \"ticks\": \"\", \"zerolinecolor\": \"white\"}}, \"shapedefaults\": {\"line\": {\"color\": \"#2a3f5f\"}}, \"ternary\": {\"aaxis\": {\"gridcolor\": \"white\", \"linecolor\": \"white\", \"ticks\": \"\"}, \"baxis\": {\"gridcolor\": \"white\", \"linecolor\": \"white\", \"ticks\": \"\"}, \"bgcolor\": \"#E5ECF6\", \"caxis\": {\"gridcolor\": \"white\", \"linecolor\": \"white\", \"ticks\": \"\"}}, \"title\": {\"x\": 0.05}, \"xaxis\": {\"automargin\": true, \"gridcolor\": \"white\", \"linecolor\": \"white\", \"ticks\": \"\", \"title\": {\"standoff\": 15}, \"zerolinecolor\": \"white\", \"zerolinewidth\": 2}, \"yaxis\": {\"automargin\": true, \"gridcolor\": \"white\", \"linecolor\": \"white\", \"ticks\": \"\", \"title\": {\"standoff\": 15}, \"zerolinecolor\": \"white\", \"zerolinewidth\": 2}}}, \"title\": {\"text\": \"Tiger Counts\"}, \"width\": 1000, \"xaxis\": {\"anchor\": \"y\", \"domain\": [0.0, 0.2125], \"showticklabels\": true, \"tickangle\": 60, \"tickmode\": \"array\", \"tickvals\": [2006, 2010, 2014, 2018], \"visible\": true}, \"xaxis10\": {\"anchor\": \"y10\", \"domain\": [0.2625, 0.475], \"showticklabels\": true, \"tickangle\": 60, \"tickmode\": \"array\", \"tickvals\": [2006, 2010, 2014, 2018], \"visible\": true}, \"xaxis11\": {\"anchor\": \"y11\", \"domain\": [0.525, 0.7375], \"showticklabels\": true, \"tickangle\": 60, \"tickmode\": \"array\", \"tickvals\": [2006, 2010, 2014, 2018], \"visible\": true}, \"xaxis12\": {\"anchor\": \"y12\", \"domain\": [0.7875, 1.0], \"showticklabels\": true, \"tickangle\": 60, \"tickmode\": \"array\", \"tickvals\": [2006, 2010, 2014, 2018], \"visible\": true}, \"xaxis13\": {\"anchor\": \"y13\", \"domain\": [0.0, 0.2125], \"showticklabels\": true, \"tickangle\": 60, \"tickmode\": \"array\", \"tickvals\": [2006, 2010, 2014, 2018], \"visible\": true}, \"xaxis14\": {\"anchor\": \"y14\", \"domain\": [0.2625, 0.475], \"showticklabels\": true, \"tickangle\": 60, \"tickmode\": \"array\", \"tickvals\": [2006, 2010, 2014, 2018], \"visible\": true}, \"xaxis15\": {\"anchor\": \"y15\", \"domain\": [0.525, 0.7375], \"showticklabels\": true, \"tickangle\": 60, \"tickmode\": \"array\", \"tickvals\": [2006, 2010, 2014, 2018], \"visible\": true}, \"xaxis16\": {\"anchor\": \"y16\", \"domain\": [0.7875, 1.0], \"showticklabels\": true, \"tickangle\": 60, \"tickmode\": \"array\", \"tickvals\": [2006, 2010, 2014, 2018], \"visible\": true}, \"xaxis17\": {\"anchor\": \"y17\", \"domain\": [0.0, 0.2125], \"showticklabels\": true, \"tickangle\": 60, \"tickmode\": \"array\", \"tickvals\": [2006, 2010, 2014, 2018], \"visible\": true}, \"xaxis18\": {\"anchor\": \"y18\", \"domain\": [0.2625, 0.475], \"showticklabels\": true, \"tickangle\": 60, \"tickmode\": \"array\", \"tickvals\": [2006, 2010, 2014, 2018], \"visible\": true}, \"xaxis19\": {\"anchor\": \"y19\", \"domain\": [0.525, 0.7375], \"showticklabels\": true, \"tickangle\": 60, \"tickmode\": \"array\", \"tickvals\": [2006, 2010, 2014, 2018], \"visible\": true}, \"xaxis2\": {\"anchor\": \"y2\", \"domain\": [0.2625, 0.475], \"showticklabels\": true, \"tickangle\": 60, \"tickmode\": \"array\", \"tickvals\": [2006, 2010, 2014, 2018], \"visible\": true}, \"xaxis20\": {\"anchor\": \"y20\", \"domain\": [0.7875, 1.0], \"showticklabels\": true, \"tickangle\": 60, \"visible\": true}, \"xaxis3\": {\"anchor\": \"y3\", \"domain\": [0.525, 0.7375], \"showticklabels\": true, \"tickangle\": 60, \"tickmode\": \"array\", \"tickvals\": [2006, 2010, 2014, 2018], \"visible\": true}, \"xaxis4\": {\"anchor\": \"y4\", \"domain\": [0.7875, 1.0], \"showticklabels\": true, \"tickangle\": 60, \"tickmode\": \"array\", \"tickvals\": [2006, 2010, 2014, 2018], \"visible\": true}, \"xaxis5\": {\"anchor\": \"y5\", \"domain\": [0.0, 0.2125], \"showticklabels\": true, \"tickangle\": 60, \"tickmode\": \"array\", \"tickvals\": [2006, 2010, 2014, 2018], \"visible\": true}, \"xaxis6\": {\"anchor\": \"y6\", \"domain\": [0.2625, 0.475], \"showticklabels\": true, \"tickangle\": 60, \"tickmode\": \"array\", \"tickvals\": [2006, 2010, 2014, 2018], \"visible\": true}, \"xaxis7\": {\"anchor\": \"y7\", \"domain\": [0.525, 0.7375], \"showticklabels\": true, \"tickangle\": 60, \"tickmode\": \"array\", \"tickvals\": [2006, 2010, 2014, 2018], \"visible\": true}, \"xaxis8\": {\"anchor\": \"y8\", \"domain\": [0.7875, 1.0], \"showticklabels\": true, \"tickangle\": 60, \"tickmode\": \"array\", \"tickvals\": [2006, 2010, 2014, 2018], \"visible\": true}, \"xaxis9\": {\"anchor\": \"y9\", \"domain\": [0.0, 0.2125], \"showticklabels\": true, \"tickangle\": 60, \"tickmode\": \"array\", \"tickvals\": [2006, 2010, 2014, 2018], \"visible\": true}, \"yaxis\": {\"anchor\": \"x\", \"domain\": [0.8639999999999999, 0.9999999999999999], \"showticklabels\": true, \"visible\": true}, \"yaxis10\": {\"anchor\": \"x10\", \"domain\": [0.43199999999999994, 0.568], \"showticklabels\": true, \"visible\": true}, \"yaxis11\": {\"anchor\": \"x11\", \"domain\": [0.43199999999999994, 0.568], \"showticklabels\": true, \"visible\": true}, \"yaxis12\": {\"anchor\": \"x12\", \"domain\": [0.43199999999999994, 0.568], \"showticklabels\": true, \"visible\": true}, \"yaxis13\": {\"anchor\": \"x13\", \"domain\": [0.21599999999999997, 0.352], \"showticklabels\": true, \"visible\": true}, \"yaxis14\": {\"anchor\": \"x14\", \"domain\": [0.21599999999999997, 0.352], \"showticklabels\": true, \"visible\": true}, \"yaxis15\": {\"anchor\": \"x15\", \"domain\": [0.21599999999999997, 0.352], \"showticklabels\": true, \"visible\": true}, \"yaxis16\": {\"anchor\": \"x16\", \"domain\": [0.21599999999999997, 0.352], \"showticklabels\": true, \"visible\": true}, \"yaxis17\": {\"anchor\": \"x17\", \"domain\": [0.0, 0.13599999999999998], \"showticklabels\": true, \"visible\": true}, \"yaxis18\": {\"anchor\": \"x18\", \"domain\": [0.0, 0.13599999999999998], \"showticklabels\": true, \"visible\": true}, \"yaxis19\": {\"anchor\": \"x19\", \"domain\": [0.0, 0.13599999999999998], \"showticklabels\": true, \"visible\": true}, \"yaxis2\": {\"anchor\": \"x2\", \"domain\": [0.8639999999999999, 0.9999999999999999], \"showticklabels\": true, \"visible\": true}, \"yaxis20\": {\"anchor\": \"x20\", \"domain\": [0.0, 0.13599999999999998], \"showticklabels\": true, \"visible\": true}, \"yaxis3\": {\"anchor\": \"x3\", \"domain\": [0.8639999999999999, 0.9999999999999999], \"showticklabels\": true, \"visible\": true}, \"yaxis4\": {\"anchor\": \"x4\", \"domain\": [0.8639999999999999, 0.9999999999999999], \"showticklabels\": true, \"visible\": true}, \"yaxis5\": {\"anchor\": \"x5\", \"domain\": [0.6479999999999999, 0.7839999999999999], \"showticklabels\": true, \"visible\": true}, \"yaxis6\": {\"anchor\": \"x6\", \"domain\": [0.6479999999999999, 0.7839999999999999], \"showticklabels\": true, \"visible\": true}, \"yaxis7\": {\"anchor\": \"x7\", \"domain\": [0.6479999999999999, 0.7839999999999999], \"showticklabels\": true, \"visible\": true}, \"yaxis8\": {\"anchor\": \"x8\", \"domain\": [0.6479999999999999, 0.7839999999999999], \"showticklabels\": true, \"visible\": true}, \"yaxis9\": {\"anchor\": \"x9\", \"domain\": [0.43199999999999994, 0.568], \"showticklabels\": true, \"visible\": true}},                        {\"responsive\": true}                    ).then(function(){\n",
       "                            \n",
       "var gd = document.getElementById('5b61c2de-13f2-47b7-b6a3-1c6c6e659f05');\n",
       "var x = new MutationObserver(function (mutations, observer) {{\n",
       "        var display = window.getComputedStyle(gd).display;\n",
       "        if (!display || display === 'none') {{\n",
       "            console.log([gd, 'removed!']);\n",
       "            Plotly.purge(gd);\n",
       "            observer.disconnect();\n",
       "        }}\n",
       "}});\n",
       "\n",
       "// Listen for the removal of the full notebook cells\n",
       "var notebookContainer = gd.closest('#notebook-container');\n",
       "if (notebookContainer) {{\n",
       "    x.observe(notebookContainer, {childList: true});\n",
       "}}\n",
       "\n",
       "// Listen for the clearing of the current output cell\n",
       "var outputEl = gd.closest('.output');\n",
       "if (outputEl) {{\n",
       "    x.observe(outputEl, {childList: true});\n",
       "}}\n",
       "\n",
       "                        })                };                });            </script>        </div>"
      ]
     },
     "metadata": {},
     "output_type": "display_data"
    }
   ],
   "source": [
    "# Ref: https://plotly.com/python/subplots/\n",
    "\n",
    "from plotly.subplots import make_subplots\n",
    "\n",
    "\n",
    "fig1 = make_subplots(rows=5, cols=4,\n",
    "                     vertical_spacing = 0.08,\n",
    "                     subplot_titles=(\"RJ\", \"UK\", \"UP\", \"BR\",\n",
    "                                     \"MH\", \"MP\", \"JH\", \"AS\",\n",
    "                                     \"GA\", \"CG\", \"OD\", \"AR\",\n",
    "                                     \"KA\", \"AP\", \"NWB\", \"MZ\",\n",
    "                                     \"KL\", \"TN\", \"SB\", \" \"))\n",
    "# colors\n",
    "cc = [\"#3366CC\",\"#F58518\",\"rgb(231,41,138)\",\"#00CC96\",\"rgb(102,17,0)\"]\n",
    "\n",
    "# Rajasthan (RJ) \n",
    "i=8\n",
    "fig1.add_trace(go.Scatter(\n",
    "    x=xyrs,\n",
    "    y=[y2006[i],y2010[i],y2014[i],y2018[i]] ,\n",
    "    mode='lines+markers',\n",
    "    name=\"RJ, Central India\",\n",
    "    visible=True,\n",
    "    marker=dict(size=10, color = cc[0]) \n",
    "), row=1, col=1)\n",
    "\n",
    "# Uttarakhand (UK) \n",
    "i=0\n",
    "fig1.add_trace(go.Scatter(\n",
    "    x=xyrs,\n",
    "    y=[y2006[i],y2010[i],y2014[i],y2018[i]] ,\n",
    "    mode='lines+markers',\n",
    "    name=\"UK, Shivalik-Gangetic Plain\",\n",
    "    visible=True,\n",
    "    marker=dict(size=10, color = cc[1]) \n",
    "), row=1, col=2)\n",
    "\n",
    "# Uttar Pradesh (UP) \n",
    "i=1\n",
    "fig1.add_trace(go.Scatter(\n",
    "    x=xyrs,\n",
    "    y=[y2006[i],y2010[i],y2014[i],y2018[i]] ,\n",
    "    mode='lines+markers',\n",
    "    name=\"UP, Shivalik-Gangetic Plain\",\n",
    "    visible=True,\n",
    "    marker=dict(size=10, color = cc[1]) \n",
    "), row=1, col=3)\n",
    "\n",
    "# Bihar (BR) \n",
    "i=2\n",
    "fig1.add_trace(go.Scatter(\n",
    "    x=xyrs,\n",
    "    y=[y2006[i],y2010[i],y2014[i],y2018[i]] ,\n",
    "    mode='lines+markers',\n",
    "    name=\"BR, Shivalik-Gangetic Plain\",\n",
    "    visible=True,\n",
    "    marker=dict(size=10, color = cc[1]) \n",
    "), row=1, col=4)\n",
    "\n",
    "# Maharashtra (MH) \n",
    "i=6\n",
    "fig1.add_trace(go.Scatter(\n",
    "    x=xyrs,\n",
    "    y=[y2006[i],y2010[i],y2014[i],y2018[i]] ,\n",
    "    mode='lines+markers',\n",
    "    name=\"MH, Central India\",\n",
    "    visible=True,\n",
    "    marker=dict(size=10, color = cc[0]) \n",
    "), row=2, col=1)\n",
    "\n",
    "# Madhya Pradesh (MP) \n",
    "i=5\n",
    "fig1.add_trace(go.Scatter(\n",
    "    x=xyrs,\n",
    "    y=[y2006[i],y2010[i],y2014[i],y2018[i]] ,\n",
    "    mode='lines+markers',\n",
    "    name=\"MP, Central India\",\n",
    "    visible=True,\n",
    "    marker=dict(size=10, color = cc[0]) \n",
    "), row=2, col=2)\n",
    "\n",
    "# Jharkhand (JH) \n",
    "i=9\n",
    "fig1.add_trace(go.Scatter(\n",
    "    x=xyrs,\n",
    "    y=[y2006[i],y2010[i],y2014[i],y2018[i]] ,\n",
    "    mode='lines+markers',\n",
    "    name=\"JH, Central India\",\n",
    "    visible=True,\n",
    "    marker=dict(size=10, color = cc[0]) \n",
    "), row=2, col=3)\n",
    "\n",
    "# Assam (AS) \n",
    "i=14\n",
    "fig1.add_trace(go.Scatter(\n",
    "    x=xyrs,\n",
    "    y=[y2006[i],y2010[i],y2014[i],y2018[i]] ,\n",
    "    mode='lines+markers',\n",
    "    name=\"AS, North East Hills and Brahmaputra Plain\",\n",
    "    visible=True,\n",
    "    marker=dict(size=10, color = cc[2]) \n",
    "), row=2, col=4)\n",
    "\n",
    "\n",
    "# Goa (GA) \n",
    "i=13\n",
    "fig1.add_trace(go.Scatter(\n",
    "    x=xyrs,\n",
    "    y=[y2006[i],y2010[i],y2014[i],y2018[i]] ,\n",
    "    mode='lines+markers',\n",
    "    name=\"GA, Western Ghats\",\n",
    "    visible=True,\n",
    "    marker=dict(size=10, color = cc[3]) \n",
    "), row=3, col=1)\n",
    "\n",
    "# Chattisgarh (CG) \n",
    "i=4\n",
    "fig1.add_trace(go.Scatter(\n",
    "    x=xyrs,\n",
    "    y=[y2006[i],y2010[i],y2014[i],y2018[i]] ,\n",
    "    mode='lines+markers',\n",
    "    name=\"CG, Central India\",\n",
    "    visible=True,\n",
    "    marker=dict(size=10, color = cc[0]) \n",
    "), row=3, col=2)\n",
    "\n",
    "# Odisha (OD) \n",
    "i=7\n",
    "fig1.add_trace(go.Scatter(\n",
    "    x=xyrs,\n",
    "    y=[y2006[i],y2010[i],y2014[i],y2018[i]] ,\n",
    "    mode='lines+markers',\n",
    "    name=\"OD, Central India\",\n",
    "    visible=True,\n",
    "    marker=dict(size=10, color = cc[0]) \n",
    "), row=3, col=3)\n",
    "\n",
    "# Arunachal Pradesh (AR) \n",
    "i=15\n",
    "fig1.add_trace(go.Scatter(\n",
    "    x=xyrs,\n",
    "    y=[y2006[i],y2010[i],y2014[i],y2018[i]] ,\n",
    "    mode='lines+markers',\n",
    "    name=\"AR, North East Hills and Brahmaputra Plain\",\n",
    "    visible=True,\n",
    "    marker=dict(size=10, color = cc[2]) \n",
    "), row=3, col=4)\n",
    "\n",
    "# Karnataka (KA) \n",
    "i=10\n",
    "fig1.add_trace(go.Scatter(\n",
    "    x=xyrs,\n",
    "    y=[y2006[i],y2010[i],y2014[i],y2018[i]] ,\n",
    "    mode='lines+markers',\n",
    "    name=\"KA, Western Ghats\",\n",
    "    visible=True,\n",
    "    marker=dict(size=10, color = cc[3]) \n",
    "), row=4, col=1)\n",
    "\n",
    "# Andhra Pradesh and Telangana (APTS) \n",
    "i=3\n",
    "fig1.add_trace(go.Scatter(\n",
    "    x=xyrs,\n",
    "    y=[y2006[i],y2010[i],y2014[i],y2018[i]] ,\n",
    "    mode='lines+markers',\n",
    "    name=\"AP, Central India\",\n",
    "    visible=True,\n",
    "    marker=dict(size=10, color = cc[0]) \n",
    "), row=4, col=2)\n",
    "\n",
    "# Northern West Bengal (NWB) \n",
    "i=17\n",
    "fig1.add_trace(go.Scatter(\n",
    "    x=xyrs,\n",
    "    y=[y2006[i],y2010[i],y2014[i],y2018[i]] ,\n",
    "    mode='lines+markers',\n",
    "    name=\"NWB, North East Hills and Brahmaputra Plain\",\n",
    "    visible=True,\n",
    "    marker=dict(size=10, color = cc[2]) \n",
    "), row=4, col=3)\n",
    "\n",
    "# Mizoram (MZ) \n",
    "i=16\n",
    "fig1.add_trace(go.Scatter(\n",
    "    x=xyrs,\n",
    "    y=[y2006[i],y2010[i],y2014[i],y2018[i]] ,\n",
    "    mode='lines+markers',\n",
    "    name=\"MZ, North East Hills and Brahmaputra Plain\",\n",
    "    visible=True,\n",
    "    marker=dict(size=10, color = cc[2]) \n",
    "), row=4, col=4)\n",
    "\n",
    "\n",
    "# Kerala (KL) \n",
    "i=11\n",
    "fig1.add_trace(go.Scatter(\n",
    "    x=xyrs,\n",
    "    y=[y2006[i],y2010[i],y2014[i],y2018[i]] ,\n",
    "    mode='lines+markers',\n",
    "    name=\"KL, Western Ghats\",\n",
    "    visible=True,\n",
    "    marker=dict(size=10, color = cc[3]) \n",
    "), row=5, col=1)\n",
    "\n",
    "# Tamil Nadu (TN) \n",
    "i=12\n",
    "fig1.add_trace(go.Scatter(\n",
    "    x=xyrs,\n",
    "    y=[y2006[i],y2010[i],y2014[i],y2018[i]] ,\n",
    "    mode='lines+markers',\n",
    "    name=\"TN, Western Ghats\",\n",
    "    visible=True,\n",
    "    marker=dict(size=10, color = cc[3]) \n",
    "), row=5, col=2)\n",
    "\n",
    "\n",
    "# Sunderbans (SB) \n",
    "i=18\n",
    "fig1.add_trace(go.Scatter(\n",
    "    x=xyrs,\n",
    "    y=[y2006[i],y2010[i],y2014[i],y2018[i]] ,\n",
    "    mode='lines+markers',\n",
    "    name=\"SB, Sunderbans\",\n",
    "    visible=True,\n",
    "    marker=dict(size=10, color = cc[4]) \n",
    "), row=5, col=3)\n",
    "\n",
    "\n",
    "fig1.update_layout(\n",
    "    xaxis = dict(\n",
    "        tickmode = 'array',\n",
    "        tickvals = [2006, 2010, 2014, 2018]  ),\n",
    "    xaxis2 = dict(\n",
    "        tickmode = 'array',\n",
    "        tickvals = [2006, 2010, 2014, 2018]  ),\n",
    "    xaxis3 = dict(\n",
    "        tickmode = 'array',\n",
    "        tickvals = [2006, 2010, 2014, 2018]  ),\n",
    "    xaxis4 = dict(\n",
    "        tickmode = 'array',\n",
    "        tickvals = [2006, 2010, 2014, 2018]  ),\n",
    "    xaxis5 = dict(\n",
    "        tickmode = 'array',\n",
    "        tickvals = [2006, 2010, 2014, 2018]  ),\n",
    "    xaxis6 = dict(\n",
    "        tickmode = 'array',\n",
    "        tickvals = [2006, 2010, 2014, 2018]  ),    \n",
    "    xaxis7 = dict(\n",
    "        tickmode = 'array',\n",
    "        tickvals = [2006, 2010, 2014, 2018]  ),    \n",
    "    xaxis8 = dict(\n",
    "        tickmode = 'array',\n",
    "        tickvals = [2006, 2010, 2014, 2018]  ),    \n",
    "    xaxis9 = dict(\n",
    "        tickmode = 'array',\n",
    "        tickvals = [2006, 2010, 2014, 2018]  ),    \n",
    "    xaxis10 = dict(\n",
    "        tickmode = 'array',\n",
    "        tickvals = [2006, 2010, 2014, 2018]  ),\n",
    "    xaxis11 = dict(\n",
    "        tickmode = 'array',\n",
    "        tickvals = [2006, 2010, 2014, 2018]  ), \n",
    "    xaxis12 = dict(\n",
    "        tickmode = 'array',\n",
    "        tickvals = [2006, 2010, 2014, 2018]  ), \n",
    "    xaxis13 = dict(\n",
    "        tickmode = 'array',\n",
    "        tickvals = [2006, 2010, 2014, 2018]  ), \n",
    "    xaxis14 = dict(\n",
    "        tickmode = 'array',\n",
    "        tickvals = [2006, 2010, 2014, 2018]  ),\n",
    "    xaxis15 = dict(\n",
    "        tickmode = 'array',\n",
    "        tickvals = [2006, 2010, 2014, 2018]  ), \n",
    "    xaxis16 = dict(\n",
    "        tickmode = 'array',\n",
    "        tickvals = [2006, 2010, 2014, 2018]  ), \n",
    "    xaxis17 = dict(\n",
    "        tickmode = 'array',\n",
    "        tickvals = [2006, 2010, 2014, 2018]  ), \n",
    "    xaxis18 = dict(\n",
    "        tickmode = 'array',\n",
    "        tickvals = [2006, 2010, 2014, 2018]  ), \n",
    "    xaxis19 = dict(\n",
    "        tickmode = 'array',\n",
    "        tickvals = [2006, 2010, 2014, 2018]  )\n",
    ")  \n",
    "\n",
    "fig1.update_layout(height=1100, width=1000, title_text=\"Tiger Counts\")\n",
    "fig1.update_xaxes(visible=True, showticklabels=True, tickangle = 60)\n",
    "fig1.update_yaxes(visible=True, showticklabels=True)\n",
    "\n",
    "fig1.update_layout(legend_title_text='State, Geographical Region Category:', showlegend=True)\n",
    "fig1.show()"
   ]
  },
  {
   "cell_type": "code",
   "execution_count": 29,
   "metadata": {},
   "outputs": [],
   "source": [
    "import plotly.io as pio\n",
    "pio.write_html(fig1, file ='../HTMLs/idiom7.html', auto_open=False)"
   ]
  },
  {
   "cell_type": "code",
   "execution_count": null,
   "metadata": {},
   "outputs": [],
   "source": []
  }
 ],
 "metadata": {
  "kernelspec": {
   "display_name": "Python 3",
   "language": "python",
   "name": "python3"
  },
  "language_info": {
   "codemirror_mode": {
    "name": "ipython",
    "version": 3
   },
   "file_extension": ".py",
   "mimetype": "text/x-python",
   "name": "python",
   "nbconvert_exporter": "python",
   "pygments_lexer": "ipython3",
   "version": "3.7.9"
  }
 },
 "nbformat": 4,
 "nbformat_minor": 4
}
