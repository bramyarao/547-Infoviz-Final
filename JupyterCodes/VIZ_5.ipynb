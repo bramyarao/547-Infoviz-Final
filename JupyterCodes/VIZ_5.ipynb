{
 "cells": [
  {
   "cell_type": "code",
   "execution_count": 13,
   "metadata": {
    "pycharm": {
     "is_executing": false
    }
   },
   "outputs": [],
   "source": [
    "import pandas as pd\n",
    "#from raceplotly.plots import barplot"
   ]
  },
  {
   "cell_type": "code",
   "execution_count": 14,
   "metadata": {
    "pycharm": {
     "is_executing": false,
     "name": "#%%\n"
    }
   },
   "outputs": [
    {
     "data": {
      "text/html": [
       "<div>\n",
       "<style scoped>\n",
       "    .dataframe tbody tr th:only-of-type {\n",
       "        vertical-align: middle;\n",
       "    }\n",
       "\n",
       "    .dataframe tbody tr th {\n",
       "        vertical-align: top;\n",
       "    }\n",
       "\n",
       "    .dataframe thead th {\n",
       "        text-align: right;\n",
       "    }\n",
       "</style>\n",
       "<table border=\"1\" class=\"dataframe\">\n",
       "  <thead>\n",
       "    <tr style=\"text-align: right;\">\n",
       "      <th></th>\n",
       "      <th>States</th>\n",
       "      <th>State Abbreviation</th>\n",
       "      <th>Year</th>\n",
       "      <th>Population</th>\n",
       "    </tr>\n",
       "  </thead>\n",
       "  <tbody>\n",
       "    <tr>\n",
       "      <th>0</th>\n",
       "      <td>Andhra Pradesh</td>\n",
       "      <td>APTS</td>\n",
       "      <td>2006</td>\n",
       "      <td>95.0</td>\n",
       "    </tr>\n",
       "    <tr>\n",
       "      <th>1</th>\n",
       "      <td>Andhra Pradesh</td>\n",
       "      <td>APTS</td>\n",
       "      <td>2010</td>\n",
       "      <td>72.0</td>\n",
       "    </tr>\n",
       "    <tr>\n",
       "      <th>2</th>\n",
       "      <td>Andhra Pradesh</td>\n",
       "      <td>APTS</td>\n",
       "      <td>2014</td>\n",
       "      <td>68.0</td>\n",
       "    </tr>\n",
       "    <tr>\n",
       "      <th>3</th>\n",
       "      <td>Andhra Pradesh</td>\n",
       "      <td>APTS</td>\n",
       "      <td>2018</td>\n",
       "      <td>74.0</td>\n",
       "    </tr>\n",
       "    <tr>\n",
       "      <th>4</th>\n",
       "      <td>Arunachal Pradesh</td>\n",
       "      <td>AR</td>\n",
       "      <td>2006</td>\n",
       "      <td>14.0</td>\n",
       "    </tr>\n",
       "    <tr>\n",
       "      <th>...</th>\n",
       "      <td>...</td>\n",
       "      <td>...</td>\n",
       "      <td>...</td>\n",
       "      <td>...</td>\n",
       "    </tr>\n",
       "    <tr>\n",
       "      <th>71</th>\n",
       "      <td>Uttar Pradesh</td>\n",
       "      <td>UP</td>\n",
       "      <td>2018</td>\n",
       "      <td>173.0</td>\n",
       "    </tr>\n",
       "    <tr>\n",
       "      <th>72</th>\n",
       "      <td>Uttarakhand</td>\n",
       "      <td>UK</td>\n",
       "      <td>2006</td>\n",
       "      <td>178.0</td>\n",
       "    </tr>\n",
       "    <tr>\n",
       "      <th>73</th>\n",
       "      <td>Uttarakhand</td>\n",
       "      <td>UK</td>\n",
       "      <td>2010</td>\n",
       "      <td>227.0</td>\n",
       "    </tr>\n",
       "    <tr>\n",
       "      <th>74</th>\n",
       "      <td>Uttarakhand</td>\n",
       "      <td>UK</td>\n",
       "      <td>2014</td>\n",
       "      <td>340.0</td>\n",
       "    </tr>\n",
       "    <tr>\n",
       "      <th>75</th>\n",
       "      <td>Uttarakhand</td>\n",
       "      <td>UK</td>\n",
       "      <td>2018</td>\n",
       "      <td>442.0</td>\n",
       "    </tr>\n",
       "  </tbody>\n",
       "</table>\n",
       "<p>76 rows × 4 columns</p>\n",
       "</div>"
      ],
      "text/plain": [
       "               States State Abbreviation  Year  Population\n",
       "0      Andhra Pradesh               APTS  2006        95.0\n",
       "1      Andhra Pradesh               APTS  2010        72.0\n",
       "2      Andhra Pradesh               APTS  2014        68.0\n",
       "3      Andhra Pradesh               APTS  2018        74.0\n",
       "4   Arunachal Pradesh                 AR  2006        14.0\n",
       "..                ...                ...   ...         ...\n",
       "71      Uttar Pradesh                 UP  2018       173.0\n",
       "72        Uttarakhand                 UK  2006       178.0\n",
       "73        Uttarakhand                 UK  2010       227.0\n",
       "74        Uttarakhand                 UK  2014       340.0\n",
       "75        Uttarakhand                 UK  2018       442.0\n",
       "\n",
       "[76 rows x 4 columns]"
      ]
     },
     "execution_count": 14,
     "metadata": {},
     "output_type": "execute_result"
    }
   ],
   "source": [
    "df = pd.read_excel('..\\Data\\Extracted_data_3.xlsx', sheet_name ='Sheet1' )\n",
    "df"
   ]
  },
  {
   "cell_type": "code",
   "execution_count": 15,
   "metadata": {
    "pycharm": {
     "is_executing": false,
     "name": "#%%\n"
    }
   },
   "outputs": [
    {
     "data": {
      "application/vnd.plotly.v1+json": {
       "config": {
        "plotlyServerURL": "https://plot.ly"
       },
       "data": [
        {
         "alignmentgroup": "True",
         "customdata": [
          [
           "Andhra Pradesh",
           74
          ]
         ],
         "hovertemplate": "States=%{customdata[0]}<br>Year=2018<br>Population=%{customdata[1]}<extra></extra>",
         "legendgroup": "Andhra Pradesh",
         "marker": {
          "color": "rgb(55,126,184)"
         },
         "name": "Andhra Pradesh",
         "offsetgroup": "Andhra Pradesh",
         "orientation": "h",
         "showlegend": true,
         "text": [
          74
         ],
         "textposition": "auto",
         "type": "bar",
         "x": [
          74
         ],
         "xaxis": "x",
         "y": [
          "Andhra Pradesh"
         ],
         "yaxis": "y"
        },
        {
         "alignmentgroup": "True",
         "customdata": [
          [
           "Arunachal Pradesh",
           29
          ]
         ],
         "hovertemplate": "States=%{customdata[0]}<br>Year=2018<br>Population=%{customdata[1]}<extra></extra>",
         "legendgroup": "Arunachal Pradesh",
         "marker": {
          "color": "rgb(231,41,138)"
         },
         "name": "Arunachal Pradesh",
         "offsetgroup": "Arunachal Pradesh",
         "orientation": "h",
         "showlegend": true,
         "text": [
          29
         ],
         "textposition": "auto",
         "type": "bar",
         "x": [
          29
         ],
         "xaxis": "x",
         "y": [
          "Arunachal Pradesh"
         ],
         "yaxis": "y"
        },
        {
         "alignmentgroup": "True",
         "customdata": [
          [
           "Assam",
           190
          ]
         ],
         "hovertemplate": "States=%{customdata[0]}<br>Year=2018<br>Population=%{customdata[1]}<extra></extra>",
         "legendgroup": "Assam",
         "marker": {
          "color": "rgb(231,138,195)"
         },
         "name": "Assam",
         "offsetgroup": "Assam",
         "orientation": "h",
         "showlegend": true,
         "text": [
          190
         ],
         "textposition": "auto",
         "type": "bar",
         "x": [
          190
         ],
         "xaxis": "x",
         "y": [
          "Assam"
         ],
         "yaxis": "y"
        },
        {
         "alignmentgroup": "True",
         "customdata": [
          [
           "Bihar",
           31
          ]
         ],
         "hovertemplate": "States=%{customdata[0]}<br>Year=2018<br>Population=%{customdata[1]}<extra></extra>",
         "legendgroup": "Bihar",
         "marker": {
          "color": "#F58518"
         },
         "name": "Bihar",
         "offsetgroup": "Bihar",
         "orientation": "h",
         "showlegend": true,
         "text": [
          31
         ],
         "textposition": "auto",
         "type": "bar",
         "x": [
          31
         ],
         "xaxis": "x",
         "y": [
          "Bihar"
         ],
         "yaxis": "y"
        },
        {
         "alignmentgroup": "True",
         "customdata": [
          [
           "Chattisgarh",
           19
          ]
         ],
         "hovertemplate": "States=%{customdata[0]}<br>Year=2018<br>Population=%{customdata[1]}<extra></extra>",
         "legendgroup": "Chattisgarh",
         "marker": {
          "color": "rgb(179,205,227)"
         },
         "name": "Chattisgarh",
         "offsetgroup": "Chattisgarh",
         "orientation": "h",
         "showlegend": true,
         "text": [
          19
         ],
         "textposition": "auto",
         "type": "bar",
         "x": [
          19
         ],
         "xaxis": "x",
         "y": [
          "Chattisgarh"
         ],
         "yaxis": "y"
        },
        {
         "alignmentgroup": "True",
         "customdata": [
          [
           "Goa",
           3
          ]
         ],
         "hovertemplate": "States=%{customdata[0]}<br>Year=2018<br>Population=%{customdata[1]}<extra></extra>",
         "legendgroup": "Goa",
         "marker": {
          "color": "rgb(27,158,119)"
         },
         "name": "Goa",
         "offsetgroup": "Goa",
         "orientation": "h",
         "showlegend": true,
         "text": [
          3
         ],
         "textposition": "auto",
         "type": "bar",
         "x": [
          3
         ],
         "xaxis": "x",
         "y": [
          "Goa"
         ],
         "yaxis": "y"
        },
        {
         "alignmentgroup": "True",
         "customdata": [
          [
           "Jharkhand",
           5
          ]
         ],
         "hovertemplate": "States=%{customdata[0]}<br>Year=2018<br>Population=%{customdata[1]}<extra></extra>",
         "legendgroup": "Jharkhand",
         "marker": {
          "color": "rgb(128,177,211)"
         },
         "name": "Jharkhand",
         "offsetgroup": "Jharkhand",
         "orientation": "h",
         "showlegend": true,
         "text": [
          5
         ],
         "textposition": "auto",
         "type": "bar",
         "x": [
          5
         ],
         "xaxis": "x",
         "y": [
          "Jharkhand"
         ],
         "yaxis": "y"
        },
        {
         "alignmentgroup": "True",
         "customdata": [
          [
           "Karnataka",
           524
          ]
         ],
         "hovertemplate": "States=%{customdata[0]}<br>Year=2018<br>Population=%{customdata[1]}<extra></extra>",
         "legendgroup": "Karnataka",
         "marker": {
          "color": "rgb(179,222,105)"
         },
         "name": "Karnataka",
         "offsetgroup": "Karnataka",
         "orientation": "h",
         "showlegend": true,
         "text": [
          524
         ],
         "textposition": "auto",
         "type": "bar",
         "x": [
          524
         ],
         "xaxis": "x",
         "y": [
          "Karnataka"
         ],
         "yaxis": "y"
        },
        {
         "alignmentgroup": "True",
         "customdata": [
          [
           "Kerala",
           190
          ]
         ],
         "hovertemplate": "States=%{customdata[0]}<br>Year=2018<br>Population=%{customdata[1]}<extra></extra>",
         "legendgroup": "Kerala",
         "marker": {
          "color": "rgb(102,166,30)"
         },
         "name": "Kerala",
         "offsetgroup": "Kerala",
         "orientation": "h",
         "showlegend": true,
         "text": [
          190
         ],
         "textposition": "auto",
         "type": "bar",
         "x": [
          190
         ],
         "xaxis": "x",
         "y": [
          "Kerala"
         ],
         "yaxis": "y"
        },
        {
         "alignmentgroup": "True",
         "customdata": [
          [
           "Madhya Pradesh",
           526
          ]
         ],
         "hovertemplate": "States=%{customdata[0]}<br>Year=2018<br>Population=%{customdata[1]}<extra></extra>",
         "legendgroup": "Madhya Pradesh",
         "marker": {
          "color": "#19D3F3"
         },
         "name": "Madhya Pradesh",
         "offsetgroup": "Madhya Pradesh",
         "orientation": "h",
         "showlegend": true,
         "text": [
          526
         ],
         "textposition": "auto",
         "type": "bar",
         "x": [
          526
         ],
         "xaxis": "x",
         "y": [
          "Madhya Pradesh"
         ],
         "yaxis": "y"
        },
        {
         "alignmentgroup": "True",
         "customdata": [
          [
           "Maharashtra",
           312
          ]
         ],
         "hovertemplate": "States=%{customdata[0]}<br>Year=2018<br>Population=%{customdata[1]}<extra></extra>",
         "legendgroup": "Maharashtra",
         "marker": {
          "color": "#2E91E5"
         },
         "name": "Maharashtra",
         "offsetgroup": "Maharashtra",
         "orientation": "h",
         "showlegend": true,
         "text": [
          312
         ],
         "textposition": "auto",
         "type": "bar",
         "x": [
          312
         ],
         "xaxis": "x",
         "y": [
          "Maharashtra"
         ],
         "yaxis": "y"
        },
        {
         "alignmentgroup": "True",
         "customdata": [
          [
           "Mizoram",
           0
          ]
         ],
         "hovertemplate": "States=%{customdata[0]}<br>Year=2018<br>Population=%{customdata[1]}<extra></extra>",
         "legendgroup": "Mizoram",
         "marker": {
          "color": "rgb(254,136,177)"
         },
         "name": "Mizoram",
         "offsetgroup": "Mizoram",
         "orientation": "h",
         "showlegend": true,
         "text": [
          0
         ],
         "textposition": "auto",
         "type": "bar",
         "x": [
          0
         ],
         "xaxis": "x",
         "y": [
          "Mizoram"
         ],
         "yaxis": "y"
        },
        {
         "alignmentgroup": "True",
         "customdata": [
          [
           "Northern West Bengal",
           0
          ]
         ],
         "hovertemplate": "States=%{customdata[0]}<br>Year=2018<br>Population=%{customdata[1]}<extra></extra>",
         "legendgroup": "Northern West Bengal",
         "marker": {
          "color": "#FF97FF"
         },
         "name": "Northern West Bengal",
         "offsetgroup": "Northern West Bengal",
         "orientation": "h",
         "showlegend": true,
         "text": [
          0
         ],
         "textposition": "auto",
         "type": "bar",
         "x": [
          0
         ],
         "xaxis": "x",
         "y": [
          "Northern West Bengal"
         ],
         "yaxis": "y"
        },
        {
         "alignmentgroup": "True",
         "customdata": [
          [
           "Odisha",
           28
          ]
         ],
         "hovertemplate": "States=%{customdata[0]}<br>Year=2018<br>Population=%{customdata[1]}<extra></extra>",
         "legendgroup": "Odisha",
         "marker": {
          "color": "#3366CC"
         },
         "name": "Odisha",
         "offsetgroup": "Odisha",
         "orientation": "h",
         "showlegend": true,
         "text": [
          28
         ],
         "textposition": "auto",
         "type": "bar",
         "x": [
          28
         ],
         "xaxis": "x",
         "y": [
          "Odisha"
         ],
         "yaxis": "y"
        },
        {
         "alignmentgroup": "True",
         "customdata": [
          [
           "Rajasthan",
           36
          ]
         ],
         "hovertemplate": "States=%{customdata[0]}<br>Year=2018<br>Population=%{customdata[1]}<extra></extra>",
         "legendgroup": "Rajasthan",
         "marker": {
          "color": "#17BEFC"
         },
         "name": "Rajasthan",
         "offsetgroup": "Rajasthan",
         "orientation": "h",
         "showlegend": true,
         "text": [
          36
         ],
         "textposition": "auto",
         "type": "bar",
         "x": [
          36
         ],
         "xaxis": "x",
         "y": [
          "Rajasthan"
         ],
         "yaxis": "y"
        },
        {
         "alignmentgroup": "True",
         "customdata": [
          [
           "Sunderbans",
           88
          ]
         ],
         "hovertemplate": "States=%{customdata[0]}<br>Year=2018<br>Population=%{customdata[1]}<extra></extra>",
         "legendgroup": "Sunderbans",
         "marker": {
          "color": "rgb(102,17,0)"
         },
         "name": "Sunderbans",
         "offsetgroup": "Sunderbans",
         "orientation": "h",
         "showlegend": true,
         "text": [
          88
         ],
         "textposition": "auto",
         "type": "bar",
         "x": [
          88
         ],
         "xaxis": "x",
         "y": [
          "Sunderbans"
         ],
         "yaxis": "y"
        },
        {
         "alignmentgroup": "True",
         "customdata": [
          [
           "Tamil Nadu",
           264
          ]
         ],
         "hovertemplate": "States=%{customdata[0]}<br>Year=2018<br>Population=%{customdata[1]}<extra></extra>",
         "legendgroup": "Tamil Nadu",
         "marker": {
          "color": "#00CC96"
         },
         "name": "Tamil Nadu",
         "offsetgroup": "Tamil Nadu",
         "orientation": "h",
         "showlegend": true,
         "text": [
          264
         ],
         "textposition": "auto",
         "type": "bar",
         "x": [
          264
         ],
         "xaxis": "x",
         "y": [
          "Tamil Nadu"
         ],
         "yaxis": "y"
        },
        {
         "alignmentgroup": "True",
         "customdata": [
          [
           "Uttar Pradesh",
           173
          ]
         ],
         "hovertemplate": "States=%{customdata[0]}<br>Year=2018<br>Population=%{customdata[1]}<extra></extra>",
         "legendgroup": "Uttar Pradesh",
         "marker": {
          "color": "#FD3216"
         },
         "name": "Uttar Pradesh",
         "offsetgroup": "Uttar Pradesh",
         "orientation": "h",
         "showlegend": true,
         "text": [
          173
         ],
         "textposition": "auto",
         "type": "bar",
         "x": [
          173
         ],
         "xaxis": "x",
         "y": [
          "Uttar Pradesh"
         ],
         "yaxis": "y"
        },
        {
         "alignmentgroup": "True",
         "customdata": [
          [
           "Uttarakhand",
           442
          ]
         ],
         "hovertemplate": "States=%{customdata[0]}<br>Year=2018<br>Population=%{customdata[1]}<extra></extra>",
         "legendgroup": "Uttarakhand",
         "marker": {
          "color": "rgb(253,180,98)"
         },
         "name": "Uttarakhand",
         "offsetgroup": "Uttarakhand",
         "orientation": "h",
         "showlegend": true,
         "text": [
          442
         ],
         "textposition": "auto",
         "type": "bar",
         "x": [
          442
         ],
         "xaxis": "x",
         "y": [
          "Uttarakhand"
         ],
         "yaxis": "y"
        }
       ],
       "frames": [
        {
         "data": [
          {
           "alignmentgroup": "True",
           "customdata": [
            [
             "Andhra Pradesh",
             95
            ]
           ],
           "hovertemplate": "States=%{customdata[0]}<br>Year=2006<br>Population=%{customdata[1]}<extra></extra>",
           "legendgroup": "Andhra Pradesh",
           "marker": {
            "color": "rgb(55,126,184)"
           },
           "name": "Andhra Pradesh",
           "offsetgroup": "Andhra Pradesh",
           "orientation": "h",
           "showlegend": true,
           "text": [
            95
           ],
           "textposition": "auto",
           "type": "bar",
           "x": [
            95
           ],
           "xaxis": "x",
           "y": [
            "Andhra Pradesh"
           ],
           "yaxis": "y"
          },
          {
           "alignmentgroup": "True",
           "customdata": [
            [
             "Arunachal Pradesh",
             14
            ]
           ],
           "hovertemplate": "States=%{customdata[0]}<br>Year=2006<br>Population=%{customdata[1]}<extra></extra>",
           "legendgroup": "Arunachal Pradesh",
           "marker": {
            "color": "rgb(231,41,138)"
           },
           "name": "Arunachal Pradesh",
           "offsetgroup": "Arunachal Pradesh",
           "orientation": "h",
           "showlegend": true,
           "text": [
            14
           ],
           "textposition": "auto",
           "type": "bar",
           "x": [
            14
           ],
           "xaxis": "x",
           "y": [
            "Arunachal Pradesh"
           ],
           "yaxis": "y"
          },
          {
           "alignmentgroup": "True",
           "customdata": [
            [
             "Assam",
             70
            ]
           ],
           "hovertemplate": "States=%{customdata[0]}<br>Year=2006<br>Population=%{customdata[1]}<extra></extra>",
           "legendgroup": "Assam",
           "marker": {
            "color": "rgb(231,138,195)"
           },
           "name": "Assam",
           "offsetgroup": "Assam",
           "orientation": "h",
           "showlegend": true,
           "text": [
            70
           ],
           "textposition": "auto",
           "type": "bar",
           "x": [
            70
           ],
           "xaxis": "x",
           "y": [
            "Assam"
           ],
           "yaxis": "y"
          },
          {
           "alignmentgroup": "True",
           "customdata": [
            [
             "Bihar",
             10
            ]
           ],
           "hovertemplate": "States=%{customdata[0]}<br>Year=2006<br>Population=%{customdata[1]}<extra></extra>",
           "legendgroup": "Bihar",
           "marker": {
            "color": "#F58518"
           },
           "name": "Bihar",
           "offsetgroup": "Bihar",
           "orientation": "h",
           "showlegend": true,
           "text": [
            10
           ],
           "textposition": "auto",
           "type": "bar",
           "x": [
            10
           ],
           "xaxis": "x",
           "y": [
            "Bihar"
           ],
           "yaxis": "y"
          },
          {
           "alignmentgroup": "True",
           "customdata": [
            [
             "Chattisgarh",
             26
            ]
           ],
           "hovertemplate": "States=%{customdata[0]}<br>Year=2006<br>Population=%{customdata[1]}<extra></extra>",
           "legendgroup": "Chattisgarh",
           "marker": {
            "color": "rgb(179,205,227)"
           },
           "name": "Chattisgarh",
           "offsetgroup": "Chattisgarh",
           "orientation": "h",
           "showlegend": true,
           "text": [
            26
           ],
           "textposition": "auto",
           "type": "bar",
           "x": [
            26
           ],
           "xaxis": "x",
           "y": [
            "Chattisgarh"
           ],
           "yaxis": "y"
          },
          {
           "alignmentgroup": "True",
           "customdata": [
            [
             "Goa",
             null
            ]
           ],
           "hovertemplate": "States=%{customdata[0]}<br>Year=2006<br>Population=%{customdata[1]}<extra></extra>",
           "legendgroup": "Goa",
           "marker": {
            "color": "rgb(27,158,119)"
           },
           "name": "Goa",
           "offsetgroup": "Goa",
           "orientation": "h",
           "showlegend": true,
           "text": [
            null
           ],
           "textposition": "auto",
           "type": "bar",
           "x": [
            null
           ],
           "xaxis": "x",
           "y": [
            "Goa"
           ],
           "yaxis": "y"
          },
          {
           "alignmentgroup": "True",
           "customdata": [
            [
             "Jharkhand",
             null
            ]
           ],
           "hovertemplate": "States=%{customdata[0]}<br>Year=2006<br>Population=%{customdata[1]}<extra></extra>",
           "legendgroup": "Jharkhand",
           "marker": {
            "color": "rgb(128,177,211)"
           },
           "name": "Jharkhand",
           "offsetgroup": "Jharkhand",
           "orientation": "h",
           "showlegend": true,
           "text": [
            null
           ],
           "textposition": "auto",
           "type": "bar",
           "x": [
            null
           ],
           "xaxis": "x",
           "y": [
            "Jharkhand"
           ],
           "yaxis": "y"
          },
          {
           "alignmentgroup": "True",
           "customdata": [
            [
             "Karnataka",
             290
            ]
           ],
           "hovertemplate": "States=%{customdata[0]}<br>Year=2006<br>Population=%{customdata[1]}<extra></extra>",
           "legendgroup": "Karnataka",
           "marker": {
            "color": "rgb(179,222,105)"
           },
           "name": "Karnataka",
           "offsetgroup": "Karnataka",
           "orientation": "h",
           "showlegend": true,
           "text": [
            290
           ],
           "textposition": "auto",
           "type": "bar",
           "x": [
            290
           ],
           "xaxis": "x",
           "y": [
            "Karnataka"
           ],
           "yaxis": "y"
          },
          {
           "alignmentgroup": "True",
           "customdata": [
            [
             "Kerala",
             46
            ]
           ],
           "hovertemplate": "States=%{customdata[0]}<br>Year=2006<br>Population=%{customdata[1]}<extra></extra>",
           "legendgroup": "Kerala",
           "marker": {
            "color": "rgb(102,166,30)"
           },
           "name": "Kerala",
           "offsetgroup": "Kerala",
           "orientation": "h",
           "showlegend": true,
           "text": [
            46
           ],
           "textposition": "auto",
           "type": "bar",
           "x": [
            46
           ],
           "xaxis": "x",
           "y": [
            "Kerala"
           ],
           "yaxis": "y"
          },
          {
           "alignmentgroup": "True",
           "customdata": [
            [
             "Madhya Pradesh",
             300
            ]
           ],
           "hovertemplate": "States=%{customdata[0]}<br>Year=2006<br>Population=%{customdata[1]}<extra></extra>",
           "legendgroup": "Madhya Pradesh",
           "marker": {
            "color": "#19D3F3"
           },
           "name": "Madhya Pradesh",
           "offsetgroup": "Madhya Pradesh",
           "orientation": "h",
           "showlegend": true,
           "text": [
            300
           ],
           "textposition": "auto",
           "type": "bar",
           "x": [
            300
           ],
           "xaxis": "x",
           "y": [
            "Madhya Pradesh"
           ],
           "yaxis": "y"
          },
          {
           "alignmentgroup": "True",
           "customdata": [
            [
             "Maharashtra",
             103
            ]
           ],
           "hovertemplate": "States=%{customdata[0]}<br>Year=2006<br>Population=%{customdata[1]}<extra></extra>",
           "legendgroup": "Maharashtra",
           "marker": {
            "color": "#2E91E5"
           },
           "name": "Maharashtra",
           "offsetgroup": "Maharashtra",
           "orientation": "h",
           "showlegend": true,
           "text": [
            103
           ],
           "textposition": "auto",
           "type": "bar",
           "x": [
            103
           ],
           "xaxis": "x",
           "y": [
            "Maharashtra"
           ],
           "yaxis": "y"
          },
          {
           "alignmentgroup": "True",
           "customdata": [
            [
             "Mizoram",
             6
            ]
           ],
           "hovertemplate": "States=%{customdata[0]}<br>Year=2006<br>Population=%{customdata[1]}<extra></extra>",
           "legendgroup": "Mizoram",
           "marker": {
            "color": "rgb(254,136,177)"
           },
           "name": "Mizoram",
           "offsetgroup": "Mizoram",
           "orientation": "h",
           "showlegend": true,
           "text": [
            6
           ],
           "textposition": "auto",
           "type": "bar",
           "x": [
            6
           ],
           "xaxis": "x",
           "y": [
            "Mizoram"
           ],
           "yaxis": "y"
          },
          {
           "alignmentgroup": "True",
           "customdata": [
            [
             "Northern West Bengal",
             10
            ]
           ],
           "hovertemplate": "States=%{customdata[0]}<br>Year=2006<br>Population=%{customdata[1]}<extra></extra>",
           "legendgroup": "Northern West Bengal",
           "marker": {
            "color": "#FF97FF"
           },
           "name": "Northern West Bengal",
           "offsetgroup": "Northern West Bengal",
           "orientation": "h",
           "showlegend": true,
           "text": [
            10
           ],
           "textposition": "auto",
           "type": "bar",
           "x": [
            10
           ],
           "xaxis": "x",
           "y": [
            "Northern West Bengal"
           ],
           "yaxis": "y"
          },
          {
           "alignmentgroup": "True",
           "customdata": [
            [
             "Odisha",
             45
            ]
           ],
           "hovertemplate": "States=%{customdata[0]}<br>Year=2006<br>Population=%{customdata[1]}<extra></extra>",
           "legendgroup": "Odisha",
           "marker": {
            "color": "#3366CC"
           },
           "name": "Odisha",
           "offsetgroup": "Odisha",
           "orientation": "h",
           "showlegend": true,
           "text": [
            45
           ],
           "textposition": "auto",
           "type": "bar",
           "x": [
            45
           ],
           "xaxis": "x",
           "y": [
            "Odisha"
           ],
           "yaxis": "y"
          },
          {
           "alignmentgroup": "True",
           "customdata": [
            [
             "Rajasthan",
             32
            ]
           ],
           "hovertemplate": "States=%{customdata[0]}<br>Year=2006<br>Population=%{customdata[1]}<extra></extra>",
           "legendgroup": "Rajasthan",
           "marker": {
            "color": "#17BEFC"
           },
           "name": "Rajasthan",
           "offsetgroup": "Rajasthan",
           "orientation": "h",
           "showlegend": true,
           "text": [
            32
           ],
           "textposition": "auto",
           "type": "bar",
           "x": [
            32
           ],
           "xaxis": "x",
           "y": [
            "Rajasthan"
           ],
           "yaxis": "y"
          },
          {
           "alignmentgroup": "True",
           "customdata": [
            [
             "Sunderbans",
             null
            ]
           ],
           "hovertemplate": "States=%{customdata[0]}<br>Year=2006<br>Population=%{customdata[1]}<extra></extra>",
           "legendgroup": "Sunderbans",
           "marker": {
            "color": "rgb(102,17,0)"
           },
           "name": "Sunderbans",
           "offsetgroup": "Sunderbans",
           "orientation": "h",
           "showlegend": true,
           "text": [
            null
           ],
           "textposition": "auto",
           "type": "bar",
           "x": [
            null
           ],
           "xaxis": "x",
           "y": [
            "Sunderbans"
           ],
           "yaxis": "y"
          },
          {
           "alignmentgroup": "True",
           "customdata": [
            [
             "Tamil Nadu",
             76
            ]
           ],
           "hovertemplate": "States=%{customdata[0]}<br>Year=2006<br>Population=%{customdata[1]}<extra></extra>",
           "legendgroup": "Tamil Nadu",
           "marker": {
            "color": "#00CC96"
           },
           "name": "Tamil Nadu",
           "offsetgroup": "Tamil Nadu",
           "orientation": "h",
           "showlegend": true,
           "text": [
            76
           ],
           "textposition": "auto",
           "type": "bar",
           "x": [
            76
           ],
           "xaxis": "x",
           "y": [
            "Tamil Nadu"
           ],
           "yaxis": "y"
          },
          {
           "alignmentgroup": "True",
           "customdata": [
            [
             "Uttar Pradesh",
             109
            ]
           ],
           "hovertemplate": "States=%{customdata[0]}<br>Year=2006<br>Population=%{customdata[1]}<extra></extra>",
           "legendgroup": "Uttar Pradesh",
           "marker": {
            "color": "#FD3216"
           },
           "name": "Uttar Pradesh",
           "offsetgroup": "Uttar Pradesh",
           "orientation": "h",
           "showlegend": true,
           "text": [
            109
           ],
           "textposition": "auto",
           "type": "bar",
           "x": [
            109
           ],
           "xaxis": "x",
           "y": [
            "Uttar Pradesh"
           ],
           "yaxis": "y"
          },
          {
           "alignmentgroup": "True",
           "customdata": [
            [
             "Uttarakhand",
             178
            ]
           ],
           "hovertemplate": "States=%{customdata[0]}<br>Year=2006<br>Population=%{customdata[1]}<extra></extra>",
           "legendgroup": "Uttarakhand",
           "marker": {
            "color": "rgb(253,180,98)"
           },
           "name": "Uttarakhand",
           "offsetgroup": "Uttarakhand",
           "orientation": "h",
           "showlegend": true,
           "text": [
            178
           ],
           "textposition": "auto",
           "type": "bar",
           "x": [
            178
           ],
           "xaxis": "x",
           "y": [
            "Uttarakhand"
           ],
           "yaxis": "y"
          }
         ],
         "name": "2006"
        },
        {
         "data": [
          {
           "alignmentgroup": "True",
           "customdata": [
            [
             "Andhra Pradesh",
             72
            ]
           ],
           "hovertemplate": "States=%{customdata[0]}<br>Year=2010<br>Population=%{customdata[1]}<extra></extra>",
           "legendgroup": "Andhra Pradesh",
           "marker": {
            "color": "rgb(55,126,184)"
           },
           "name": "Andhra Pradesh",
           "offsetgroup": "Andhra Pradesh",
           "orientation": "h",
           "showlegend": true,
           "text": [
            72
           ],
           "textposition": "auto",
           "type": "bar",
           "x": [
            72
           ],
           "xaxis": "x",
           "y": [
            "Andhra Pradesh"
           ],
           "yaxis": "y"
          },
          {
           "alignmentgroup": "True",
           "customdata": [
            [
             "Arunachal Pradesh",
             null
            ]
           ],
           "hovertemplate": "States=%{customdata[0]}<br>Year=2010<br>Population=%{customdata[1]}<extra></extra>",
           "legendgroup": "Arunachal Pradesh",
           "marker": {
            "color": "rgb(231,41,138)"
           },
           "name": "Arunachal Pradesh",
           "offsetgroup": "Arunachal Pradesh",
           "orientation": "h",
           "showlegend": true,
           "text": [
            null
           ],
           "textposition": "auto",
           "type": "bar",
           "x": [
            null
           ],
           "xaxis": "x",
           "y": [
            "Arunachal Pradesh"
           ],
           "yaxis": "y"
          },
          {
           "alignmentgroup": "True",
           "customdata": [
            [
             "Assam",
             143
            ]
           ],
           "hovertemplate": "States=%{customdata[0]}<br>Year=2010<br>Population=%{customdata[1]}<extra></extra>",
           "legendgroup": "Assam",
           "marker": {
            "color": "rgb(231,138,195)"
           },
           "name": "Assam",
           "offsetgroup": "Assam",
           "orientation": "h",
           "showlegend": true,
           "text": [
            143
           ],
           "textposition": "auto",
           "type": "bar",
           "x": [
            143
           ],
           "xaxis": "x",
           "y": [
            "Assam"
           ],
           "yaxis": "y"
          },
          {
           "alignmentgroup": "True",
           "customdata": [
            [
             "Bihar",
             8
            ]
           ],
           "hovertemplate": "States=%{customdata[0]}<br>Year=2010<br>Population=%{customdata[1]}<extra></extra>",
           "legendgroup": "Bihar",
           "marker": {
            "color": "#F58518"
           },
           "name": "Bihar",
           "offsetgroup": "Bihar",
           "orientation": "h",
           "showlegend": true,
           "text": [
            8
           ],
           "textposition": "auto",
           "type": "bar",
           "x": [
            8
           ],
           "xaxis": "x",
           "y": [
            "Bihar"
           ],
           "yaxis": "y"
          },
          {
           "alignmentgroup": "True",
           "customdata": [
            [
             "Chattisgarh",
             26
            ]
           ],
           "hovertemplate": "States=%{customdata[0]}<br>Year=2010<br>Population=%{customdata[1]}<extra></extra>",
           "legendgroup": "Chattisgarh",
           "marker": {
            "color": "rgb(179,205,227)"
           },
           "name": "Chattisgarh",
           "offsetgroup": "Chattisgarh",
           "orientation": "h",
           "showlegend": true,
           "text": [
            26
           ],
           "textposition": "auto",
           "type": "bar",
           "x": [
            26
           ],
           "xaxis": "x",
           "y": [
            "Chattisgarh"
           ],
           "yaxis": "y"
          },
          {
           "alignmentgroup": "True",
           "customdata": [
            [
             "Goa",
             null
            ]
           ],
           "hovertemplate": "States=%{customdata[0]}<br>Year=2010<br>Population=%{customdata[1]}<extra></extra>",
           "legendgroup": "Goa",
           "marker": {
            "color": "rgb(27,158,119)"
           },
           "name": "Goa",
           "offsetgroup": "Goa",
           "orientation": "h",
           "showlegend": true,
           "text": [
            null
           ],
           "textposition": "auto",
           "type": "bar",
           "x": [
            null
           ],
           "xaxis": "x",
           "y": [
            "Goa"
           ],
           "yaxis": "y"
          },
          {
           "alignmentgroup": "True",
           "customdata": [
            [
             "Jharkhand",
             10
            ]
           ],
           "hovertemplate": "States=%{customdata[0]}<br>Year=2010<br>Population=%{customdata[1]}<extra></extra>",
           "legendgroup": "Jharkhand",
           "marker": {
            "color": "rgb(128,177,211)"
           },
           "name": "Jharkhand",
           "offsetgroup": "Jharkhand",
           "orientation": "h",
           "showlegend": true,
           "text": [
            10
           ],
           "textposition": "auto",
           "type": "bar",
           "x": [
            10
           ],
           "xaxis": "x",
           "y": [
            "Jharkhand"
           ],
           "yaxis": "y"
          },
          {
           "alignmentgroup": "True",
           "customdata": [
            [
             "Karnataka",
             300
            ]
           ],
           "hovertemplate": "States=%{customdata[0]}<br>Year=2010<br>Population=%{customdata[1]}<extra></extra>",
           "legendgroup": "Karnataka",
           "marker": {
            "color": "rgb(179,222,105)"
           },
           "name": "Karnataka",
           "offsetgroup": "Karnataka",
           "orientation": "h",
           "showlegend": true,
           "text": [
            300
           ],
           "textposition": "auto",
           "type": "bar",
           "x": [
            300
           ],
           "xaxis": "x",
           "y": [
            "Karnataka"
           ],
           "yaxis": "y"
          },
          {
           "alignmentgroup": "True",
           "customdata": [
            [
             "Kerala",
             71
            ]
           ],
           "hovertemplate": "States=%{customdata[0]}<br>Year=2010<br>Population=%{customdata[1]}<extra></extra>",
           "legendgroup": "Kerala",
           "marker": {
            "color": "rgb(102,166,30)"
           },
           "name": "Kerala",
           "offsetgroup": "Kerala",
           "orientation": "h",
           "showlegend": true,
           "text": [
            71
           ],
           "textposition": "auto",
           "type": "bar",
           "x": [
            71
           ],
           "xaxis": "x",
           "y": [
            "Kerala"
           ],
           "yaxis": "y"
          },
          {
           "alignmentgroup": "True",
           "customdata": [
            [
             "Madhya Pradesh",
             257
            ]
           ],
           "hovertemplate": "States=%{customdata[0]}<br>Year=2010<br>Population=%{customdata[1]}<extra></extra>",
           "legendgroup": "Madhya Pradesh",
           "marker": {
            "color": "#19D3F3"
           },
           "name": "Madhya Pradesh",
           "offsetgroup": "Madhya Pradesh",
           "orientation": "h",
           "showlegend": true,
           "text": [
            257
           ],
           "textposition": "auto",
           "type": "bar",
           "x": [
            257
           ],
           "xaxis": "x",
           "y": [
            "Madhya Pradesh"
           ],
           "yaxis": "y"
          },
          {
           "alignmentgroup": "True",
           "customdata": [
            [
             "Maharashtra",
             169
            ]
           ],
           "hovertemplate": "States=%{customdata[0]}<br>Year=2010<br>Population=%{customdata[1]}<extra></extra>",
           "legendgroup": "Maharashtra",
           "marker": {
            "color": "#2E91E5"
           },
           "name": "Maharashtra",
           "offsetgroup": "Maharashtra",
           "orientation": "h",
           "showlegend": true,
           "text": [
            169
           ],
           "textposition": "auto",
           "type": "bar",
           "x": [
            169
           ],
           "xaxis": "x",
           "y": [
            "Maharashtra"
           ],
           "yaxis": "y"
          },
          {
           "alignmentgroup": "True",
           "customdata": [
            [
             "Mizoram",
             5
            ]
           ],
           "hovertemplate": "States=%{customdata[0]}<br>Year=2010<br>Population=%{customdata[1]}<extra></extra>",
           "legendgroup": "Mizoram",
           "marker": {
            "color": "rgb(254,136,177)"
           },
           "name": "Mizoram",
           "offsetgroup": "Mizoram",
           "orientation": "h",
           "showlegend": true,
           "text": [
            5
           ],
           "textposition": "auto",
           "type": "bar",
           "x": [
            5
           ],
           "xaxis": "x",
           "y": [
            "Mizoram"
           ],
           "yaxis": "y"
          },
          {
           "alignmentgroup": "True",
           "customdata": [
            [
             "Northern West Bengal",
             null
            ]
           ],
           "hovertemplate": "States=%{customdata[0]}<br>Year=2010<br>Population=%{customdata[1]}<extra></extra>",
           "legendgroup": "Northern West Bengal",
           "marker": {
            "color": "#FF97FF"
           },
           "name": "Northern West Bengal",
           "offsetgroup": "Northern West Bengal",
           "orientation": "h",
           "showlegend": true,
           "text": [
            null
           ],
           "textposition": "auto",
           "type": "bar",
           "x": [
            null
           ],
           "xaxis": "x",
           "y": [
            "Northern West Bengal"
           ],
           "yaxis": "y"
          },
          {
           "alignmentgroup": "True",
           "customdata": [
            [
             "Odisha",
             32
            ]
           ],
           "hovertemplate": "States=%{customdata[0]}<br>Year=2010<br>Population=%{customdata[1]}<extra></extra>",
           "legendgroup": "Odisha",
           "marker": {
            "color": "#3366CC"
           },
           "name": "Odisha",
           "offsetgroup": "Odisha",
           "orientation": "h",
           "showlegend": true,
           "text": [
            32
           ],
           "textposition": "auto",
           "type": "bar",
           "x": [
            32
           ],
           "xaxis": "x",
           "y": [
            "Odisha"
           ],
           "yaxis": "y"
          },
          {
           "alignmentgroup": "True",
           "customdata": [
            [
             "Rajasthan",
             36
            ]
           ],
           "hovertemplate": "States=%{customdata[0]}<br>Year=2010<br>Population=%{customdata[1]}<extra></extra>",
           "legendgroup": "Rajasthan",
           "marker": {
            "color": "#17BEFC"
           },
           "name": "Rajasthan",
           "offsetgroup": "Rajasthan",
           "orientation": "h",
           "showlegend": true,
           "text": [
            36
           ],
           "textposition": "auto",
           "type": "bar",
           "x": [
            36
           ],
           "xaxis": "x",
           "y": [
            "Rajasthan"
           ],
           "yaxis": "y"
          },
          {
           "alignmentgroup": "True",
           "customdata": [
            [
             "Sunderbans",
             70
            ]
           ],
           "hovertemplate": "States=%{customdata[0]}<br>Year=2010<br>Population=%{customdata[1]}<extra></extra>",
           "legendgroup": "Sunderbans",
           "marker": {
            "color": "rgb(102,17,0)"
           },
           "name": "Sunderbans",
           "offsetgroup": "Sunderbans",
           "orientation": "h",
           "showlegend": true,
           "text": [
            70
           ],
           "textposition": "auto",
           "type": "bar",
           "x": [
            70
           ],
           "xaxis": "x",
           "y": [
            "Sunderbans"
           ],
           "yaxis": "y"
          },
          {
           "alignmentgroup": "True",
           "customdata": [
            [
             "Tamil Nadu",
             163
            ]
           ],
           "hovertemplate": "States=%{customdata[0]}<br>Year=2010<br>Population=%{customdata[1]}<extra></extra>",
           "legendgroup": "Tamil Nadu",
           "marker": {
            "color": "#00CC96"
           },
           "name": "Tamil Nadu",
           "offsetgroup": "Tamil Nadu",
           "orientation": "h",
           "showlegend": true,
           "text": [
            163
           ],
           "textposition": "auto",
           "type": "bar",
           "x": [
            163
           ],
           "xaxis": "x",
           "y": [
            "Tamil Nadu"
           ],
           "yaxis": "y"
          },
          {
           "alignmentgroup": "True",
           "customdata": [
            [
             "Uttar Pradesh",
             118
            ]
           ],
           "hovertemplate": "States=%{customdata[0]}<br>Year=2010<br>Population=%{customdata[1]}<extra></extra>",
           "legendgroup": "Uttar Pradesh",
           "marker": {
            "color": "#FD3216"
           },
           "name": "Uttar Pradesh",
           "offsetgroup": "Uttar Pradesh",
           "orientation": "h",
           "showlegend": true,
           "text": [
            118
           ],
           "textposition": "auto",
           "type": "bar",
           "x": [
            118
           ],
           "xaxis": "x",
           "y": [
            "Uttar Pradesh"
           ],
           "yaxis": "y"
          },
          {
           "alignmentgroup": "True",
           "customdata": [
            [
             "Uttarakhand",
             227
            ]
           ],
           "hovertemplate": "States=%{customdata[0]}<br>Year=2010<br>Population=%{customdata[1]}<extra></extra>",
           "legendgroup": "Uttarakhand",
           "marker": {
            "color": "rgb(253,180,98)"
           },
           "name": "Uttarakhand",
           "offsetgroup": "Uttarakhand",
           "orientation": "h",
           "showlegend": true,
           "text": [
            227
           ],
           "textposition": "auto",
           "type": "bar",
           "x": [
            227
           ],
           "xaxis": "x",
           "y": [
            "Uttarakhand"
           ],
           "yaxis": "y"
          }
         ],
         "name": "2010"
        },
        {
         "data": [
          {
           "alignmentgroup": "True",
           "customdata": [
            [
             "Andhra Pradesh",
             68
            ]
           ],
           "hovertemplate": "States=%{customdata[0]}<br>Year=2014<br>Population=%{customdata[1]}<extra></extra>",
           "legendgroup": "Andhra Pradesh",
           "marker": {
            "color": "rgb(55,126,184)"
           },
           "name": "Andhra Pradesh",
           "offsetgroup": "Andhra Pradesh",
           "orientation": "h",
           "showlegend": true,
           "text": [
            68
           ],
           "textposition": "auto",
           "type": "bar",
           "x": [
            68
           ],
           "xaxis": "x",
           "y": [
            "Andhra Pradesh"
           ],
           "yaxis": "y"
          },
          {
           "alignmentgroup": "True",
           "customdata": [
            [
             "Arunachal Pradesh",
             28
            ]
           ],
           "hovertemplate": "States=%{customdata[0]}<br>Year=2014<br>Population=%{customdata[1]}<extra></extra>",
           "legendgroup": "Arunachal Pradesh",
           "marker": {
            "color": "rgb(231,41,138)"
           },
           "name": "Arunachal Pradesh",
           "offsetgroup": "Arunachal Pradesh",
           "orientation": "h",
           "showlegend": true,
           "text": [
            28
           ],
           "textposition": "auto",
           "type": "bar",
           "x": [
            28
           ],
           "xaxis": "x",
           "y": [
            "Arunachal Pradesh"
           ],
           "yaxis": "y"
          },
          {
           "alignmentgroup": "True",
           "customdata": [
            [
             "Assam",
             167
            ]
           ],
           "hovertemplate": "States=%{customdata[0]}<br>Year=2014<br>Population=%{customdata[1]}<extra></extra>",
           "legendgroup": "Assam",
           "marker": {
            "color": "rgb(231,138,195)"
           },
           "name": "Assam",
           "offsetgroup": "Assam",
           "orientation": "h",
           "showlegend": true,
           "text": [
            167
           ],
           "textposition": "auto",
           "type": "bar",
           "x": [
            167
           ],
           "xaxis": "x",
           "y": [
            "Assam"
           ],
           "yaxis": "y"
          },
          {
           "alignmentgroup": "True",
           "customdata": [
            [
             "Bihar",
             28
            ]
           ],
           "hovertemplate": "States=%{customdata[0]}<br>Year=2014<br>Population=%{customdata[1]}<extra></extra>",
           "legendgroup": "Bihar",
           "marker": {
            "color": "#F58518"
           },
           "name": "Bihar",
           "offsetgroup": "Bihar",
           "orientation": "h",
           "showlegend": true,
           "text": [
            28
           ],
           "textposition": "auto",
           "type": "bar",
           "x": [
            28
           ],
           "xaxis": "x",
           "y": [
            "Bihar"
           ],
           "yaxis": "y"
          },
          {
           "alignmentgroup": "True",
           "customdata": [
            [
             "Chattisgarh",
             46
            ]
           ],
           "hovertemplate": "States=%{customdata[0]}<br>Year=2014<br>Population=%{customdata[1]}<extra></extra>",
           "legendgroup": "Chattisgarh",
           "marker": {
            "color": "rgb(179,205,227)"
           },
           "name": "Chattisgarh",
           "offsetgroup": "Chattisgarh",
           "orientation": "h",
           "showlegend": true,
           "text": [
            46
           ],
           "textposition": "auto",
           "type": "bar",
           "x": [
            46
           ],
           "xaxis": "x",
           "y": [
            "Chattisgarh"
           ],
           "yaxis": "y"
          },
          {
           "alignmentgroup": "True",
           "customdata": [
            [
             "Goa",
             5
            ]
           ],
           "hovertemplate": "States=%{customdata[0]}<br>Year=2014<br>Population=%{customdata[1]}<extra></extra>",
           "legendgroup": "Goa",
           "marker": {
            "color": "rgb(27,158,119)"
           },
           "name": "Goa",
           "offsetgroup": "Goa",
           "orientation": "h",
           "showlegend": true,
           "text": [
            5
           ],
           "textposition": "auto",
           "type": "bar",
           "x": [
            5
           ],
           "xaxis": "x",
           "y": [
            "Goa"
           ],
           "yaxis": "y"
          },
          {
           "alignmentgroup": "True",
           "customdata": [
            [
             "Jharkhand",
             3
            ]
           ],
           "hovertemplate": "States=%{customdata[0]}<br>Year=2014<br>Population=%{customdata[1]}<extra></extra>",
           "legendgroup": "Jharkhand",
           "marker": {
            "color": "rgb(128,177,211)"
           },
           "name": "Jharkhand",
           "offsetgroup": "Jharkhand",
           "orientation": "h",
           "showlegend": true,
           "text": [
            3
           ],
           "textposition": "auto",
           "type": "bar",
           "x": [
            3
           ],
           "xaxis": "x",
           "y": [
            "Jharkhand"
           ],
           "yaxis": "y"
          },
          {
           "alignmentgroup": "True",
           "customdata": [
            [
             "Karnataka",
             406
            ]
           ],
           "hovertemplate": "States=%{customdata[0]}<br>Year=2014<br>Population=%{customdata[1]}<extra></extra>",
           "legendgroup": "Karnataka",
           "marker": {
            "color": "rgb(179,222,105)"
           },
           "name": "Karnataka",
           "offsetgroup": "Karnataka",
           "orientation": "h",
           "showlegend": true,
           "text": [
            406
           ],
           "textposition": "auto",
           "type": "bar",
           "x": [
            406
           ],
           "xaxis": "x",
           "y": [
            "Karnataka"
           ],
           "yaxis": "y"
          },
          {
           "alignmentgroup": "True",
           "customdata": [
            [
             "Kerala",
             136
            ]
           ],
           "hovertemplate": "States=%{customdata[0]}<br>Year=2014<br>Population=%{customdata[1]}<extra></extra>",
           "legendgroup": "Kerala",
           "marker": {
            "color": "rgb(102,166,30)"
           },
           "name": "Kerala",
           "offsetgroup": "Kerala",
           "orientation": "h",
           "showlegend": true,
           "text": [
            136
           ],
           "textposition": "auto",
           "type": "bar",
           "x": [
            136
           ],
           "xaxis": "x",
           "y": [
            "Kerala"
           ],
           "yaxis": "y"
          },
          {
           "alignmentgroup": "True",
           "customdata": [
            [
             "Madhya Pradesh",
             308
            ]
           ],
           "hovertemplate": "States=%{customdata[0]}<br>Year=2014<br>Population=%{customdata[1]}<extra></extra>",
           "legendgroup": "Madhya Pradesh",
           "marker": {
            "color": "#19D3F3"
           },
           "name": "Madhya Pradesh",
           "offsetgroup": "Madhya Pradesh",
           "orientation": "h",
           "showlegend": true,
           "text": [
            308
           ],
           "textposition": "auto",
           "type": "bar",
           "x": [
            308
           ],
           "xaxis": "x",
           "y": [
            "Madhya Pradesh"
           ],
           "yaxis": "y"
          },
          {
           "alignmentgroup": "True",
           "customdata": [
            [
             "Maharashtra",
             190
            ]
           ],
           "hovertemplate": "States=%{customdata[0]}<br>Year=2014<br>Population=%{customdata[1]}<extra></extra>",
           "legendgroup": "Maharashtra",
           "marker": {
            "color": "#2E91E5"
           },
           "name": "Maharashtra",
           "offsetgroup": "Maharashtra",
           "orientation": "h",
           "showlegend": true,
           "text": [
            190
           ],
           "textposition": "auto",
           "type": "bar",
           "x": [
            190
           ],
           "xaxis": "x",
           "y": [
            "Maharashtra"
           ],
           "yaxis": "y"
          },
          {
           "alignmentgroup": "True",
           "customdata": [
            [
             "Mizoram",
             3
            ]
           ],
           "hovertemplate": "States=%{customdata[0]}<br>Year=2014<br>Population=%{customdata[1]}<extra></extra>",
           "legendgroup": "Mizoram",
           "marker": {
            "color": "rgb(254,136,177)"
           },
           "name": "Mizoram",
           "offsetgroup": "Mizoram",
           "orientation": "h",
           "showlegend": true,
           "text": [
            3
           ],
           "textposition": "auto",
           "type": "bar",
           "x": [
            3
           ],
           "xaxis": "x",
           "y": [
            "Mizoram"
           ],
           "yaxis": "y"
          },
          {
           "alignmentgroup": "True",
           "customdata": [
            [
             "Northern West Bengal",
             3
            ]
           ],
           "hovertemplate": "States=%{customdata[0]}<br>Year=2014<br>Population=%{customdata[1]}<extra></extra>",
           "legendgroup": "Northern West Bengal",
           "marker": {
            "color": "#FF97FF"
           },
           "name": "Northern West Bengal",
           "offsetgroup": "Northern West Bengal",
           "orientation": "h",
           "showlegend": true,
           "text": [
            3
           ],
           "textposition": "auto",
           "type": "bar",
           "x": [
            3
           ],
           "xaxis": "x",
           "y": [
            "Northern West Bengal"
           ],
           "yaxis": "y"
          },
          {
           "alignmentgroup": "True",
           "customdata": [
            [
             "Odisha",
             28
            ]
           ],
           "hovertemplate": "States=%{customdata[0]}<br>Year=2014<br>Population=%{customdata[1]}<extra></extra>",
           "legendgroup": "Odisha",
           "marker": {
            "color": "#3366CC"
           },
           "name": "Odisha",
           "offsetgroup": "Odisha",
           "orientation": "h",
           "showlegend": true,
           "text": [
            28
           ],
           "textposition": "auto",
           "type": "bar",
           "x": [
            28
           ],
           "xaxis": "x",
           "y": [
            "Odisha"
           ],
           "yaxis": "y"
          },
          {
           "alignmentgroup": "True",
           "customdata": [
            [
             "Rajasthan",
             45
            ]
           ],
           "hovertemplate": "States=%{customdata[0]}<br>Year=2014<br>Population=%{customdata[1]}<extra></extra>",
           "legendgroup": "Rajasthan",
           "marker": {
            "color": "#17BEFC"
           },
           "name": "Rajasthan",
           "offsetgroup": "Rajasthan",
           "orientation": "h",
           "showlegend": true,
           "text": [
            45
           ],
           "textposition": "auto",
           "type": "bar",
           "x": [
            45
           ],
           "xaxis": "x",
           "y": [
            "Rajasthan"
           ],
           "yaxis": "y"
          },
          {
           "alignmentgroup": "True",
           "customdata": [
            [
             "Sunderbans",
             76
            ]
           ],
           "hovertemplate": "States=%{customdata[0]}<br>Year=2014<br>Population=%{customdata[1]}<extra></extra>",
           "legendgroup": "Sunderbans",
           "marker": {
            "color": "rgb(102,17,0)"
           },
           "name": "Sunderbans",
           "offsetgroup": "Sunderbans",
           "orientation": "h",
           "showlegend": true,
           "text": [
            76
           ],
           "textposition": "auto",
           "type": "bar",
           "x": [
            76
           ],
           "xaxis": "x",
           "y": [
            "Sunderbans"
           ],
           "yaxis": "y"
          },
          {
           "alignmentgroup": "True",
           "customdata": [
            [
             "Tamil Nadu",
             229
            ]
           ],
           "hovertemplate": "States=%{customdata[0]}<br>Year=2014<br>Population=%{customdata[1]}<extra></extra>",
           "legendgroup": "Tamil Nadu",
           "marker": {
            "color": "#00CC96"
           },
           "name": "Tamil Nadu",
           "offsetgroup": "Tamil Nadu",
           "orientation": "h",
           "showlegend": true,
           "text": [
            229
           ],
           "textposition": "auto",
           "type": "bar",
           "x": [
            229
           ],
           "xaxis": "x",
           "y": [
            "Tamil Nadu"
           ],
           "yaxis": "y"
          },
          {
           "alignmentgroup": "True",
           "customdata": [
            [
             "Uttar Pradesh",
             117
            ]
           ],
           "hovertemplate": "States=%{customdata[0]}<br>Year=2014<br>Population=%{customdata[1]}<extra></extra>",
           "legendgroup": "Uttar Pradesh",
           "marker": {
            "color": "#FD3216"
           },
           "name": "Uttar Pradesh",
           "offsetgroup": "Uttar Pradesh",
           "orientation": "h",
           "showlegend": true,
           "text": [
            117
           ],
           "textposition": "auto",
           "type": "bar",
           "x": [
            117
           ],
           "xaxis": "x",
           "y": [
            "Uttar Pradesh"
           ],
           "yaxis": "y"
          },
          {
           "alignmentgroup": "True",
           "customdata": [
            [
             "Uttarakhand",
             340
            ]
           ],
           "hovertemplate": "States=%{customdata[0]}<br>Year=2014<br>Population=%{customdata[1]}<extra></extra>",
           "legendgroup": "Uttarakhand",
           "marker": {
            "color": "rgb(253,180,98)"
           },
           "name": "Uttarakhand",
           "offsetgroup": "Uttarakhand",
           "orientation": "h",
           "showlegend": true,
           "text": [
            340
           ],
           "textposition": "auto",
           "type": "bar",
           "x": [
            340
           ],
           "xaxis": "x",
           "y": [
            "Uttarakhand"
           ],
           "yaxis": "y"
          }
         ],
         "name": "2014"
        },
        {
         "data": [
          {
           "alignmentgroup": "True",
           "customdata": [
            [
             "Andhra Pradesh",
             74
            ]
           ],
           "hovertemplate": "States=%{customdata[0]}<br>Year=2018<br>Population=%{customdata[1]}<extra></extra>",
           "legendgroup": "Andhra Pradesh",
           "marker": {
            "color": "rgb(55,126,184)"
           },
           "name": "Andhra Pradesh",
           "offsetgroup": "Andhra Pradesh",
           "orientation": "h",
           "showlegend": true,
           "text": [
            74
           ],
           "textposition": "auto",
           "type": "bar",
           "x": [
            74
           ],
           "xaxis": "x",
           "y": [
            "Andhra Pradesh"
           ],
           "yaxis": "y"
          },
          {
           "alignmentgroup": "True",
           "customdata": [
            [
             "Arunachal Pradesh",
             29
            ]
           ],
           "hovertemplate": "States=%{customdata[0]}<br>Year=2018<br>Population=%{customdata[1]}<extra></extra>",
           "legendgroup": "Arunachal Pradesh",
           "marker": {
            "color": "rgb(231,41,138)"
           },
           "name": "Arunachal Pradesh",
           "offsetgroup": "Arunachal Pradesh",
           "orientation": "h",
           "showlegend": true,
           "text": [
            29
           ],
           "textposition": "auto",
           "type": "bar",
           "x": [
            29
           ],
           "xaxis": "x",
           "y": [
            "Arunachal Pradesh"
           ],
           "yaxis": "y"
          },
          {
           "alignmentgroup": "True",
           "customdata": [
            [
             "Assam",
             190
            ]
           ],
           "hovertemplate": "States=%{customdata[0]}<br>Year=2018<br>Population=%{customdata[1]}<extra></extra>",
           "legendgroup": "Assam",
           "marker": {
            "color": "rgb(231,138,195)"
           },
           "name": "Assam",
           "offsetgroup": "Assam",
           "orientation": "h",
           "showlegend": true,
           "text": [
            190
           ],
           "textposition": "auto",
           "type": "bar",
           "x": [
            190
           ],
           "xaxis": "x",
           "y": [
            "Assam"
           ],
           "yaxis": "y"
          },
          {
           "alignmentgroup": "True",
           "customdata": [
            [
             "Bihar",
             31
            ]
           ],
           "hovertemplate": "States=%{customdata[0]}<br>Year=2018<br>Population=%{customdata[1]}<extra></extra>",
           "legendgroup": "Bihar",
           "marker": {
            "color": "#F58518"
           },
           "name": "Bihar",
           "offsetgroup": "Bihar",
           "orientation": "h",
           "showlegend": true,
           "text": [
            31
           ],
           "textposition": "auto",
           "type": "bar",
           "x": [
            31
           ],
           "xaxis": "x",
           "y": [
            "Bihar"
           ],
           "yaxis": "y"
          },
          {
           "alignmentgroup": "True",
           "customdata": [
            [
             "Chattisgarh",
             19
            ]
           ],
           "hovertemplate": "States=%{customdata[0]}<br>Year=2018<br>Population=%{customdata[1]}<extra></extra>",
           "legendgroup": "Chattisgarh",
           "marker": {
            "color": "rgb(179,205,227)"
           },
           "name": "Chattisgarh",
           "offsetgroup": "Chattisgarh",
           "orientation": "h",
           "showlegend": true,
           "text": [
            19
           ],
           "textposition": "auto",
           "type": "bar",
           "x": [
            19
           ],
           "xaxis": "x",
           "y": [
            "Chattisgarh"
           ],
           "yaxis": "y"
          },
          {
           "alignmentgroup": "True",
           "customdata": [
            [
             "Goa",
             3
            ]
           ],
           "hovertemplate": "States=%{customdata[0]}<br>Year=2018<br>Population=%{customdata[1]}<extra></extra>",
           "legendgroup": "Goa",
           "marker": {
            "color": "rgb(27,158,119)"
           },
           "name": "Goa",
           "offsetgroup": "Goa",
           "orientation": "h",
           "showlegend": true,
           "text": [
            3
           ],
           "textposition": "auto",
           "type": "bar",
           "x": [
            3
           ],
           "xaxis": "x",
           "y": [
            "Goa"
           ],
           "yaxis": "y"
          },
          {
           "alignmentgroup": "True",
           "customdata": [
            [
             "Jharkhand",
             5
            ]
           ],
           "hovertemplate": "States=%{customdata[0]}<br>Year=2018<br>Population=%{customdata[1]}<extra></extra>",
           "legendgroup": "Jharkhand",
           "marker": {
            "color": "rgb(128,177,211)"
           },
           "name": "Jharkhand",
           "offsetgroup": "Jharkhand",
           "orientation": "h",
           "showlegend": true,
           "text": [
            5
           ],
           "textposition": "auto",
           "type": "bar",
           "x": [
            5
           ],
           "xaxis": "x",
           "y": [
            "Jharkhand"
           ],
           "yaxis": "y"
          },
          {
           "alignmentgroup": "True",
           "customdata": [
            [
             "Karnataka",
             524
            ]
           ],
           "hovertemplate": "States=%{customdata[0]}<br>Year=2018<br>Population=%{customdata[1]}<extra></extra>",
           "legendgroup": "Karnataka",
           "marker": {
            "color": "rgb(179,222,105)"
           },
           "name": "Karnataka",
           "offsetgroup": "Karnataka",
           "orientation": "h",
           "showlegend": true,
           "text": [
            524
           ],
           "textposition": "auto",
           "type": "bar",
           "x": [
            524
           ],
           "xaxis": "x",
           "y": [
            "Karnataka"
           ],
           "yaxis": "y"
          },
          {
           "alignmentgroup": "True",
           "customdata": [
            [
             "Kerala",
             190
            ]
           ],
           "hovertemplate": "States=%{customdata[0]}<br>Year=2018<br>Population=%{customdata[1]}<extra></extra>",
           "legendgroup": "Kerala",
           "marker": {
            "color": "rgb(102,166,30)"
           },
           "name": "Kerala",
           "offsetgroup": "Kerala",
           "orientation": "h",
           "showlegend": true,
           "text": [
            190
           ],
           "textposition": "auto",
           "type": "bar",
           "x": [
            190
           ],
           "xaxis": "x",
           "y": [
            "Kerala"
           ],
           "yaxis": "y"
          },
          {
           "alignmentgroup": "True",
           "customdata": [
            [
             "Madhya Pradesh",
             526
            ]
           ],
           "hovertemplate": "States=%{customdata[0]}<br>Year=2018<br>Population=%{customdata[1]}<extra></extra>",
           "legendgroup": "Madhya Pradesh",
           "marker": {
            "color": "#19D3F3"
           },
           "name": "Madhya Pradesh",
           "offsetgroup": "Madhya Pradesh",
           "orientation": "h",
           "showlegend": true,
           "text": [
            526
           ],
           "textposition": "auto",
           "type": "bar",
           "x": [
            526
           ],
           "xaxis": "x",
           "y": [
            "Madhya Pradesh"
           ],
           "yaxis": "y"
          },
          {
           "alignmentgroup": "True",
           "customdata": [
            [
             "Maharashtra",
             312
            ]
           ],
           "hovertemplate": "States=%{customdata[0]}<br>Year=2018<br>Population=%{customdata[1]}<extra></extra>",
           "legendgroup": "Maharashtra",
           "marker": {
            "color": "#2E91E5"
           },
           "name": "Maharashtra",
           "offsetgroup": "Maharashtra",
           "orientation": "h",
           "showlegend": true,
           "text": [
            312
           ],
           "textposition": "auto",
           "type": "bar",
           "x": [
            312
           ],
           "xaxis": "x",
           "y": [
            "Maharashtra"
           ],
           "yaxis": "y"
          },
          {
           "alignmentgroup": "True",
           "customdata": [
            [
             "Mizoram",
             0
            ]
           ],
           "hovertemplate": "States=%{customdata[0]}<br>Year=2018<br>Population=%{customdata[1]}<extra></extra>",
           "legendgroup": "Mizoram",
           "marker": {
            "color": "rgb(254,136,177)"
           },
           "name": "Mizoram",
           "offsetgroup": "Mizoram",
           "orientation": "h",
           "showlegend": true,
           "text": [
            0
           ],
           "textposition": "auto",
           "type": "bar",
           "x": [
            0
           ],
           "xaxis": "x",
           "y": [
            "Mizoram"
           ],
           "yaxis": "y"
          },
          {
           "alignmentgroup": "True",
           "customdata": [
            [
             "Northern West Bengal",
             0
            ]
           ],
           "hovertemplate": "States=%{customdata[0]}<br>Year=2018<br>Population=%{customdata[1]}<extra></extra>",
           "legendgroup": "Northern West Bengal",
           "marker": {
            "color": "#FF97FF"
           },
           "name": "Northern West Bengal",
           "offsetgroup": "Northern West Bengal",
           "orientation": "h",
           "showlegend": true,
           "text": [
            0
           ],
           "textposition": "auto",
           "type": "bar",
           "x": [
            0
           ],
           "xaxis": "x",
           "y": [
            "Northern West Bengal"
           ],
           "yaxis": "y"
          },
          {
           "alignmentgroup": "True",
           "customdata": [
            [
             "Odisha",
             28
            ]
           ],
           "hovertemplate": "States=%{customdata[0]}<br>Year=2018<br>Population=%{customdata[1]}<extra></extra>",
           "legendgroup": "Odisha",
           "marker": {
            "color": "#3366CC"
           },
           "name": "Odisha",
           "offsetgroup": "Odisha",
           "orientation": "h",
           "showlegend": true,
           "text": [
            28
           ],
           "textposition": "auto",
           "type": "bar",
           "x": [
            28
           ],
           "xaxis": "x",
           "y": [
            "Odisha"
           ],
           "yaxis": "y"
          },
          {
           "alignmentgroup": "True",
           "customdata": [
            [
             "Rajasthan",
             36
            ]
           ],
           "hovertemplate": "States=%{customdata[0]}<br>Year=2018<br>Population=%{customdata[1]}<extra></extra>",
           "legendgroup": "Rajasthan",
           "marker": {
            "color": "#17BEFC"
           },
           "name": "Rajasthan",
           "offsetgroup": "Rajasthan",
           "orientation": "h",
           "showlegend": true,
           "text": [
            36
           ],
           "textposition": "auto",
           "type": "bar",
           "x": [
            36
           ],
           "xaxis": "x",
           "y": [
            "Rajasthan"
           ],
           "yaxis": "y"
          },
          {
           "alignmentgroup": "True",
           "customdata": [
            [
             "Sunderbans",
             88
            ]
           ],
           "hovertemplate": "States=%{customdata[0]}<br>Year=2018<br>Population=%{customdata[1]}<extra></extra>",
           "legendgroup": "Sunderbans",
           "marker": {
            "color": "rgb(102,17,0)"
           },
           "name": "Sunderbans",
           "offsetgroup": "Sunderbans",
           "orientation": "h",
           "showlegend": true,
           "text": [
            88
           ],
           "textposition": "auto",
           "type": "bar",
           "x": [
            88
           ],
           "xaxis": "x",
           "y": [
            "Sunderbans"
           ],
           "yaxis": "y"
          },
          {
           "alignmentgroup": "True",
           "customdata": [
            [
             "Tamil Nadu",
             264
            ]
           ],
           "hovertemplate": "States=%{customdata[0]}<br>Year=2018<br>Population=%{customdata[1]}<extra></extra>",
           "legendgroup": "Tamil Nadu",
           "marker": {
            "color": "#00CC96"
           },
           "name": "Tamil Nadu",
           "offsetgroup": "Tamil Nadu",
           "orientation": "h",
           "showlegend": true,
           "text": [
            264
           ],
           "textposition": "auto",
           "type": "bar",
           "x": [
            264
           ],
           "xaxis": "x",
           "y": [
            "Tamil Nadu"
           ],
           "yaxis": "y"
          },
          {
           "alignmentgroup": "True",
           "customdata": [
            [
             "Uttar Pradesh",
             173
            ]
           ],
           "hovertemplate": "States=%{customdata[0]}<br>Year=2018<br>Population=%{customdata[1]}<extra></extra>",
           "legendgroup": "Uttar Pradesh",
           "marker": {
            "color": "#FD3216"
           },
           "name": "Uttar Pradesh",
           "offsetgroup": "Uttar Pradesh",
           "orientation": "h",
           "showlegend": true,
           "text": [
            173
           ],
           "textposition": "auto",
           "type": "bar",
           "x": [
            173
           ],
           "xaxis": "x",
           "y": [
            "Uttar Pradesh"
           ],
           "yaxis": "y"
          },
          {
           "alignmentgroup": "True",
           "customdata": [
            [
             "Uttarakhand",
             442
            ]
           ],
           "hovertemplate": "States=%{customdata[0]}<br>Year=2018<br>Population=%{customdata[1]}<extra></extra>",
           "legendgroup": "Uttarakhand",
           "marker": {
            "color": "rgb(253,180,98)"
           },
           "name": "Uttarakhand",
           "offsetgroup": "Uttarakhand",
           "orientation": "h",
           "showlegend": true,
           "text": [
            442
           ],
           "textposition": "auto",
           "type": "bar",
           "x": [
            442
           ],
           "xaxis": "x",
           "y": [
            "Uttarakhand"
           ],
           "yaxis": "y"
          }
         ],
         "name": "2018"
        }
       ],
       "layout": {
        "autosize": true,
        "barmode": "relative",
        "legend": {
         "title": {
          "text": "States"
         },
         "tracegroupgap": 0
        },
        "margin": {
         "t": 60
        },
        "sliders": [
         {
          "active": 3,
          "currentvalue": {
           "prefix": "Year="
          },
          "len": 0.9,
          "pad": {
           "r": 10,
           "t": 100
          },
          "steps": [
           {
            "args": [
             [
              "2006"
             ],
             {
              "frame": {
               "duration": 0,
               "redraw": true
              },
              "fromcurrent": true,
              "mode": "immediate",
              "transition": {
               "duration": 0,
               "easing": "linear"
              }
             }
            ],
            "label": "2006",
            "method": "animate"
           },
           {
            "args": [
             [
              "2010"
             ],
             {
              "frame": {
               "duration": 0,
               "redraw": true
              },
              "fromcurrent": true,
              "mode": "immediate",
              "transition": {
               "duration": 0,
               "easing": "linear"
              }
             }
            ],
            "label": "2010",
            "method": "animate"
           },
           {
            "args": [
             [
              "2014"
             ],
             {
              "frame": {
               "duration": 0,
               "redraw": true
              },
              "fromcurrent": true,
              "mode": "immediate",
              "transition": {
               "duration": 0,
               "easing": "linear"
              }
             }
            ],
            "label": "2014",
            "method": "animate"
           },
           {
            "args": [
             [
              "2018"
             ],
             {
              "frame": {
               "duration": 0,
               "redraw": true
              },
              "fromcurrent": true,
              "mode": "immediate",
              "transition": {
               "duration": 0,
               "easing": "linear"
              }
             }
            ],
            "label": "2018",
            "method": "animate"
           }
          ],
          "x": 0.1,
          "xanchor": "left",
          "y": 0,
          "yanchor": "top"
         }
        ],
        "template": {
         "data": {
          "bar": [
           {
            "error_x": {
             "color": "#2a3f5f"
            },
            "error_y": {
             "color": "#2a3f5f"
            },
            "marker": {
             "line": {
              "color": "#E5ECF6",
              "width": 0.5
             }
            },
            "type": "bar"
           }
          ],
          "barpolar": [
           {
            "marker": {
             "line": {
              "color": "#E5ECF6",
              "width": 0.5
             }
            },
            "type": "barpolar"
           }
          ],
          "carpet": [
           {
            "aaxis": {
             "endlinecolor": "#2a3f5f",
             "gridcolor": "white",
             "linecolor": "white",
             "minorgridcolor": "white",
             "startlinecolor": "#2a3f5f"
            },
            "baxis": {
             "endlinecolor": "#2a3f5f",
             "gridcolor": "white",
             "linecolor": "white",
             "minorgridcolor": "white",
             "startlinecolor": "#2a3f5f"
            },
            "type": "carpet"
           }
          ],
          "choropleth": [
           {
            "colorbar": {
             "outlinewidth": 0,
             "ticks": ""
            },
            "type": "choropleth"
           }
          ],
          "contour": [
           {
            "colorbar": {
             "outlinewidth": 0,
             "ticks": ""
            },
            "colorscale": [
             [
              0,
              "#0d0887"
             ],
             [
              0.1111111111111111,
              "#46039f"
             ],
             [
              0.2222222222222222,
              "#7201a8"
             ],
             [
              0.3333333333333333,
              "#9c179e"
             ],
             [
              0.4444444444444444,
              "#bd3786"
             ],
             [
              0.5555555555555556,
              "#d8576b"
             ],
             [
              0.6666666666666666,
              "#ed7953"
             ],
             [
              0.7777777777777778,
              "#fb9f3a"
             ],
             [
              0.8888888888888888,
              "#fdca26"
             ],
             [
              1,
              "#f0f921"
             ]
            ],
            "type": "contour"
           }
          ],
          "contourcarpet": [
           {
            "colorbar": {
             "outlinewidth": 0,
             "ticks": ""
            },
            "type": "contourcarpet"
           }
          ],
          "heatmap": [
           {
            "colorbar": {
             "outlinewidth": 0,
             "ticks": ""
            },
            "colorscale": [
             [
              0,
              "#0d0887"
             ],
             [
              0.1111111111111111,
              "#46039f"
             ],
             [
              0.2222222222222222,
              "#7201a8"
             ],
             [
              0.3333333333333333,
              "#9c179e"
             ],
             [
              0.4444444444444444,
              "#bd3786"
             ],
             [
              0.5555555555555556,
              "#d8576b"
             ],
             [
              0.6666666666666666,
              "#ed7953"
             ],
             [
              0.7777777777777778,
              "#fb9f3a"
             ],
             [
              0.8888888888888888,
              "#fdca26"
             ],
             [
              1,
              "#f0f921"
             ]
            ],
            "type": "heatmap"
           }
          ],
          "heatmapgl": [
           {
            "colorbar": {
             "outlinewidth": 0,
             "ticks": ""
            },
            "colorscale": [
             [
              0,
              "#0d0887"
             ],
             [
              0.1111111111111111,
              "#46039f"
             ],
             [
              0.2222222222222222,
              "#7201a8"
             ],
             [
              0.3333333333333333,
              "#9c179e"
             ],
             [
              0.4444444444444444,
              "#bd3786"
             ],
             [
              0.5555555555555556,
              "#d8576b"
             ],
             [
              0.6666666666666666,
              "#ed7953"
             ],
             [
              0.7777777777777778,
              "#fb9f3a"
             ],
             [
              0.8888888888888888,
              "#fdca26"
             ],
             [
              1,
              "#f0f921"
             ]
            ],
            "type": "heatmapgl"
           }
          ],
          "histogram": [
           {
            "marker": {
             "colorbar": {
              "outlinewidth": 0,
              "ticks": ""
             }
            },
            "type": "histogram"
           }
          ],
          "histogram2d": [
           {
            "colorbar": {
             "outlinewidth": 0,
             "ticks": ""
            },
            "colorscale": [
             [
              0,
              "#0d0887"
             ],
             [
              0.1111111111111111,
              "#46039f"
             ],
             [
              0.2222222222222222,
              "#7201a8"
             ],
             [
              0.3333333333333333,
              "#9c179e"
             ],
             [
              0.4444444444444444,
              "#bd3786"
             ],
             [
              0.5555555555555556,
              "#d8576b"
             ],
             [
              0.6666666666666666,
              "#ed7953"
             ],
             [
              0.7777777777777778,
              "#fb9f3a"
             ],
             [
              0.8888888888888888,
              "#fdca26"
             ],
             [
              1,
              "#f0f921"
             ]
            ],
            "type": "histogram2d"
           }
          ],
          "histogram2dcontour": [
           {
            "colorbar": {
             "outlinewidth": 0,
             "ticks": ""
            },
            "colorscale": [
             [
              0,
              "#0d0887"
             ],
             [
              0.1111111111111111,
              "#46039f"
             ],
             [
              0.2222222222222222,
              "#7201a8"
             ],
             [
              0.3333333333333333,
              "#9c179e"
             ],
             [
              0.4444444444444444,
              "#bd3786"
             ],
             [
              0.5555555555555556,
              "#d8576b"
             ],
             [
              0.6666666666666666,
              "#ed7953"
             ],
             [
              0.7777777777777778,
              "#fb9f3a"
             ],
             [
              0.8888888888888888,
              "#fdca26"
             ],
             [
              1,
              "#f0f921"
             ]
            ],
            "type": "histogram2dcontour"
           }
          ],
          "mesh3d": [
           {
            "colorbar": {
             "outlinewidth": 0,
             "ticks": ""
            },
            "type": "mesh3d"
           }
          ],
          "parcoords": [
           {
            "line": {
             "colorbar": {
              "outlinewidth": 0,
              "ticks": ""
             }
            },
            "type": "parcoords"
           }
          ],
          "pie": [
           {
            "automargin": true,
            "type": "pie"
           }
          ],
          "scatter": [
           {
            "marker": {
             "colorbar": {
              "outlinewidth": 0,
              "ticks": ""
             }
            },
            "type": "scatter"
           }
          ],
          "scatter3d": [
           {
            "line": {
             "colorbar": {
              "outlinewidth": 0,
              "ticks": ""
             }
            },
            "marker": {
             "colorbar": {
              "outlinewidth": 0,
              "ticks": ""
             }
            },
            "type": "scatter3d"
           }
          ],
          "scattercarpet": [
           {
            "marker": {
             "colorbar": {
              "outlinewidth": 0,
              "ticks": ""
             }
            },
            "type": "scattercarpet"
           }
          ],
          "scattergeo": [
           {
            "marker": {
             "colorbar": {
              "outlinewidth": 0,
              "ticks": ""
             }
            },
            "type": "scattergeo"
           }
          ],
          "scattergl": [
           {
            "marker": {
             "colorbar": {
              "outlinewidth": 0,
              "ticks": ""
             }
            },
            "type": "scattergl"
           }
          ],
          "scattermapbox": [
           {
            "marker": {
             "colorbar": {
              "outlinewidth": 0,
              "ticks": ""
             }
            },
            "type": "scattermapbox"
           }
          ],
          "scatterpolar": [
           {
            "marker": {
             "colorbar": {
              "outlinewidth": 0,
              "ticks": ""
             }
            },
            "type": "scatterpolar"
           }
          ],
          "scatterpolargl": [
           {
            "marker": {
             "colorbar": {
              "outlinewidth": 0,
              "ticks": ""
             }
            },
            "type": "scatterpolargl"
           }
          ],
          "scatterternary": [
           {
            "marker": {
             "colorbar": {
              "outlinewidth": 0,
              "ticks": ""
             }
            },
            "type": "scatterternary"
           }
          ],
          "surface": [
           {
            "colorbar": {
             "outlinewidth": 0,
             "ticks": ""
            },
            "colorscale": [
             [
              0,
              "#0d0887"
             ],
             [
              0.1111111111111111,
              "#46039f"
             ],
             [
              0.2222222222222222,
              "#7201a8"
             ],
             [
              0.3333333333333333,
              "#9c179e"
             ],
             [
              0.4444444444444444,
              "#bd3786"
             ],
             [
              0.5555555555555556,
              "#d8576b"
             ],
             [
              0.6666666666666666,
              "#ed7953"
             ],
             [
              0.7777777777777778,
              "#fb9f3a"
             ],
             [
              0.8888888888888888,
              "#fdca26"
             ],
             [
              1,
              "#f0f921"
             ]
            ],
            "type": "surface"
           }
          ],
          "table": [
           {
            "cells": {
             "fill": {
              "color": "#EBF0F8"
             },
             "line": {
              "color": "white"
             }
            },
            "header": {
             "fill": {
              "color": "#C8D4E3"
             },
             "line": {
              "color": "white"
             }
            },
            "type": "table"
           }
          ]
         },
         "layout": {
          "annotationdefaults": {
           "arrowcolor": "#2a3f5f",
           "arrowhead": 0,
           "arrowwidth": 1
          },
          "coloraxis": {
           "colorbar": {
            "outlinewidth": 0,
            "ticks": ""
           }
          },
          "colorscale": {
           "diverging": [
            [
             0,
             "#8e0152"
            ],
            [
             0.1,
             "#c51b7d"
            ],
            [
             0.2,
             "#de77ae"
            ],
            [
             0.3,
             "#f1b6da"
            ],
            [
             0.4,
             "#fde0ef"
            ],
            [
             0.5,
             "#f7f7f7"
            ],
            [
             0.6,
             "#e6f5d0"
            ],
            [
             0.7,
             "#b8e186"
            ],
            [
             0.8,
             "#7fbc41"
            ],
            [
             0.9,
             "#4d9221"
            ],
            [
             1,
             "#276419"
            ]
           ],
           "sequential": [
            [
             0,
             "#0d0887"
            ],
            [
             0.1111111111111111,
             "#46039f"
            ],
            [
             0.2222222222222222,
             "#7201a8"
            ],
            [
             0.3333333333333333,
             "#9c179e"
            ],
            [
             0.4444444444444444,
             "#bd3786"
            ],
            [
             0.5555555555555556,
             "#d8576b"
            ],
            [
             0.6666666666666666,
             "#ed7953"
            ],
            [
             0.7777777777777778,
             "#fb9f3a"
            ],
            [
             0.8888888888888888,
             "#fdca26"
            ],
            [
             1,
             "#f0f921"
            ]
           ],
           "sequentialminus": [
            [
             0,
             "#0d0887"
            ],
            [
             0.1111111111111111,
             "#46039f"
            ],
            [
             0.2222222222222222,
             "#7201a8"
            ],
            [
             0.3333333333333333,
             "#9c179e"
            ],
            [
             0.4444444444444444,
             "#bd3786"
            ],
            [
             0.5555555555555556,
             "#d8576b"
            ],
            [
             0.6666666666666666,
             "#ed7953"
            ],
            [
             0.7777777777777778,
             "#fb9f3a"
            ],
            [
             0.8888888888888888,
             "#fdca26"
            ],
            [
             1,
             "#f0f921"
            ]
           ]
          },
          "colorway": [
           "#636efa",
           "#EF553B",
           "#00cc96",
           "#ab63fa",
           "#FFA15A",
           "#19d3f3",
           "#FF6692",
           "#B6E880",
           "#FF97FF",
           "#FECB52"
          ],
          "font": {
           "color": "#2a3f5f"
          },
          "geo": {
           "bgcolor": "white",
           "lakecolor": "white",
           "landcolor": "#E5ECF6",
           "showlakes": true,
           "showland": true,
           "subunitcolor": "white"
          },
          "hoverlabel": {
           "align": "left"
          },
          "hovermode": "closest",
          "mapbox": {
           "style": "light"
          },
          "paper_bgcolor": "white",
          "plot_bgcolor": "#E5ECF6",
          "polar": {
           "angularaxis": {
            "gridcolor": "white",
            "linecolor": "white",
            "ticks": ""
           },
           "bgcolor": "#E5ECF6",
           "radialaxis": {
            "gridcolor": "white",
            "linecolor": "white",
            "ticks": ""
           }
          },
          "scene": {
           "xaxis": {
            "backgroundcolor": "#E5ECF6",
            "gridcolor": "white",
            "gridwidth": 2,
            "linecolor": "white",
            "showbackground": true,
            "ticks": "",
            "zerolinecolor": "white"
           },
           "yaxis": {
            "backgroundcolor": "#E5ECF6",
            "gridcolor": "white",
            "gridwidth": 2,
            "linecolor": "white",
            "showbackground": true,
            "ticks": "",
            "zerolinecolor": "white"
           },
           "zaxis": {
            "backgroundcolor": "#E5ECF6",
            "gridcolor": "white",
            "gridwidth": 2,
            "linecolor": "white",
            "showbackground": true,
            "ticks": "",
            "zerolinecolor": "white"
           }
          },
          "shapedefaults": {
           "line": {
            "color": "#2a3f5f"
           }
          },
          "ternary": {
           "aaxis": {
            "gridcolor": "white",
            "linecolor": "white",
            "ticks": ""
           },
           "baxis": {
            "gridcolor": "white",
            "linecolor": "white",
            "ticks": ""
           },
           "bgcolor": "#E5ECF6",
           "caxis": {
            "gridcolor": "white",
            "linecolor": "white",
            "ticks": ""
           }
          },
          "title": {
           "x": 0.05
          },
          "xaxis": {
           "automargin": true,
           "gridcolor": "white",
           "linecolor": "white",
           "ticks": "",
           "title": {
            "standoff": 15
           },
           "zerolinecolor": "white",
           "zerolinewidth": 2
          },
          "yaxis": {
           "automargin": true,
           "gridcolor": "white",
           "linecolor": "white",
           "ticks": "",
           "title": {
            "standoff": 15
           },
           "zerolinecolor": "white",
           "zerolinewidth": 2
          }
         }
        },
        "updatemenus": [
         {
          "active": 0,
          "buttons": [
           {
            "args": [
             null,
             {
              "frame": {
               "duration": 2000,
               "redraw": true
              },
              "fromcurrent": true,
              "mode": "immediate",
              "transition": {
               "duration": 500,
               "easing": "linear"
              }
             }
            ],
            "label": "&#9654;",
            "method": "animate"
           },
           {
            "args": [
             [
              null
             ],
             {
              "frame": {
               "duration": 0,
               "redraw": true
              },
              "fromcurrent": true,
              "mode": "immediate",
              "transition": {
               "duration": 0,
               "easing": "linear"
              }
             }
            ],
            "label": "&#9724;",
            "method": "animate"
           }
          ],
          "direction": "left",
          "pad": {
           "r": 10,
           "t": 70
          },
          "showactive": false,
          "type": "buttons",
          "x": 0.1,
          "xanchor": "right",
          "y": 0,
          "yanchor": "top"
         }
        ],
        "xaxis": {
         "anchor": "y",
         "domain": [
          0,
          1
         ],
         "range": [
          0,
          600
         ],
         "title": {
          "text": "Population"
         },
         "type": "linear"
        },
        "yaxis": {
         "anchor": "x",
         "autorange": true,
         "categoryarray": [
          "Uttarakhand",
          "Uttar Pradesh",
          "Tamil Nadu",
          "Sunderbans",
          "Rajasthan",
          "Odisha",
          "Northern West Bengal",
          "Mizoram",
          "Maharashtra",
          "Madhya Pradesh",
          "Kerala",
          "Karnataka",
          "Jharkhand",
          "Goa",
          "Chattisgarh",
          "Bihar",
          "Assam",
          "Arunachal Pradesh",
          "Andhra Pradesh"
         ],
         "categoryorder": "total ascending",
         "domain": [
          0,
          1
         ],
         "range": [
          -0.5,
          18.5
         ],
         "title": {
          "text": "States"
         },
         "type": "category"
        }
       }
      },
      "image/png": "[encoded data removed]",
      "text/html": [
       "<div>                            <div id=\"c147e2dc-da7f-4744-a33f-31b49412965e\" class=\"plotly-graph-div\" style=\"height:525px; width:100%;\"></div>            <script type=\"text/javascript\">                require([\"plotly\"], function(Plotly) {                    window.PLOTLYENV=window.PLOTLYENV || {};                                    if (document.getElementById(\"c147e2dc-da7f-4744-a33f-31b49412965e\")) {                    Plotly.newPlot(                        \"c147e2dc-da7f-4744-a33f-31b49412965e\",                        [{\"alignmentgroup\": \"True\", \"customdata\": [[\"Andhra Pradesh\", 95.0]], \"hovertemplate\": \"States=%{customdata[0]}<br>Year=2006<br>Population=%{customdata[1]}<extra></extra>\", \"legendgroup\": \"Andhra Pradesh\", \"marker\": {\"color\": \"rgb(55,126,184)\"}, \"name\": \"Andhra Pradesh\", \"offsetgroup\": \"Andhra Pradesh\", \"orientation\": \"h\", \"showlegend\": true, \"text\": [95.0], \"textposition\": \"inside\", \"type\": \"bar\", \"x\": [95.0], \"xaxis\": \"x\", \"y\": [\"Andhra Pradesh\"], \"yaxis\": \"y\"}, {\"alignmentgroup\": \"True\", \"customdata\": [[\"Arunachal Pradesh\", 14.0]], \"hovertemplate\": \"States=%{customdata[0]}<br>Year=2006<br>Population=%{customdata[1]}<extra></extra>\", \"legendgroup\": \"Arunachal Pradesh\", \"marker\": {\"color\": \"rgb(231,41,138)\"}, \"name\": \"Arunachal Pradesh\", \"offsetgroup\": \"Arunachal Pradesh\", \"orientation\": \"h\", \"showlegend\": true, \"text\": [14.0], \"textposition\": \"inside\", \"type\": \"bar\", \"x\": [14.0], \"xaxis\": \"x\", \"y\": [\"Arunachal Pradesh\"], \"yaxis\": \"y\"}, {\"alignmentgroup\": \"True\", \"customdata\": [[\"Assam\", 70.0]], \"hovertemplate\": \"States=%{customdata[0]}<br>Year=2006<br>Population=%{customdata[1]}<extra></extra>\", \"legendgroup\": \"Assam\", \"marker\": {\"color\": \"rgb(231,138,195)\"}, \"name\": \"Assam\", \"offsetgroup\": \"Assam\", \"orientation\": \"h\", \"showlegend\": true, \"text\": [70.0], \"textposition\": \"inside\", \"type\": \"bar\", \"x\": [70.0], \"xaxis\": \"x\", \"y\": [\"Assam\"], \"yaxis\": \"y\"}, {\"alignmentgroup\": \"True\", \"customdata\": [[\"Bihar\", 10.0]], \"hovertemplate\": \"States=%{customdata[0]}<br>Year=2006<br>Population=%{customdata[1]}<extra></extra>\", \"legendgroup\": \"Bihar\", \"marker\": {\"color\": \"#F58518\"}, \"name\": \"Bihar\", \"offsetgroup\": \"Bihar\", \"orientation\": \"h\", \"showlegend\": true, \"text\": [10.0], \"textposition\": \"inside\", \"type\": \"bar\", \"x\": [10.0], \"xaxis\": \"x\", \"y\": [\"Bihar\"], \"yaxis\": \"y\"}, {\"alignmentgroup\": \"True\", \"customdata\": [[\"Chattisgarh\", 26.0]], \"hovertemplate\": \"States=%{customdata[0]}<br>Year=2006<br>Population=%{customdata[1]}<extra></extra>\", \"legendgroup\": \"Chattisgarh\", \"marker\": {\"color\": \"rgb(179,205,227)\"}, \"name\": \"Chattisgarh\", \"offsetgroup\": \"Chattisgarh\", \"orientation\": \"h\", \"showlegend\": true, \"text\": [26.0], \"textposition\": \"inside\", \"type\": \"bar\", \"x\": [26.0], \"xaxis\": \"x\", \"y\": [\"Chattisgarh\"], \"yaxis\": \"y\"}, {\"alignmentgroup\": \"True\", \"customdata\": [[\"Goa\", null]], \"hovertemplate\": \"States=%{customdata[0]}<br>Year=2006<br>Population=%{customdata[1]}<extra></extra>\", \"legendgroup\": \"Goa\", \"marker\": {\"color\": \"rgb(27,158,119)\"}, \"name\": \"Goa\", \"offsetgroup\": \"Goa\", \"orientation\": \"h\", \"showlegend\": true, \"text\": [null], \"textposition\": \"inside\", \"type\": \"bar\", \"x\": [null], \"xaxis\": \"x\", \"y\": [\"Goa\"], \"yaxis\": \"y\"}, {\"alignmentgroup\": \"True\", \"customdata\": [[\"Jharkhand\", null]], \"hovertemplate\": \"States=%{customdata[0]}<br>Year=2006<br>Population=%{customdata[1]}<extra></extra>\", \"legendgroup\": \"Jharkhand\", \"marker\": {\"color\": \"rgb(128,177,211)\"}, \"name\": \"Jharkhand\", \"offsetgroup\": \"Jharkhand\", \"orientation\": \"h\", \"showlegend\": true, \"text\": [null], \"textposition\": \"inside\", \"type\": \"bar\", \"x\": [null], \"xaxis\": \"x\", \"y\": [\"Jharkhand\"], \"yaxis\": \"y\"}, {\"alignmentgroup\": \"True\", \"customdata\": [[\"Karnataka\", 290.0]], \"hovertemplate\": \"States=%{customdata[0]}<br>Year=2006<br>Population=%{customdata[1]}<extra></extra>\", \"legendgroup\": \"Karnataka\", \"marker\": {\"color\": \"rgb(179,222,105)\"}, \"name\": \"Karnataka\", \"offsetgroup\": \"Karnataka\", \"orientation\": \"h\", \"showlegend\": true, \"text\": [290.0], \"textposition\": \"inside\", \"type\": \"bar\", \"x\": [290.0], \"xaxis\": \"x\", \"y\": [\"Karnataka\"], \"yaxis\": \"y\"}, {\"alignmentgroup\": \"True\", \"customdata\": [[\"Kerala\", 46.0]], \"hovertemplate\": \"States=%{customdata[0]}<br>Year=2006<br>Population=%{customdata[1]}<extra></extra>\", \"legendgroup\": \"Kerala\", \"marker\": {\"color\": \"rgb(102,166,30)\"}, \"name\": \"Kerala\", \"offsetgroup\": \"Kerala\", \"orientation\": \"h\", \"showlegend\": true, \"text\": [46.0], \"textposition\": \"inside\", \"type\": \"bar\", \"x\": [46.0], \"xaxis\": \"x\", \"y\": [\"Kerala\"], \"yaxis\": \"y\"}, {\"alignmentgroup\": \"True\", \"customdata\": [[\"Madhya Pradesh\", 300.0]], \"hovertemplate\": \"States=%{customdata[0]}<br>Year=2006<br>Population=%{customdata[1]}<extra></extra>\", \"legendgroup\": \"Madhya Pradesh\", \"marker\": {\"color\": \"#19D3F3\"}, \"name\": \"Madhya Pradesh\", \"offsetgroup\": \"Madhya Pradesh\", \"orientation\": \"h\", \"showlegend\": true, \"text\": [300.0], \"textposition\": \"inside\", \"type\": \"bar\", \"x\": [300.0], \"xaxis\": \"x\", \"y\": [\"Madhya Pradesh\"], \"yaxis\": \"y\"}, {\"alignmentgroup\": \"True\", \"customdata\": [[\"Maharashtra\", 103.0]], \"hovertemplate\": \"States=%{customdata[0]}<br>Year=2006<br>Population=%{customdata[1]}<extra></extra>\", \"legendgroup\": \"Maharashtra\", \"marker\": {\"color\": \"#2E91E5\"}, \"name\": \"Maharashtra\", \"offsetgroup\": \"Maharashtra\", \"orientation\": \"h\", \"showlegend\": true, \"text\": [103.0], \"textposition\": \"inside\", \"type\": \"bar\", \"x\": [103.0], \"xaxis\": \"x\", \"y\": [\"Maharashtra\"], \"yaxis\": \"y\"}, {\"alignmentgroup\": \"True\", \"customdata\": [[\"Mizoram\", 6.0]], \"hovertemplate\": \"States=%{customdata[0]}<br>Year=2006<br>Population=%{customdata[1]}<extra></extra>\", \"legendgroup\": \"Mizoram\", \"marker\": {\"color\": \"rgb(254,136,177)\"}, \"name\": \"Mizoram\", \"offsetgroup\": \"Mizoram\", \"orientation\": \"h\", \"showlegend\": true, \"text\": [6.0], \"textposition\": \"inside\", \"type\": \"bar\", \"x\": [6.0], \"xaxis\": \"x\", \"y\": [\"Mizoram\"], \"yaxis\": \"y\"}, {\"alignmentgroup\": \"True\", \"customdata\": [[\"Northern West Bengal\", 10.0]], \"hovertemplate\": \"States=%{customdata[0]}<br>Year=2006<br>Population=%{customdata[1]}<extra></extra>\", \"legendgroup\": \"Northern West Bengal\", \"marker\": {\"color\": \"#FF97FF\"}, \"name\": \"Northern West Bengal\", \"offsetgroup\": \"Northern West Bengal\", \"orientation\": \"h\", \"showlegend\": true, \"text\": [10.0], \"textposition\": \"inside\", \"type\": \"bar\", \"x\": [10.0], \"xaxis\": \"x\", \"y\": [\"Northern West Bengal\"], \"yaxis\": \"y\"}, {\"alignmentgroup\": \"True\", \"customdata\": [[\"Odisha\", 45.0]], \"hovertemplate\": \"States=%{customdata[0]}<br>Year=2006<br>Population=%{customdata[1]}<extra></extra>\", \"legendgroup\": \"Odisha\", \"marker\": {\"color\": \"#3366CC\"}, \"name\": \"Odisha\", \"offsetgroup\": \"Odisha\", \"orientation\": \"h\", \"showlegend\": true, \"text\": [45.0], \"textposition\": \"inside\", \"type\": \"bar\", \"x\": [45.0], \"xaxis\": \"x\", \"y\": [\"Odisha\"], \"yaxis\": \"y\"}, {\"alignmentgroup\": \"True\", \"customdata\": [[\"Rajasthan\", 32.0]], \"hovertemplate\": \"States=%{customdata[0]}<br>Year=2006<br>Population=%{customdata[1]}<extra></extra>\", \"legendgroup\": \"Rajasthan\", \"marker\": {\"color\": \"#17BEFC\"}, \"name\": \"Rajasthan\", \"offsetgroup\": \"Rajasthan\", \"orientation\": \"h\", \"showlegend\": true, \"text\": [32.0], \"textposition\": \"inside\", \"type\": \"bar\", \"x\": [32.0], \"xaxis\": \"x\", \"y\": [\"Rajasthan\"], \"yaxis\": \"y\"}, {\"alignmentgroup\": \"True\", \"customdata\": [[\"Sunderbans\", null]], \"hovertemplate\": \"States=%{customdata[0]}<br>Year=2006<br>Population=%{customdata[1]}<extra></extra>\", \"legendgroup\": \"Sunderbans\", \"marker\": {\"color\": \"rgb(102,17,0)\"}, \"name\": \"Sunderbans\", \"offsetgroup\": \"Sunderbans\", \"orientation\": \"h\", \"showlegend\": true, \"text\": [null], \"textposition\": \"inside\", \"type\": \"bar\", \"x\": [null], \"xaxis\": \"x\", \"y\": [\"Sunderbans\"], \"yaxis\": \"y\"}, {\"alignmentgroup\": \"True\", \"customdata\": [[\"Tamil Nadu\", 76.0]], \"hovertemplate\": \"States=%{customdata[0]}<br>Year=2006<br>Population=%{customdata[1]}<extra></extra>\", \"legendgroup\": \"Tamil Nadu\", \"marker\": {\"color\": \"#00CC96\"}, \"name\": \"Tamil Nadu\", \"offsetgroup\": \"Tamil Nadu\", \"orientation\": \"h\", \"showlegend\": true, \"text\": [76.0], \"textposition\": \"inside\", \"type\": \"bar\", \"x\": [76.0], \"xaxis\": \"x\", \"y\": [\"Tamil Nadu\"], \"yaxis\": \"y\"}, {\"alignmentgroup\": \"True\", \"customdata\": [[\"Uttar Pradesh\", 109.0]], \"hovertemplate\": \"States=%{customdata[0]}<br>Year=2006<br>Population=%{customdata[1]}<extra></extra>\", \"legendgroup\": \"Uttar Pradesh\", \"marker\": {\"color\": \"#FD3216\"}, \"name\": \"Uttar Pradesh\", \"offsetgroup\": \"Uttar Pradesh\", \"orientation\": \"h\", \"showlegend\": true, \"text\": [109.0], \"textposition\": \"inside\", \"type\": \"bar\", \"x\": [109.0], \"xaxis\": \"x\", \"y\": [\"Uttar Pradesh\"], \"yaxis\": \"y\"}, {\"alignmentgroup\": \"True\", \"customdata\": [[\"Uttarakhand\", 178.0]], \"hovertemplate\": \"States=%{customdata[0]}<br>Year=2006<br>Population=%{customdata[1]}<extra></extra>\", \"legendgroup\": \"Uttarakhand\", \"marker\": {\"color\": \"rgb(253,180,98)\"}, \"name\": \"Uttarakhand\", \"offsetgroup\": \"Uttarakhand\", \"orientation\": \"h\", \"showlegend\": true, \"text\": [178.0], \"textposition\": \"inside\", \"type\": \"bar\", \"x\": [178.0], \"xaxis\": \"x\", \"y\": [\"Uttarakhand\"], \"yaxis\": \"y\"}],                        {\"barmode\": \"relative\", \"legend\": {\"title\": {\"text\": \"States\"}, \"tracegroupgap\": 0}, \"margin\": {\"t\": 60}, \"sliders\": [{\"active\": 0, \"currentvalue\": {\"prefix\": \"Year=\"}, \"len\": 0.9, \"pad\": {\"r\": 10, \"t\": 100}, \"steps\": [{\"args\": [[\"2006\"], {\"frame\": {\"duration\": 0, \"redraw\": true}, \"fromcurrent\": true, \"mode\": \"immediate\", \"transition\": {\"duration\": 0, \"easing\": \"linear\"}}], \"label\": \"2006\", \"method\": \"animate\"}, {\"args\": [[\"2010\"], {\"frame\": {\"duration\": 0, \"redraw\": true}, \"fromcurrent\": true, \"mode\": \"immediate\", \"transition\": {\"duration\": 0, \"easing\": \"linear\"}}], \"label\": \"2010\", \"method\": \"animate\"}, {\"args\": [[\"2014\"], {\"frame\": {\"duration\": 0, \"redraw\": true}, \"fromcurrent\": true, \"mode\": \"immediate\", \"transition\": {\"duration\": 0, \"easing\": \"linear\"}}], \"label\": \"2014\", \"method\": \"animate\"}, {\"args\": [[\"2018\"], {\"frame\": {\"duration\": 0, \"redraw\": true}, \"fromcurrent\": true, \"mode\": \"immediate\", \"transition\": {\"duration\": 0, \"easing\": \"linear\"}}], \"label\": \"2018\", \"method\": \"animate\"}], \"x\": 0.1, \"xanchor\": \"left\", \"y\": 0, \"yanchor\": \"top\"}], \"template\": {\"data\": {\"bar\": [{\"error_x\": {\"color\": \"#2a3f5f\"}, \"error_y\": {\"color\": \"#2a3f5f\"}, \"marker\": {\"line\": {\"color\": \"#E5ECF6\", \"width\": 0.5}}, \"type\": \"bar\"}], \"barpolar\": [{\"marker\": {\"line\": {\"color\": \"#E5ECF6\", \"width\": 0.5}}, \"type\": \"barpolar\"}], \"carpet\": [{\"aaxis\": {\"endlinecolor\": \"#2a3f5f\", \"gridcolor\": \"white\", \"linecolor\": \"white\", \"minorgridcolor\": \"white\", \"startlinecolor\": \"#2a3f5f\"}, \"baxis\": {\"endlinecolor\": \"#2a3f5f\", \"gridcolor\": \"white\", \"linecolor\": \"white\", \"minorgridcolor\": \"white\", \"startlinecolor\": \"#2a3f5f\"}, \"type\": \"carpet\"}], \"choropleth\": [{\"colorbar\": {\"outlinewidth\": 0, \"ticks\": \"\"}, \"type\": \"choropleth\"}], \"contour\": [{\"colorbar\": {\"outlinewidth\": 0, \"ticks\": \"\"}, \"colorscale\": [[0.0, \"#0d0887\"], [0.1111111111111111, \"#46039f\"], [0.2222222222222222, \"#7201a8\"], [0.3333333333333333, \"#9c179e\"], [0.4444444444444444, \"#bd3786\"], [0.5555555555555556, \"#d8576b\"], [0.6666666666666666, \"#ed7953\"], [0.7777777777777778, \"#fb9f3a\"], [0.8888888888888888, \"#fdca26\"], [1.0, \"#f0f921\"]], \"type\": \"contour\"}], \"contourcarpet\": [{\"colorbar\": {\"outlinewidth\": 0, \"ticks\": \"\"}, \"type\": \"contourcarpet\"}], \"heatmap\": [{\"colorbar\": {\"outlinewidth\": 0, \"ticks\": \"\"}, \"colorscale\": [[0.0, \"#0d0887\"], [0.1111111111111111, \"#46039f\"], [0.2222222222222222, \"#7201a8\"], [0.3333333333333333, \"#9c179e\"], [0.4444444444444444, \"#bd3786\"], [0.5555555555555556, \"#d8576b\"], [0.6666666666666666, \"#ed7953\"], [0.7777777777777778, \"#fb9f3a\"], [0.8888888888888888, \"#fdca26\"], [1.0, \"#f0f921\"]], \"type\": \"heatmap\"}], \"heatmapgl\": [{\"colorbar\": {\"outlinewidth\": 0, \"ticks\": \"\"}, \"colorscale\": [[0.0, \"#0d0887\"], [0.1111111111111111, \"#46039f\"], [0.2222222222222222, \"#7201a8\"], [0.3333333333333333, \"#9c179e\"], [0.4444444444444444, \"#bd3786\"], [0.5555555555555556, \"#d8576b\"], [0.6666666666666666, \"#ed7953\"], [0.7777777777777778, \"#fb9f3a\"], [0.8888888888888888, \"#fdca26\"], [1.0, \"#f0f921\"]], \"type\": \"heatmapgl\"}], \"histogram\": [{\"marker\": {\"colorbar\": {\"outlinewidth\": 0, \"ticks\": \"\"}}, \"type\": \"histogram\"}], \"histogram2d\": [{\"colorbar\": {\"outlinewidth\": 0, \"ticks\": \"\"}, \"colorscale\": [[0.0, \"#0d0887\"], [0.1111111111111111, \"#46039f\"], [0.2222222222222222, \"#7201a8\"], [0.3333333333333333, \"#9c179e\"], [0.4444444444444444, \"#bd3786\"], [0.5555555555555556, \"#d8576b\"], [0.6666666666666666, \"#ed7953\"], [0.7777777777777778, \"#fb9f3a\"], [0.8888888888888888, \"#fdca26\"], [1.0, \"#f0f921\"]], \"type\": \"histogram2d\"}], \"histogram2dcontour\": [{\"colorbar\": {\"outlinewidth\": 0, \"ticks\": \"\"}, \"colorscale\": [[0.0, \"#0d0887\"], [0.1111111111111111, \"#46039f\"], [0.2222222222222222, \"#7201a8\"], [0.3333333333333333, \"#9c179e\"], [0.4444444444444444, \"#bd3786\"], [0.5555555555555556, \"#d8576b\"], [0.6666666666666666, \"#ed7953\"], [0.7777777777777778, \"#fb9f3a\"], [0.8888888888888888, \"#fdca26\"], [1.0, \"#f0f921\"]], \"type\": \"histogram2dcontour\"}], \"mesh3d\": [{\"colorbar\": {\"outlinewidth\": 0, \"ticks\": \"\"}, \"type\": \"mesh3d\"}], \"parcoords\": [{\"line\": {\"colorbar\": {\"outlinewidth\": 0, \"ticks\": \"\"}}, \"type\": \"parcoords\"}], \"pie\": [{\"automargin\": true, \"type\": \"pie\"}], \"scatter\": [{\"marker\": {\"colorbar\": {\"outlinewidth\": 0, \"ticks\": \"\"}}, \"type\": \"scatter\"}], \"scatter3d\": [{\"line\": {\"colorbar\": {\"outlinewidth\": 0, \"ticks\": \"\"}}, \"marker\": {\"colorbar\": {\"outlinewidth\": 0, \"ticks\": \"\"}}, \"type\": \"scatter3d\"}], \"scattercarpet\": [{\"marker\": {\"colorbar\": {\"outlinewidth\": 0, \"ticks\": \"\"}}, \"type\": \"scattercarpet\"}], \"scattergeo\": [{\"marker\": {\"colorbar\": {\"outlinewidth\": 0, \"ticks\": \"\"}}, \"type\": \"scattergeo\"}], \"scattergl\": [{\"marker\": {\"colorbar\": {\"outlinewidth\": 0, \"ticks\": \"\"}}, \"type\": \"scattergl\"}], \"scattermapbox\": [{\"marker\": {\"colorbar\": {\"outlinewidth\": 0, \"ticks\": \"\"}}, \"type\": \"scattermapbox\"}], \"scatterpolar\": [{\"marker\": {\"colorbar\": {\"outlinewidth\": 0, \"ticks\": \"\"}}, \"type\": \"scatterpolar\"}], \"scatterpolargl\": [{\"marker\": {\"colorbar\": {\"outlinewidth\": 0, \"ticks\": \"\"}}, \"type\": \"scatterpolargl\"}], \"scatterternary\": [{\"marker\": {\"colorbar\": {\"outlinewidth\": 0, \"ticks\": \"\"}}, \"type\": \"scatterternary\"}], \"surface\": [{\"colorbar\": {\"outlinewidth\": 0, \"ticks\": \"\"}, \"colorscale\": [[0.0, \"#0d0887\"], [0.1111111111111111, \"#46039f\"], [0.2222222222222222, \"#7201a8\"], [0.3333333333333333, \"#9c179e\"], [0.4444444444444444, \"#bd3786\"], [0.5555555555555556, \"#d8576b\"], [0.6666666666666666, \"#ed7953\"], [0.7777777777777778, \"#fb9f3a\"], [0.8888888888888888, \"#fdca26\"], [1.0, \"#f0f921\"]], \"type\": \"surface\"}], \"table\": [{\"cells\": {\"fill\": {\"color\": \"#EBF0F8\"}, \"line\": {\"color\": \"white\"}}, \"header\": {\"fill\": {\"color\": \"#C8D4E3\"}, \"line\": {\"color\": \"white\"}}, \"type\": \"table\"}]}, \"layout\": {\"annotationdefaults\": {\"arrowcolor\": \"#2a3f5f\", \"arrowhead\": 0, \"arrowwidth\": 1}, \"coloraxis\": {\"colorbar\": {\"outlinewidth\": 0, \"ticks\": \"\"}}, \"colorscale\": {\"diverging\": [[0, \"#8e0152\"], [0.1, \"#c51b7d\"], [0.2, \"#de77ae\"], [0.3, \"#f1b6da\"], [0.4, \"#fde0ef\"], [0.5, \"#f7f7f7\"], [0.6, \"#e6f5d0\"], [0.7, \"#b8e186\"], [0.8, \"#7fbc41\"], [0.9, \"#4d9221\"], [1, \"#276419\"]], \"sequential\": [[0.0, \"#0d0887\"], [0.1111111111111111, \"#46039f\"], [0.2222222222222222, \"#7201a8\"], [0.3333333333333333, \"#9c179e\"], [0.4444444444444444, \"#bd3786\"], [0.5555555555555556, \"#d8576b\"], [0.6666666666666666, \"#ed7953\"], [0.7777777777777778, \"#fb9f3a\"], [0.8888888888888888, \"#fdca26\"], [1.0, \"#f0f921\"]], \"sequentialminus\": [[0.0, \"#0d0887\"], [0.1111111111111111, \"#46039f\"], [0.2222222222222222, \"#7201a8\"], [0.3333333333333333, \"#9c179e\"], [0.4444444444444444, \"#bd3786\"], [0.5555555555555556, \"#d8576b\"], [0.6666666666666666, \"#ed7953\"], [0.7777777777777778, \"#fb9f3a\"], [0.8888888888888888, \"#fdca26\"], [1.0, \"#f0f921\"]]}, \"colorway\": [\"#636efa\", \"#EF553B\", \"#00cc96\", \"#ab63fa\", \"#FFA15A\", \"#19d3f3\", \"#FF6692\", \"#B6E880\", \"#FF97FF\", \"#FECB52\"], \"font\": {\"color\": \"#2a3f5f\"}, \"geo\": {\"bgcolor\": \"white\", \"lakecolor\": \"white\", \"landcolor\": \"#E5ECF6\", \"showlakes\": true, \"showland\": true, \"subunitcolor\": \"white\"}, \"hoverlabel\": {\"align\": \"left\"}, \"hovermode\": \"closest\", \"mapbox\": {\"style\": \"light\"}, \"paper_bgcolor\": \"white\", \"plot_bgcolor\": \"#E5ECF6\", \"polar\": {\"angularaxis\": {\"gridcolor\": \"white\", \"linecolor\": \"white\", \"ticks\": \"\"}, \"bgcolor\": \"#E5ECF6\", \"radialaxis\": {\"gridcolor\": \"white\", \"linecolor\": \"white\", \"ticks\": \"\"}}, \"scene\": {\"xaxis\": {\"backgroundcolor\": \"#E5ECF6\", \"gridcolor\": \"white\", \"gridwidth\": 2, \"linecolor\": \"white\", \"showbackground\": true, \"ticks\": \"\", \"zerolinecolor\": \"white\"}, \"yaxis\": {\"backgroundcolor\": \"#E5ECF6\", \"gridcolor\": \"white\", \"gridwidth\": 2, \"linecolor\": \"white\", \"showbackground\": true, \"ticks\": \"\", \"zerolinecolor\": \"white\"}, \"zaxis\": {\"backgroundcolor\": \"#E5ECF6\", \"gridcolor\": \"white\", \"gridwidth\": 2, \"linecolor\": \"white\", \"showbackground\": true, \"ticks\": \"\", \"zerolinecolor\": \"white\"}}, \"shapedefaults\": {\"line\": {\"color\": \"#2a3f5f\"}}, \"ternary\": {\"aaxis\": {\"gridcolor\": \"white\", \"linecolor\": \"white\", \"ticks\": \"\"}, \"baxis\": {\"gridcolor\": \"white\", \"linecolor\": \"white\", \"ticks\": \"\"}, \"bgcolor\": \"#E5ECF6\", \"caxis\": {\"gridcolor\": \"white\", \"linecolor\": \"white\", \"ticks\": \"\"}}, \"title\": {\"x\": 0.05}, \"xaxis\": {\"automargin\": true, \"gridcolor\": \"white\", \"linecolor\": \"white\", \"ticks\": \"\", \"title\": {\"standoff\": 15}, \"zerolinecolor\": \"white\", \"zerolinewidth\": 2}, \"yaxis\": {\"automargin\": true, \"gridcolor\": \"white\", \"linecolor\": \"white\", \"ticks\": \"\", \"title\": {\"standoff\": 15}, \"zerolinecolor\": \"white\", \"zerolinewidth\": 2}}}, \"updatemenus\": [{\"buttons\": [{\"args\": [null, {\"frame\": {\"duration\": 2000, \"redraw\": true}, \"fromcurrent\": true, \"mode\": \"immediate\", \"transition\": {\"duration\": 500, \"easing\": \"linear\"}}], \"label\": \"&#9654;\", \"method\": \"animate\"}, {\"args\": [[null], {\"frame\": {\"duration\": 0, \"redraw\": true}, \"fromcurrent\": true, \"mode\": \"immediate\", \"transition\": {\"duration\": 0, \"easing\": \"linear\"}}], \"label\": \"&#9724;\", \"method\": \"animate\"}], \"direction\": \"left\", \"pad\": {\"r\": 10, \"t\": 70}, \"showactive\": false, \"type\": \"buttons\", \"x\": 0.1, \"xanchor\": \"right\", \"y\": 0, \"yanchor\": \"top\"}], \"xaxis\": {\"anchor\": \"y\", \"domain\": [0.0, 1.0], \"range\": [0, 600], \"title\": {\"text\": \"Population\"}}, \"yaxis\": {\"anchor\": \"x\", \"categoryarray\": [\"Uttarakhand\", \"Uttar Pradesh\", \"Tamil Nadu\", \"Sunderbans\", \"Rajasthan\", \"Odisha\", \"Northern West Bengal\", \"Mizoram\", \"Maharashtra\", \"Madhya Pradesh\", \"Kerala\", \"Karnataka\", \"Jharkhand\", \"Goa\", \"Chattisgarh\", \"Bihar\", \"Assam\", \"Arunachal Pradesh\", \"Andhra Pradesh\"], \"categoryorder\": \"total ascending\", \"domain\": [0.0, 1.0], \"title\": {\"text\": \"States\"}}},                        {\"responsive\": true}                    ).then(function(){\n",
       "                            Plotly.addFrames('c147e2dc-da7f-4744-a33f-31b49412965e', [{\"data\": [{\"alignmentgroup\": \"True\", \"customdata\": [[\"Andhra Pradesh\", 95.0]], \"hovertemplate\": \"States=%{customdata[0]}<br>Year=2006<br>Population=%{customdata[1]}<extra></extra>\", \"legendgroup\": \"Andhra Pradesh\", \"marker\": {\"color\": \"rgb(55,126,184)\"}, \"name\": \"Andhra Pradesh\", \"offsetgroup\": \"Andhra Pradesh\", \"orientation\": \"h\", \"showlegend\": true, \"text\": [95.0], \"textposition\": \"auto\", \"x\": [95.0], \"xaxis\": \"x\", \"y\": [\"Andhra Pradesh\"], \"yaxis\": \"y\", \"type\": \"bar\"}, {\"alignmentgroup\": \"True\", \"customdata\": [[\"Arunachal Pradesh\", 14.0]], \"hovertemplate\": \"States=%{customdata[0]}<br>Year=2006<br>Population=%{customdata[1]}<extra></extra>\", \"legendgroup\": \"Arunachal Pradesh\", \"marker\": {\"color\": \"rgb(231,41,138)\"}, \"name\": \"Arunachal Pradesh\", \"offsetgroup\": \"Arunachal Pradesh\", \"orientation\": \"h\", \"showlegend\": true, \"text\": [14.0], \"textposition\": \"auto\", \"x\": [14.0], \"xaxis\": \"x\", \"y\": [\"Arunachal Pradesh\"], \"yaxis\": \"y\", \"type\": \"bar\"}, {\"alignmentgroup\": \"True\", \"customdata\": [[\"Assam\", 70.0]], \"hovertemplate\": \"States=%{customdata[0]}<br>Year=2006<br>Population=%{customdata[1]}<extra></extra>\", \"legendgroup\": \"Assam\", \"marker\": {\"color\": \"rgb(231,138,195)\"}, \"name\": \"Assam\", \"offsetgroup\": \"Assam\", \"orientation\": \"h\", \"showlegend\": true, \"text\": [70.0], \"textposition\": \"auto\", \"x\": [70.0], \"xaxis\": \"x\", \"y\": [\"Assam\"], \"yaxis\": \"y\", \"type\": \"bar\"}, {\"alignmentgroup\": \"True\", \"customdata\": [[\"Bihar\", 10.0]], \"hovertemplate\": \"States=%{customdata[0]}<br>Year=2006<br>Population=%{customdata[1]}<extra></extra>\", \"legendgroup\": \"Bihar\", \"marker\": {\"color\": \"#F58518\"}, \"name\": \"Bihar\", \"offsetgroup\": \"Bihar\", \"orientation\": \"h\", \"showlegend\": true, \"text\": [10.0], \"textposition\": \"auto\", \"x\": [10.0], \"xaxis\": \"x\", \"y\": [\"Bihar\"], \"yaxis\": \"y\", \"type\": \"bar\"}, {\"alignmentgroup\": \"True\", \"customdata\": [[\"Chattisgarh\", 26.0]], \"hovertemplate\": \"States=%{customdata[0]}<br>Year=2006<br>Population=%{customdata[1]}<extra></extra>\", \"legendgroup\": \"Chattisgarh\", \"marker\": {\"color\": \"rgb(179,205,227)\"}, \"name\": \"Chattisgarh\", \"offsetgroup\": \"Chattisgarh\", \"orientation\": \"h\", \"showlegend\": true, \"text\": [26.0], \"textposition\": \"auto\", \"x\": [26.0], \"xaxis\": \"x\", \"y\": [\"Chattisgarh\"], \"yaxis\": \"y\", \"type\": \"bar\"}, {\"alignmentgroup\": \"True\", \"customdata\": [[\"Goa\", null]], \"hovertemplate\": \"States=%{customdata[0]}<br>Year=2006<br>Population=%{customdata[1]}<extra></extra>\", \"legendgroup\": \"Goa\", \"marker\": {\"color\": \"rgb(27,158,119)\"}, \"name\": \"Goa\", \"offsetgroup\": \"Goa\", \"orientation\": \"h\", \"showlegend\": true, \"text\": [null], \"textposition\": \"auto\", \"x\": [null], \"xaxis\": \"x\", \"y\": [\"Goa\"], \"yaxis\": \"y\", \"type\": \"bar\"}, {\"alignmentgroup\": \"True\", \"customdata\": [[\"Jharkhand\", null]], \"hovertemplate\": \"States=%{customdata[0]}<br>Year=2006<br>Population=%{customdata[1]}<extra></extra>\", \"legendgroup\": \"Jharkhand\", \"marker\": {\"color\": \"rgb(128,177,211)\"}, \"name\": \"Jharkhand\", \"offsetgroup\": \"Jharkhand\", \"orientation\": \"h\", \"showlegend\": true, \"text\": [null], \"textposition\": \"auto\", \"x\": [null], \"xaxis\": \"x\", \"y\": [\"Jharkhand\"], \"yaxis\": \"y\", \"type\": \"bar\"}, {\"alignmentgroup\": \"True\", \"customdata\": [[\"Karnataka\", 290.0]], \"hovertemplate\": \"States=%{customdata[0]}<br>Year=2006<br>Population=%{customdata[1]}<extra></extra>\", \"legendgroup\": \"Karnataka\", \"marker\": {\"color\": \"rgb(179,222,105)\"}, \"name\": \"Karnataka\", \"offsetgroup\": \"Karnataka\", \"orientation\": \"h\", \"showlegend\": true, \"text\": [290.0], \"textposition\": \"auto\", \"x\": [290.0], \"xaxis\": \"x\", \"y\": [\"Karnataka\"], \"yaxis\": \"y\", \"type\": \"bar\"}, {\"alignmentgroup\": \"True\", \"customdata\": [[\"Kerala\", 46.0]], \"hovertemplate\": \"States=%{customdata[0]}<br>Year=2006<br>Population=%{customdata[1]}<extra></extra>\", \"legendgroup\": \"Kerala\", \"marker\": {\"color\": \"rgb(102,166,30)\"}, \"name\": \"Kerala\", \"offsetgroup\": \"Kerala\", \"orientation\": \"h\", \"showlegend\": true, \"text\": [46.0], \"textposition\": \"auto\", \"x\": [46.0], \"xaxis\": \"x\", \"y\": [\"Kerala\"], \"yaxis\": \"y\", \"type\": \"bar\"}, {\"alignmentgroup\": \"True\", \"customdata\": [[\"Madhya Pradesh\", 300.0]], \"hovertemplate\": \"States=%{customdata[0]}<br>Year=2006<br>Population=%{customdata[1]}<extra></extra>\", \"legendgroup\": \"Madhya Pradesh\", \"marker\": {\"color\": \"#19D3F3\"}, \"name\": \"Madhya Pradesh\", \"offsetgroup\": \"Madhya Pradesh\", \"orientation\": \"h\", \"showlegend\": true, \"text\": [300.0], \"textposition\": \"auto\", \"x\": [300.0], \"xaxis\": \"x\", \"y\": [\"Madhya Pradesh\"], \"yaxis\": \"y\", \"type\": \"bar\"}, {\"alignmentgroup\": \"True\", \"customdata\": [[\"Maharashtra\", 103.0]], \"hovertemplate\": \"States=%{customdata[0]}<br>Year=2006<br>Population=%{customdata[1]}<extra></extra>\", \"legendgroup\": \"Maharashtra\", \"marker\": {\"color\": \"#2E91E5\"}, \"name\": \"Maharashtra\", \"offsetgroup\": \"Maharashtra\", \"orientation\": \"h\", \"showlegend\": true, \"text\": [103.0], \"textposition\": \"auto\", \"x\": [103.0], \"xaxis\": \"x\", \"y\": [\"Maharashtra\"], \"yaxis\": \"y\", \"type\": \"bar\"}, {\"alignmentgroup\": \"True\", \"customdata\": [[\"Mizoram\", 6.0]], \"hovertemplate\": \"States=%{customdata[0]}<br>Year=2006<br>Population=%{customdata[1]}<extra></extra>\", \"legendgroup\": \"Mizoram\", \"marker\": {\"color\": \"rgb(254,136,177)\"}, \"name\": \"Mizoram\", \"offsetgroup\": \"Mizoram\", \"orientation\": \"h\", \"showlegend\": true, \"text\": [6.0], \"textposition\": \"auto\", \"x\": [6.0], \"xaxis\": \"x\", \"y\": [\"Mizoram\"], \"yaxis\": \"y\", \"type\": \"bar\"}, {\"alignmentgroup\": \"True\", \"customdata\": [[\"Northern West Bengal\", 10.0]], \"hovertemplate\": \"States=%{customdata[0]}<br>Year=2006<br>Population=%{customdata[1]}<extra></extra>\", \"legendgroup\": \"Northern West Bengal\", \"marker\": {\"color\": \"#FF97FF\"}, \"name\": \"Northern West Bengal\", \"offsetgroup\": \"Northern West Bengal\", \"orientation\": \"h\", \"showlegend\": true, \"text\": [10.0], \"textposition\": \"auto\", \"x\": [10.0], \"xaxis\": \"x\", \"y\": [\"Northern West Bengal\"], \"yaxis\": \"y\", \"type\": \"bar\"}, {\"alignmentgroup\": \"True\", \"customdata\": [[\"Odisha\", 45.0]], \"hovertemplate\": \"States=%{customdata[0]}<br>Year=2006<br>Population=%{customdata[1]}<extra></extra>\", \"legendgroup\": \"Odisha\", \"marker\": {\"color\": \"#3366CC\"}, \"name\": \"Odisha\", \"offsetgroup\": \"Odisha\", \"orientation\": \"h\", \"showlegend\": true, \"text\": [45.0], \"textposition\": \"auto\", \"x\": [45.0], \"xaxis\": \"x\", \"y\": [\"Odisha\"], \"yaxis\": \"y\", \"type\": \"bar\"}, {\"alignmentgroup\": \"True\", \"customdata\": [[\"Rajasthan\", 32.0]], \"hovertemplate\": \"States=%{customdata[0]}<br>Year=2006<br>Population=%{customdata[1]}<extra></extra>\", \"legendgroup\": \"Rajasthan\", \"marker\": {\"color\": \"#17BEFC\"}, \"name\": \"Rajasthan\", \"offsetgroup\": \"Rajasthan\", \"orientation\": \"h\", \"showlegend\": true, \"text\": [32.0], \"textposition\": \"auto\", \"x\": [32.0], \"xaxis\": \"x\", \"y\": [\"Rajasthan\"], \"yaxis\": \"y\", \"type\": \"bar\"}, {\"alignmentgroup\": \"True\", \"customdata\": [[\"Sunderbans\", null]], \"hovertemplate\": \"States=%{customdata[0]}<br>Year=2006<br>Population=%{customdata[1]}<extra></extra>\", \"legendgroup\": \"Sunderbans\", \"marker\": {\"color\": \"rgb(102,17,0)\"}, \"name\": \"Sunderbans\", \"offsetgroup\": \"Sunderbans\", \"orientation\": \"h\", \"showlegend\": true, \"text\": [null], \"textposition\": \"auto\", \"x\": [null], \"xaxis\": \"x\", \"y\": [\"Sunderbans\"], \"yaxis\": \"y\", \"type\": \"bar\"}, {\"alignmentgroup\": \"True\", \"customdata\": [[\"Tamil Nadu\", 76.0]], \"hovertemplate\": \"States=%{customdata[0]}<br>Year=2006<br>Population=%{customdata[1]}<extra></extra>\", \"legendgroup\": \"Tamil Nadu\", \"marker\": {\"color\": \"#00CC96\"}, \"name\": \"Tamil Nadu\", \"offsetgroup\": \"Tamil Nadu\", \"orientation\": \"h\", \"showlegend\": true, \"text\": [76.0], \"textposition\": \"auto\", \"x\": [76.0], \"xaxis\": \"x\", \"y\": [\"Tamil Nadu\"], \"yaxis\": \"y\", \"type\": \"bar\"}, {\"alignmentgroup\": \"True\", \"customdata\": [[\"Uttar Pradesh\", 109.0]], \"hovertemplate\": \"States=%{customdata[0]}<br>Year=2006<br>Population=%{customdata[1]}<extra></extra>\", \"legendgroup\": \"Uttar Pradesh\", \"marker\": {\"color\": \"#FD3216\"}, \"name\": \"Uttar Pradesh\", \"offsetgroup\": \"Uttar Pradesh\", \"orientation\": \"h\", \"showlegend\": true, \"text\": [109.0], \"textposition\": \"auto\", \"x\": [109.0], \"xaxis\": \"x\", \"y\": [\"Uttar Pradesh\"], \"yaxis\": \"y\", \"type\": \"bar\"}, {\"alignmentgroup\": \"True\", \"customdata\": [[\"Uttarakhand\", 178.0]], \"hovertemplate\": \"States=%{customdata[0]}<br>Year=2006<br>Population=%{customdata[1]}<extra></extra>\", \"legendgroup\": \"Uttarakhand\", \"marker\": {\"color\": \"rgb(253,180,98)\"}, \"name\": \"Uttarakhand\", \"offsetgroup\": \"Uttarakhand\", \"orientation\": \"h\", \"showlegend\": true, \"text\": [178.0], \"textposition\": \"auto\", \"x\": [178.0], \"xaxis\": \"x\", \"y\": [\"Uttarakhand\"], \"yaxis\": \"y\", \"type\": \"bar\"}], \"name\": \"2006\"}, {\"data\": [{\"alignmentgroup\": \"True\", \"customdata\": [[\"Andhra Pradesh\", 72.0]], \"hovertemplate\": \"States=%{customdata[0]}<br>Year=2010<br>Population=%{customdata[1]}<extra></extra>\", \"legendgroup\": \"Andhra Pradesh\", \"marker\": {\"color\": \"rgb(55,126,184)\"}, \"name\": \"Andhra Pradesh\", \"offsetgroup\": \"Andhra Pradesh\", \"orientation\": \"h\", \"showlegend\": true, \"text\": [72.0], \"textposition\": \"auto\", \"x\": [72.0], \"xaxis\": \"x\", \"y\": [\"Andhra Pradesh\"], \"yaxis\": \"y\", \"type\": \"bar\"}, {\"alignmentgroup\": \"True\", \"customdata\": [[\"Arunachal Pradesh\", null]], \"hovertemplate\": \"States=%{customdata[0]}<br>Year=2010<br>Population=%{customdata[1]}<extra></extra>\", \"legendgroup\": \"Arunachal Pradesh\", \"marker\": {\"color\": \"rgb(231,41,138)\"}, \"name\": \"Arunachal Pradesh\", \"offsetgroup\": \"Arunachal Pradesh\", \"orientation\": \"h\", \"showlegend\": true, \"text\": [null], \"textposition\": \"auto\", \"x\": [null], \"xaxis\": \"x\", \"y\": [\"Arunachal Pradesh\"], \"yaxis\": \"y\", \"type\": \"bar\"}, {\"alignmentgroup\": \"True\", \"customdata\": [[\"Assam\", 143.0]], \"hovertemplate\": \"States=%{customdata[0]}<br>Year=2010<br>Population=%{customdata[1]}<extra></extra>\", \"legendgroup\": \"Assam\", \"marker\": {\"color\": \"rgb(231,138,195)\"}, \"name\": \"Assam\", \"offsetgroup\": \"Assam\", \"orientation\": \"h\", \"showlegend\": true, \"text\": [143.0], \"textposition\": \"auto\", \"x\": [143.0], \"xaxis\": \"x\", \"y\": [\"Assam\"], \"yaxis\": \"y\", \"type\": \"bar\"}, {\"alignmentgroup\": \"True\", \"customdata\": [[\"Bihar\", 8.0]], \"hovertemplate\": \"States=%{customdata[0]}<br>Year=2010<br>Population=%{customdata[1]}<extra></extra>\", \"legendgroup\": \"Bihar\", \"marker\": {\"color\": \"#F58518\"}, \"name\": \"Bihar\", \"offsetgroup\": \"Bihar\", \"orientation\": \"h\", \"showlegend\": true, \"text\": [8.0], \"textposition\": \"auto\", \"x\": [8.0], \"xaxis\": \"x\", \"y\": [\"Bihar\"], \"yaxis\": \"y\", \"type\": \"bar\"}, {\"alignmentgroup\": \"True\", \"customdata\": [[\"Chattisgarh\", 26.0]], \"hovertemplate\": \"States=%{customdata[0]}<br>Year=2010<br>Population=%{customdata[1]}<extra></extra>\", \"legendgroup\": \"Chattisgarh\", \"marker\": {\"color\": \"rgb(179,205,227)\"}, \"name\": \"Chattisgarh\", \"offsetgroup\": \"Chattisgarh\", \"orientation\": \"h\", \"showlegend\": true, \"text\": [26.0], \"textposition\": \"auto\", \"x\": [26.0], \"xaxis\": \"x\", \"y\": [\"Chattisgarh\"], \"yaxis\": \"y\", \"type\": \"bar\"}, {\"alignmentgroup\": \"True\", \"customdata\": [[\"Goa\", null]], \"hovertemplate\": \"States=%{customdata[0]}<br>Year=2010<br>Population=%{customdata[1]}<extra></extra>\", \"legendgroup\": \"Goa\", \"marker\": {\"color\": \"rgb(27,158,119)\"}, \"name\": \"Goa\", \"offsetgroup\": \"Goa\", \"orientation\": \"h\", \"showlegend\": true, \"text\": [null], \"textposition\": \"auto\", \"x\": [null], \"xaxis\": \"x\", \"y\": [\"Goa\"], \"yaxis\": \"y\", \"type\": \"bar\"}, {\"alignmentgroup\": \"True\", \"customdata\": [[\"Jharkhand\", 10.0]], \"hovertemplate\": \"States=%{customdata[0]}<br>Year=2010<br>Population=%{customdata[1]}<extra></extra>\", \"legendgroup\": \"Jharkhand\", \"marker\": {\"color\": \"rgb(128,177,211)\"}, \"name\": \"Jharkhand\", \"offsetgroup\": \"Jharkhand\", \"orientation\": \"h\", \"showlegend\": true, \"text\": [10.0], \"textposition\": \"auto\", \"x\": [10.0], \"xaxis\": \"x\", \"y\": [\"Jharkhand\"], \"yaxis\": \"y\", \"type\": \"bar\"}, {\"alignmentgroup\": \"True\", \"customdata\": [[\"Karnataka\", 300.0]], \"hovertemplate\": \"States=%{customdata[0]}<br>Year=2010<br>Population=%{customdata[1]}<extra></extra>\", \"legendgroup\": \"Karnataka\", \"marker\": {\"color\": \"rgb(179,222,105)\"}, \"name\": \"Karnataka\", \"offsetgroup\": \"Karnataka\", \"orientation\": \"h\", \"showlegend\": true, \"text\": [300.0], \"textposition\": \"auto\", \"x\": [300.0], \"xaxis\": \"x\", \"y\": [\"Karnataka\"], \"yaxis\": \"y\", \"type\": \"bar\"}, {\"alignmentgroup\": \"True\", \"customdata\": [[\"Kerala\", 71.0]], \"hovertemplate\": \"States=%{customdata[0]}<br>Year=2010<br>Population=%{customdata[1]}<extra></extra>\", \"legendgroup\": \"Kerala\", \"marker\": {\"color\": \"rgb(102,166,30)\"}, \"name\": \"Kerala\", \"offsetgroup\": \"Kerala\", \"orientation\": \"h\", \"showlegend\": true, \"text\": [71.0], \"textposition\": \"auto\", \"x\": [71.0], \"xaxis\": \"x\", \"y\": [\"Kerala\"], \"yaxis\": \"y\", \"type\": \"bar\"}, {\"alignmentgroup\": \"True\", \"customdata\": [[\"Madhya Pradesh\", 257.0]], \"hovertemplate\": \"States=%{customdata[0]}<br>Year=2010<br>Population=%{customdata[1]}<extra></extra>\", \"legendgroup\": \"Madhya Pradesh\", \"marker\": {\"color\": \"#19D3F3\"}, \"name\": \"Madhya Pradesh\", \"offsetgroup\": \"Madhya Pradesh\", \"orientation\": \"h\", \"showlegend\": true, \"text\": [257.0], \"textposition\": \"auto\", \"x\": [257.0], \"xaxis\": \"x\", \"y\": [\"Madhya Pradesh\"], \"yaxis\": \"y\", \"type\": \"bar\"}, {\"alignmentgroup\": \"True\", \"customdata\": [[\"Maharashtra\", 169.0]], \"hovertemplate\": \"States=%{customdata[0]}<br>Year=2010<br>Population=%{customdata[1]}<extra></extra>\", \"legendgroup\": \"Maharashtra\", \"marker\": {\"color\": \"#2E91E5\"}, \"name\": \"Maharashtra\", \"offsetgroup\": \"Maharashtra\", \"orientation\": \"h\", \"showlegend\": true, \"text\": [169.0], \"textposition\": \"auto\", \"x\": [169.0], \"xaxis\": \"x\", \"y\": [\"Maharashtra\"], \"yaxis\": \"y\", \"type\": \"bar\"}, {\"alignmentgroup\": \"True\", \"customdata\": [[\"Mizoram\", 5.0]], \"hovertemplate\": \"States=%{customdata[0]}<br>Year=2010<br>Population=%{customdata[1]}<extra></extra>\", \"legendgroup\": \"Mizoram\", \"marker\": {\"color\": \"rgb(254,136,177)\"}, \"name\": \"Mizoram\", \"offsetgroup\": \"Mizoram\", \"orientation\": \"h\", \"showlegend\": true, \"text\": [5.0], \"textposition\": \"auto\", \"x\": [5.0], \"xaxis\": \"x\", \"y\": [\"Mizoram\"], \"yaxis\": \"y\", \"type\": \"bar\"}, {\"alignmentgroup\": \"True\", \"customdata\": [[\"Northern West Bengal\", null]], \"hovertemplate\": \"States=%{customdata[0]}<br>Year=2010<br>Population=%{customdata[1]}<extra></extra>\", \"legendgroup\": \"Northern West Bengal\", \"marker\": {\"color\": \"#FF97FF\"}, \"name\": \"Northern West Bengal\", \"offsetgroup\": \"Northern West Bengal\", \"orientation\": \"h\", \"showlegend\": true, \"text\": [null], \"textposition\": \"auto\", \"x\": [null], \"xaxis\": \"x\", \"y\": [\"Northern West Bengal\"], \"yaxis\": \"y\", \"type\": \"bar\"}, {\"alignmentgroup\": \"True\", \"customdata\": [[\"Odisha\", 32.0]], \"hovertemplate\": \"States=%{customdata[0]}<br>Year=2010<br>Population=%{customdata[1]}<extra></extra>\", \"legendgroup\": \"Odisha\", \"marker\": {\"color\": \"#3366CC\"}, \"name\": \"Odisha\", \"offsetgroup\": \"Odisha\", \"orientation\": \"h\", \"showlegend\": true, \"text\": [32.0], \"textposition\": \"auto\", \"x\": [32.0], \"xaxis\": \"x\", \"y\": [\"Odisha\"], \"yaxis\": \"y\", \"type\": \"bar\"}, {\"alignmentgroup\": \"True\", \"customdata\": [[\"Rajasthan\", 36.0]], \"hovertemplate\": \"States=%{customdata[0]}<br>Year=2010<br>Population=%{customdata[1]}<extra></extra>\", \"legendgroup\": \"Rajasthan\", \"marker\": {\"color\": \"#17BEFC\"}, \"name\": \"Rajasthan\", \"offsetgroup\": \"Rajasthan\", \"orientation\": \"h\", \"showlegend\": true, \"text\": [36.0], \"textposition\": \"auto\", \"x\": [36.0], \"xaxis\": \"x\", \"y\": [\"Rajasthan\"], \"yaxis\": \"y\", \"type\": \"bar\"}, {\"alignmentgroup\": \"True\", \"customdata\": [[\"Sunderbans\", 70.0]], \"hovertemplate\": \"States=%{customdata[0]}<br>Year=2010<br>Population=%{customdata[1]}<extra></extra>\", \"legendgroup\": \"Sunderbans\", \"marker\": {\"color\": \"rgb(102,17,0)\"}, \"name\": \"Sunderbans\", \"offsetgroup\": \"Sunderbans\", \"orientation\": \"h\", \"showlegend\": true, \"text\": [70.0], \"textposition\": \"auto\", \"x\": [70.0], \"xaxis\": \"x\", \"y\": [\"Sunderbans\"], \"yaxis\": \"y\", \"type\": \"bar\"}, {\"alignmentgroup\": \"True\", \"customdata\": [[\"Tamil Nadu\", 163.0]], \"hovertemplate\": \"States=%{customdata[0]}<br>Year=2010<br>Population=%{customdata[1]}<extra></extra>\", \"legendgroup\": \"Tamil Nadu\", \"marker\": {\"color\": \"#00CC96\"}, \"name\": \"Tamil Nadu\", \"offsetgroup\": \"Tamil Nadu\", \"orientation\": \"h\", \"showlegend\": true, \"text\": [163.0], \"textposition\": \"auto\", \"x\": [163.0], \"xaxis\": \"x\", \"y\": [\"Tamil Nadu\"], \"yaxis\": \"y\", \"type\": \"bar\"}, {\"alignmentgroup\": \"True\", \"customdata\": [[\"Uttar Pradesh\", 118.0]], \"hovertemplate\": \"States=%{customdata[0]}<br>Year=2010<br>Population=%{customdata[1]}<extra></extra>\", \"legendgroup\": \"Uttar Pradesh\", \"marker\": {\"color\": \"#FD3216\"}, \"name\": \"Uttar Pradesh\", \"offsetgroup\": \"Uttar Pradesh\", \"orientation\": \"h\", \"showlegend\": true, \"text\": [118.0], \"textposition\": \"auto\", \"x\": [118.0], \"xaxis\": \"x\", \"y\": [\"Uttar Pradesh\"], \"yaxis\": \"y\", \"type\": \"bar\"}, {\"alignmentgroup\": \"True\", \"customdata\": [[\"Uttarakhand\", 227.0]], \"hovertemplate\": \"States=%{customdata[0]}<br>Year=2010<br>Population=%{customdata[1]}<extra></extra>\", \"legendgroup\": \"Uttarakhand\", \"marker\": {\"color\": \"rgb(253,180,98)\"}, \"name\": \"Uttarakhand\", \"offsetgroup\": \"Uttarakhand\", \"orientation\": \"h\", \"showlegend\": true, \"text\": [227.0], \"textposition\": \"auto\", \"x\": [227.0], \"xaxis\": \"x\", \"y\": [\"Uttarakhand\"], \"yaxis\": \"y\", \"type\": \"bar\"}], \"name\": \"2010\"}, {\"data\": [{\"alignmentgroup\": \"True\", \"customdata\": [[\"Andhra Pradesh\", 68.0]], \"hovertemplate\": \"States=%{customdata[0]}<br>Year=2014<br>Population=%{customdata[1]}<extra></extra>\", \"legendgroup\": \"Andhra Pradesh\", \"marker\": {\"color\": \"rgb(55,126,184)\"}, \"name\": \"Andhra Pradesh\", \"offsetgroup\": \"Andhra Pradesh\", \"orientation\": \"h\", \"showlegend\": true, \"text\": [68.0], \"textposition\": \"auto\", \"x\": [68.0], \"xaxis\": \"x\", \"y\": [\"Andhra Pradesh\"], \"yaxis\": \"y\", \"type\": \"bar\"}, {\"alignmentgroup\": \"True\", \"customdata\": [[\"Arunachal Pradesh\", 28.0]], \"hovertemplate\": \"States=%{customdata[0]}<br>Year=2014<br>Population=%{customdata[1]}<extra></extra>\", \"legendgroup\": \"Arunachal Pradesh\", \"marker\": {\"color\": \"rgb(231,41,138)\"}, \"name\": \"Arunachal Pradesh\", \"offsetgroup\": \"Arunachal Pradesh\", \"orientation\": \"h\", \"showlegend\": true, \"text\": [28.0], \"textposition\": \"auto\", \"x\": [28.0], \"xaxis\": \"x\", \"y\": [\"Arunachal Pradesh\"], \"yaxis\": \"y\", \"type\": \"bar\"}, {\"alignmentgroup\": \"True\", \"customdata\": [[\"Assam\", 167.0]], \"hovertemplate\": \"States=%{customdata[0]}<br>Year=2014<br>Population=%{customdata[1]}<extra></extra>\", \"legendgroup\": \"Assam\", \"marker\": {\"color\": \"rgb(231,138,195)\"}, \"name\": \"Assam\", \"offsetgroup\": \"Assam\", \"orientation\": \"h\", \"showlegend\": true, \"text\": [167.0], \"textposition\": \"auto\", \"x\": [167.0], \"xaxis\": \"x\", \"y\": [\"Assam\"], \"yaxis\": \"y\", \"type\": \"bar\"}, {\"alignmentgroup\": \"True\", \"customdata\": [[\"Bihar\", 28.0]], \"hovertemplate\": \"States=%{customdata[0]}<br>Year=2014<br>Population=%{customdata[1]}<extra></extra>\", \"legendgroup\": \"Bihar\", \"marker\": {\"color\": \"#F58518\"}, \"name\": \"Bihar\", \"offsetgroup\": \"Bihar\", \"orientation\": \"h\", \"showlegend\": true, \"text\": [28.0], \"textposition\": \"auto\", \"x\": [28.0], \"xaxis\": \"x\", \"y\": [\"Bihar\"], \"yaxis\": \"y\", \"type\": \"bar\"}, {\"alignmentgroup\": \"True\", \"customdata\": [[\"Chattisgarh\", 46.0]], \"hovertemplate\": \"States=%{customdata[0]}<br>Year=2014<br>Population=%{customdata[1]}<extra></extra>\", \"legendgroup\": \"Chattisgarh\", \"marker\": {\"color\": \"rgb(179,205,227)\"}, \"name\": \"Chattisgarh\", \"offsetgroup\": \"Chattisgarh\", \"orientation\": \"h\", \"showlegend\": true, \"text\": [46.0], \"textposition\": \"auto\", \"x\": [46.0], \"xaxis\": \"x\", \"y\": [\"Chattisgarh\"], \"yaxis\": \"y\", \"type\": \"bar\"}, {\"alignmentgroup\": \"True\", \"customdata\": [[\"Goa\", 5.0]], \"hovertemplate\": \"States=%{customdata[0]}<br>Year=2014<br>Population=%{customdata[1]}<extra></extra>\", \"legendgroup\": \"Goa\", \"marker\": {\"color\": \"rgb(27,158,119)\"}, \"name\": \"Goa\", \"offsetgroup\": \"Goa\", \"orientation\": \"h\", \"showlegend\": true, \"text\": [5.0], \"textposition\": \"auto\", \"x\": [5.0], \"xaxis\": \"x\", \"y\": [\"Goa\"], \"yaxis\": \"y\", \"type\": \"bar\"}, {\"alignmentgroup\": \"True\", \"customdata\": [[\"Jharkhand\", 3.0]], \"hovertemplate\": \"States=%{customdata[0]}<br>Year=2014<br>Population=%{customdata[1]}<extra></extra>\", \"legendgroup\": \"Jharkhand\", \"marker\": {\"color\": \"rgb(128,177,211)\"}, \"name\": \"Jharkhand\", \"offsetgroup\": \"Jharkhand\", \"orientation\": \"h\", \"showlegend\": true, \"text\": [3.0], \"textposition\": \"auto\", \"x\": [3.0], \"xaxis\": \"x\", \"y\": [\"Jharkhand\"], \"yaxis\": \"y\", \"type\": \"bar\"}, {\"alignmentgroup\": \"True\", \"customdata\": [[\"Karnataka\", 406.0]], \"hovertemplate\": \"States=%{customdata[0]}<br>Year=2014<br>Population=%{customdata[1]}<extra></extra>\", \"legendgroup\": \"Karnataka\", \"marker\": {\"color\": \"rgb(179,222,105)\"}, \"name\": \"Karnataka\", \"offsetgroup\": \"Karnataka\", \"orientation\": \"h\", \"showlegend\": true, \"text\": [406.0], \"textposition\": \"auto\", \"x\": [406.0], \"xaxis\": \"x\", \"y\": [\"Karnataka\"], \"yaxis\": \"y\", \"type\": \"bar\"}, {\"alignmentgroup\": \"True\", \"customdata\": [[\"Kerala\", 136.0]], \"hovertemplate\": \"States=%{customdata[0]}<br>Year=2014<br>Population=%{customdata[1]}<extra></extra>\", \"legendgroup\": \"Kerala\", \"marker\": {\"color\": \"rgb(102,166,30)\"}, \"name\": \"Kerala\", \"offsetgroup\": \"Kerala\", \"orientation\": \"h\", \"showlegend\": true, \"text\": [136.0], \"textposition\": \"auto\", \"x\": [136.0], \"xaxis\": \"x\", \"y\": [\"Kerala\"], \"yaxis\": \"y\", \"type\": \"bar\"}, {\"alignmentgroup\": \"True\", \"customdata\": [[\"Madhya Pradesh\", 308.0]], \"hovertemplate\": \"States=%{customdata[0]}<br>Year=2014<br>Population=%{customdata[1]}<extra></extra>\", \"legendgroup\": \"Madhya Pradesh\", \"marker\": {\"color\": \"#19D3F3\"}, \"name\": \"Madhya Pradesh\", \"offsetgroup\": \"Madhya Pradesh\", \"orientation\": \"h\", \"showlegend\": true, \"text\": [308.0], \"textposition\": \"auto\", \"x\": [308.0], \"xaxis\": \"x\", \"y\": [\"Madhya Pradesh\"], \"yaxis\": \"y\", \"type\": \"bar\"}, {\"alignmentgroup\": \"True\", \"customdata\": [[\"Maharashtra\", 190.0]], \"hovertemplate\": \"States=%{customdata[0]}<br>Year=2014<br>Population=%{customdata[1]}<extra></extra>\", \"legendgroup\": \"Maharashtra\", \"marker\": {\"color\": \"#2E91E5\"}, \"name\": \"Maharashtra\", \"offsetgroup\": \"Maharashtra\", \"orientation\": \"h\", \"showlegend\": true, \"text\": [190.0], \"textposition\": \"auto\", \"x\": [190.0], \"xaxis\": \"x\", \"y\": [\"Maharashtra\"], \"yaxis\": \"y\", \"type\": \"bar\"}, {\"alignmentgroup\": \"True\", \"customdata\": [[\"Mizoram\", 3.0]], \"hovertemplate\": \"States=%{customdata[0]}<br>Year=2014<br>Population=%{customdata[1]}<extra></extra>\", \"legendgroup\": \"Mizoram\", \"marker\": {\"color\": \"rgb(254,136,177)\"}, \"name\": \"Mizoram\", \"offsetgroup\": \"Mizoram\", \"orientation\": \"h\", \"showlegend\": true, \"text\": [3.0], \"textposition\": \"auto\", \"x\": [3.0], \"xaxis\": \"x\", \"y\": [\"Mizoram\"], \"yaxis\": \"y\", \"type\": \"bar\"}, {\"alignmentgroup\": \"True\", \"customdata\": [[\"Northern West Bengal\", 3.0]], \"hovertemplate\": \"States=%{customdata[0]}<br>Year=2014<br>Population=%{customdata[1]}<extra></extra>\", \"legendgroup\": \"Northern West Bengal\", \"marker\": {\"color\": \"#FF97FF\"}, \"name\": \"Northern West Bengal\", \"offsetgroup\": \"Northern West Bengal\", \"orientation\": \"h\", \"showlegend\": true, \"text\": [3.0], \"textposition\": \"auto\", \"x\": [3.0], \"xaxis\": \"x\", \"y\": [\"Northern West Bengal\"], \"yaxis\": \"y\", \"type\": \"bar\"}, {\"alignmentgroup\": \"True\", \"customdata\": [[\"Odisha\", 28.0]], \"hovertemplate\": \"States=%{customdata[0]}<br>Year=2014<br>Population=%{customdata[1]}<extra></extra>\", \"legendgroup\": \"Odisha\", \"marker\": {\"color\": \"#3366CC\"}, \"name\": \"Odisha\", \"offsetgroup\": \"Odisha\", \"orientation\": \"h\", \"showlegend\": true, \"text\": [28.0], \"textposition\": \"auto\", \"x\": [28.0], \"xaxis\": \"x\", \"y\": [\"Odisha\"], \"yaxis\": \"y\", \"type\": \"bar\"}, {\"alignmentgroup\": \"True\", \"customdata\": [[\"Rajasthan\", 45.0]], \"hovertemplate\": \"States=%{customdata[0]}<br>Year=2014<br>Population=%{customdata[1]}<extra></extra>\", \"legendgroup\": \"Rajasthan\", \"marker\": {\"color\": \"#17BEFC\"}, \"name\": \"Rajasthan\", \"offsetgroup\": \"Rajasthan\", \"orientation\": \"h\", \"showlegend\": true, \"text\": [45.0], \"textposition\": \"auto\", \"x\": [45.0], \"xaxis\": \"x\", \"y\": [\"Rajasthan\"], \"yaxis\": \"y\", \"type\": \"bar\"}, {\"alignmentgroup\": \"True\", \"customdata\": [[\"Sunderbans\", 76.0]], \"hovertemplate\": \"States=%{customdata[0]}<br>Year=2014<br>Population=%{customdata[1]}<extra></extra>\", \"legendgroup\": \"Sunderbans\", \"marker\": {\"color\": \"rgb(102,17,0)\"}, \"name\": \"Sunderbans\", \"offsetgroup\": \"Sunderbans\", \"orientation\": \"h\", \"showlegend\": true, \"text\": [76.0], \"textposition\": \"auto\", \"x\": [76.0], \"xaxis\": \"x\", \"y\": [\"Sunderbans\"], \"yaxis\": \"y\", \"type\": \"bar\"}, {\"alignmentgroup\": \"True\", \"customdata\": [[\"Tamil Nadu\", 229.0]], \"hovertemplate\": \"States=%{customdata[0]}<br>Year=2014<br>Population=%{customdata[1]}<extra></extra>\", \"legendgroup\": \"Tamil Nadu\", \"marker\": {\"color\": \"#00CC96\"}, \"name\": \"Tamil Nadu\", \"offsetgroup\": \"Tamil Nadu\", \"orientation\": \"h\", \"showlegend\": true, \"text\": [229.0], \"textposition\": \"auto\", \"x\": [229.0], \"xaxis\": \"x\", \"y\": [\"Tamil Nadu\"], \"yaxis\": \"y\", \"type\": \"bar\"}, {\"alignmentgroup\": \"True\", \"customdata\": [[\"Uttar Pradesh\", 117.0]], \"hovertemplate\": \"States=%{customdata[0]}<br>Year=2014<br>Population=%{customdata[1]}<extra></extra>\", \"legendgroup\": \"Uttar Pradesh\", \"marker\": {\"color\": \"#FD3216\"}, \"name\": \"Uttar Pradesh\", \"offsetgroup\": \"Uttar Pradesh\", \"orientation\": \"h\", \"showlegend\": true, \"text\": [117.0], \"textposition\": \"auto\", \"x\": [117.0], \"xaxis\": \"x\", \"y\": [\"Uttar Pradesh\"], \"yaxis\": \"y\", \"type\": \"bar\"}, {\"alignmentgroup\": \"True\", \"customdata\": [[\"Uttarakhand\", 340.0]], \"hovertemplate\": \"States=%{customdata[0]}<br>Year=2014<br>Population=%{customdata[1]}<extra></extra>\", \"legendgroup\": \"Uttarakhand\", \"marker\": {\"color\": \"rgb(253,180,98)\"}, \"name\": \"Uttarakhand\", \"offsetgroup\": \"Uttarakhand\", \"orientation\": \"h\", \"showlegend\": true, \"text\": [340.0], \"textposition\": \"auto\", \"x\": [340.0], \"xaxis\": \"x\", \"y\": [\"Uttarakhand\"], \"yaxis\": \"y\", \"type\": \"bar\"}], \"name\": \"2014\"}, {\"data\": [{\"alignmentgroup\": \"True\", \"customdata\": [[\"Andhra Pradesh\", 74.0]], \"hovertemplate\": \"States=%{customdata[0]}<br>Year=2018<br>Population=%{customdata[1]}<extra></extra>\", \"legendgroup\": \"Andhra Pradesh\", \"marker\": {\"color\": \"rgb(55,126,184)\"}, \"name\": \"Andhra Pradesh\", \"offsetgroup\": \"Andhra Pradesh\", \"orientation\": \"h\", \"showlegend\": true, \"text\": [74.0], \"textposition\": \"auto\", \"x\": [74.0], \"xaxis\": \"x\", \"y\": [\"Andhra Pradesh\"], \"yaxis\": \"y\", \"type\": \"bar\"}, {\"alignmentgroup\": \"True\", \"customdata\": [[\"Arunachal Pradesh\", 29.0]], \"hovertemplate\": \"States=%{customdata[0]}<br>Year=2018<br>Population=%{customdata[1]}<extra></extra>\", \"legendgroup\": \"Arunachal Pradesh\", \"marker\": {\"color\": \"rgb(231,41,138)\"}, \"name\": \"Arunachal Pradesh\", \"offsetgroup\": \"Arunachal Pradesh\", \"orientation\": \"h\", \"showlegend\": true, \"text\": [29.0], \"textposition\": \"auto\", \"x\": [29.0], \"xaxis\": \"x\", \"y\": [\"Arunachal Pradesh\"], \"yaxis\": \"y\", \"type\": \"bar\"}, {\"alignmentgroup\": \"True\", \"customdata\": [[\"Assam\", 190.0]], \"hovertemplate\": \"States=%{customdata[0]}<br>Year=2018<br>Population=%{customdata[1]}<extra></extra>\", \"legendgroup\": \"Assam\", \"marker\": {\"color\": \"rgb(231,138,195)\"}, \"name\": \"Assam\", \"offsetgroup\": \"Assam\", \"orientation\": \"h\", \"showlegend\": true, \"text\": [190.0], \"textposition\": \"auto\", \"x\": [190.0], \"xaxis\": \"x\", \"y\": [\"Assam\"], \"yaxis\": \"y\", \"type\": \"bar\"}, {\"alignmentgroup\": \"True\", \"customdata\": [[\"Bihar\", 31.0]], \"hovertemplate\": \"States=%{customdata[0]}<br>Year=2018<br>Population=%{customdata[1]}<extra></extra>\", \"legendgroup\": \"Bihar\", \"marker\": {\"color\": \"#F58518\"}, \"name\": \"Bihar\", \"offsetgroup\": \"Bihar\", \"orientation\": \"h\", \"showlegend\": true, \"text\": [31.0], \"textposition\": \"auto\", \"x\": [31.0], \"xaxis\": \"x\", \"y\": [\"Bihar\"], \"yaxis\": \"y\", \"type\": \"bar\"}, {\"alignmentgroup\": \"True\", \"customdata\": [[\"Chattisgarh\", 19.0]], \"hovertemplate\": \"States=%{customdata[0]}<br>Year=2018<br>Population=%{customdata[1]}<extra></extra>\", \"legendgroup\": \"Chattisgarh\", \"marker\": {\"color\": \"rgb(179,205,227)\"}, \"name\": \"Chattisgarh\", \"offsetgroup\": \"Chattisgarh\", \"orientation\": \"h\", \"showlegend\": true, \"text\": [19.0], \"textposition\": \"auto\", \"x\": [19.0], \"xaxis\": \"x\", \"y\": [\"Chattisgarh\"], \"yaxis\": \"y\", \"type\": \"bar\"}, {\"alignmentgroup\": \"True\", \"customdata\": [[\"Goa\", 3.0]], \"hovertemplate\": \"States=%{customdata[0]}<br>Year=2018<br>Population=%{customdata[1]}<extra></extra>\", \"legendgroup\": \"Goa\", \"marker\": {\"color\": \"rgb(27,158,119)\"}, \"name\": \"Goa\", \"offsetgroup\": \"Goa\", \"orientation\": \"h\", \"showlegend\": true, \"text\": [3.0], \"textposition\": \"auto\", \"x\": [3.0], \"xaxis\": \"x\", \"y\": [\"Goa\"], \"yaxis\": \"y\", \"type\": \"bar\"}, {\"alignmentgroup\": \"True\", \"customdata\": [[\"Jharkhand\", 5.0]], \"hovertemplate\": \"States=%{customdata[0]}<br>Year=2018<br>Population=%{customdata[1]}<extra></extra>\", \"legendgroup\": \"Jharkhand\", \"marker\": {\"color\": \"rgb(128,177,211)\"}, \"name\": \"Jharkhand\", \"offsetgroup\": \"Jharkhand\", \"orientation\": \"h\", \"showlegend\": true, \"text\": [5.0], \"textposition\": \"auto\", \"x\": [5.0], \"xaxis\": \"x\", \"y\": [\"Jharkhand\"], \"yaxis\": \"y\", \"type\": \"bar\"}, {\"alignmentgroup\": \"True\", \"customdata\": [[\"Karnataka\", 524.0]], \"hovertemplate\": \"States=%{customdata[0]}<br>Year=2018<br>Population=%{customdata[1]}<extra></extra>\", \"legendgroup\": \"Karnataka\", \"marker\": {\"color\": \"rgb(179,222,105)\"}, \"name\": \"Karnataka\", \"offsetgroup\": \"Karnataka\", \"orientation\": \"h\", \"showlegend\": true, \"text\": [524.0], \"textposition\": \"auto\", \"x\": [524.0], \"xaxis\": \"x\", \"y\": [\"Karnataka\"], \"yaxis\": \"y\", \"type\": \"bar\"}, {\"alignmentgroup\": \"True\", \"customdata\": [[\"Kerala\", 190.0]], \"hovertemplate\": \"States=%{customdata[0]}<br>Year=2018<br>Population=%{customdata[1]}<extra></extra>\", \"legendgroup\": \"Kerala\", \"marker\": {\"color\": \"rgb(102,166,30)\"}, \"name\": \"Kerala\", \"offsetgroup\": \"Kerala\", \"orientation\": \"h\", \"showlegend\": true, \"text\": [190.0], \"textposition\": \"auto\", \"x\": [190.0], \"xaxis\": \"x\", \"y\": [\"Kerala\"], \"yaxis\": \"y\", \"type\": \"bar\"}, {\"alignmentgroup\": \"True\", \"customdata\": [[\"Madhya Pradesh\", 526.0]], \"hovertemplate\": \"States=%{customdata[0]}<br>Year=2018<br>Population=%{customdata[1]}<extra></extra>\", \"legendgroup\": \"Madhya Pradesh\", \"marker\": {\"color\": \"#19D3F3\"}, \"name\": \"Madhya Pradesh\", \"offsetgroup\": \"Madhya Pradesh\", \"orientation\": \"h\", \"showlegend\": true, \"text\": [526.0], \"textposition\": \"auto\", \"x\": [526.0], \"xaxis\": \"x\", \"y\": [\"Madhya Pradesh\"], \"yaxis\": \"y\", \"type\": \"bar\"}, {\"alignmentgroup\": \"True\", \"customdata\": [[\"Maharashtra\", 312.0]], \"hovertemplate\": \"States=%{customdata[0]}<br>Year=2018<br>Population=%{customdata[1]}<extra></extra>\", \"legendgroup\": \"Maharashtra\", \"marker\": {\"color\": \"#2E91E5\"}, \"name\": \"Maharashtra\", \"offsetgroup\": \"Maharashtra\", \"orientation\": \"h\", \"showlegend\": true, \"text\": [312.0], \"textposition\": \"auto\", \"x\": [312.0], \"xaxis\": \"x\", \"y\": [\"Maharashtra\"], \"yaxis\": \"y\", \"type\": \"bar\"}, {\"alignmentgroup\": \"True\", \"customdata\": [[\"Mizoram\", 0.0]], \"hovertemplate\": \"States=%{customdata[0]}<br>Year=2018<br>Population=%{customdata[1]}<extra></extra>\", \"legendgroup\": \"Mizoram\", \"marker\": {\"color\": \"rgb(254,136,177)\"}, \"name\": \"Mizoram\", \"offsetgroup\": \"Mizoram\", \"orientation\": \"h\", \"showlegend\": true, \"text\": [0.0], \"textposition\": \"auto\", \"x\": [0.0], \"xaxis\": \"x\", \"y\": [\"Mizoram\"], \"yaxis\": \"y\", \"type\": \"bar\"}, {\"alignmentgroup\": \"True\", \"customdata\": [[\"Northern West Bengal\", 0.0]], \"hovertemplate\": \"States=%{customdata[0]}<br>Year=2018<br>Population=%{customdata[1]}<extra></extra>\", \"legendgroup\": \"Northern West Bengal\", \"marker\": {\"color\": \"#FF97FF\"}, \"name\": \"Northern West Bengal\", \"offsetgroup\": \"Northern West Bengal\", \"orientation\": \"h\", \"showlegend\": true, \"text\": [0.0], \"textposition\": \"auto\", \"x\": [0.0], \"xaxis\": \"x\", \"y\": [\"Northern West Bengal\"], \"yaxis\": \"y\", \"type\": \"bar\"}, {\"alignmentgroup\": \"True\", \"customdata\": [[\"Odisha\", 28.0]], \"hovertemplate\": \"States=%{customdata[0]}<br>Year=2018<br>Population=%{customdata[1]}<extra></extra>\", \"legendgroup\": \"Odisha\", \"marker\": {\"color\": \"#3366CC\"}, \"name\": \"Odisha\", \"offsetgroup\": \"Odisha\", \"orientation\": \"h\", \"showlegend\": true, \"text\": [28.0], \"textposition\": \"auto\", \"x\": [28.0], \"xaxis\": \"x\", \"y\": [\"Odisha\"], \"yaxis\": \"y\", \"type\": \"bar\"}, {\"alignmentgroup\": \"True\", \"customdata\": [[\"Rajasthan\", 36.0]], \"hovertemplate\": \"States=%{customdata[0]}<br>Year=2018<br>Population=%{customdata[1]}<extra></extra>\", \"legendgroup\": \"Rajasthan\", \"marker\": {\"color\": \"#17BEFC\"}, \"name\": \"Rajasthan\", \"offsetgroup\": \"Rajasthan\", \"orientation\": \"h\", \"showlegend\": true, \"text\": [36.0], \"textposition\": \"auto\", \"x\": [36.0], \"xaxis\": \"x\", \"y\": [\"Rajasthan\"], \"yaxis\": \"y\", \"type\": \"bar\"}, {\"alignmentgroup\": \"True\", \"customdata\": [[\"Sunderbans\", 88.0]], \"hovertemplate\": \"States=%{customdata[0]}<br>Year=2018<br>Population=%{customdata[1]}<extra></extra>\", \"legendgroup\": \"Sunderbans\", \"marker\": {\"color\": \"rgb(102,17,0)\"}, \"name\": \"Sunderbans\", \"offsetgroup\": \"Sunderbans\", \"orientation\": \"h\", \"showlegend\": true, \"text\": [88.0], \"textposition\": \"auto\", \"x\": [88.0], \"xaxis\": \"x\", \"y\": [\"Sunderbans\"], \"yaxis\": \"y\", \"type\": \"bar\"}, {\"alignmentgroup\": \"True\", \"customdata\": [[\"Tamil Nadu\", 264.0]], \"hovertemplate\": \"States=%{customdata[0]}<br>Year=2018<br>Population=%{customdata[1]}<extra></extra>\", \"legendgroup\": \"Tamil Nadu\", \"marker\": {\"color\": \"#00CC96\"}, \"name\": \"Tamil Nadu\", \"offsetgroup\": \"Tamil Nadu\", \"orientation\": \"h\", \"showlegend\": true, \"text\": [264.0], \"textposition\": \"auto\", \"x\": [264.0], \"xaxis\": \"x\", \"y\": [\"Tamil Nadu\"], \"yaxis\": \"y\", \"type\": \"bar\"}, {\"alignmentgroup\": \"True\", \"customdata\": [[\"Uttar Pradesh\", 173.0]], \"hovertemplate\": \"States=%{customdata[0]}<br>Year=2018<br>Population=%{customdata[1]}<extra></extra>\", \"legendgroup\": \"Uttar Pradesh\", \"marker\": {\"color\": \"#FD3216\"}, \"name\": \"Uttar Pradesh\", \"offsetgroup\": \"Uttar Pradesh\", \"orientation\": \"h\", \"showlegend\": true, \"text\": [173.0], \"textposition\": \"auto\", \"x\": [173.0], \"xaxis\": \"x\", \"y\": [\"Uttar Pradesh\"], \"yaxis\": \"y\", \"type\": \"bar\"}, {\"alignmentgroup\": \"True\", \"customdata\": [[\"Uttarakhand\", 442.0]], \"hovertemplate\": \"States=%{customdata[0]}<br>Year=2018<br>Population=%{customdata[1]}<extra></extra>\", \"legendgroup\": \"Uttarakhand\", \"marker\": {\"color\": \"rgb(253,180,98)\"}, \"name\": \"Uttarakhand\", \"offsetgroup\": \"Uttarakhand\", \"orientation\": \"h\", \"showlegend\": true, \"text\": [442.0], \"textposition\": \"auto\", \"x\": [442.0], \"xaxis\": \"x\", \"y\": [\"Uttarakhand\"], \"yaxis\": \"y\", \"type\": \"bar\"}], \"name\": \"2018\"}]);\n",
       "                        }).then(function(){\n",
       "                            \n",
       "var gd = document.getElementById('c147e2dc-da7f-4744-a33f-31b49412965e');\n",
       "var x = new MutationObserver(function (mutations, observer) {{\n",
       "        var display = window.getComputedStyle(gd).display;\n",
       "        if (!display || display === 'none') {{\n",
       "            console.log([gd, 'removed!']);\n",
       "            Plotly.purge(gd);\n",
       "            observer.disconnect();\n",
       "        }}\n",
       "}});\n",
       "\n",
       "// Listen for the removal of the full notebook cells\n",
       "var notebookContainer = gd.closest('#notebook-container');\n",
       "if (notebookContainer) {{\n",
       "    x.observe(notebookContainer, {childList: true});\n",
       "}}\n",
       "\n",
       "// Listen for the clearing of the current output cell\n",
       "var outputEl = gd.closest('.output');\n",
       "if (outputEl) {{\n",
       "    x.observe(outputEl, {childList: true});\n",
       "}}\n",
       "\n",
       "                        })                };                });            </script>        </div>"
      ]
     },
     "metadata": {},
     "output_type": "display_data"
    }
   ],
   "source": [
    "import plotly.express as px\n",
    "\n",
    "\n",
    "fig = px.bar(df, x=\"Population\", y=\"States\", color=\"States\", hover_data=['States', 'Population'], \n",
    "             text='Population', \n",
    "             animation_frame=\"Year\", range_x=[0,600], \n",
    "             color_discrete_sequence=[\"rgb(55,126,184)\", \"rgb(231,41,138)\", \"rgb(231,138,195)\", \n",
    "                                      \"#F58518\", \"rgb(179,205,227)\", \"rgb(27,158,119)\",\n",
    "                                      \"rgb(128,177,211)\", \"rgb(179,222,105)\", \"rgb(102,166,30)\",\n",
    "                                      \"#19D3F3\", \"#2E91E5\", \"rgb(254,136,177)\", \"#FF97FF\",\n",
    "                                      \"#3366CC\", \"#17BEFC\", \"rgb(102,17,0)\", \"#00CC96\", \"#FD3216\",\n",
    "                                      \"rgb(253,180,98)\"])\n",
    "\n",
    "fig.update_yaxes(categoryorder = 'total ascending')\n",
    "fig.layout.updatemenus[0].buttons[0].args[1][\"frame\"][\"duration\"] = 2000\n",
    "fig.update_traces(textposition='inside')\n",
    "#fig['layout']['updatemenus'][0]['pad']=dict(r= 10, t= 150)\n",
    "fig['layout']['sliders'][0]['pad']=dict(r= 10, t= 100,)\n",
    "fig.show()"
   ]
  },
  {
   "cell_type": "code",
   "execution_count": 16,
   "metadata": {
    "pycharm": {
     "is_executing": false
    }
   },
   "outputs": [],
   "source": [
    "import plotly.io as pio\n",
    "pio.write_html(fig, file ='../HTMLs/idiom5.html', auto_open=False)\n"
   ]
  }
 ],
 "metadata": {
  "kernelspec": {
   "display_name": "Python 3",
   "language": "python",
   "name": "python3"
  },
  "language_info": {
   "codemirror_mode": {
    "name": "ipython",
    "version": 3
   },
   "file_extension": ".py",
   "mimetype": "text/x-python",
   "name": "python",
   "nbconvert_exporter": "python",
   "pygments_lexer": "ipython3",
   "version": "3.7.9"
  },
  "pycharm": {
   "stem_cell": {
    "cell_type": "raw",
    "metadata": {
     "collapsed": false
    },
    "source": []
   }
  }
 },
 "nbformat": 4,
 "nbformat_minor": 4
}
